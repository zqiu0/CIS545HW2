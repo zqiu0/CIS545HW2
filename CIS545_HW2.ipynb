{
  "nbformat": 4,
  "nbformat_minor": 0,
  "metadata": {
    "colab": {
      "name": "CIS545 HW2",
      "provenance": [],
      "collapsed_sections": [],
      "toc_visible": true
    },
    "kernelspec": {
      "name": "python3",
      "display_name": "Python 3"
    }
  },
  "cells": [
    {
      "cell_type": "markdown",
      "metadata": {
        "id": "L1Y12dPVqHv4",
        "colab_type": "text"
      },
      "source": [
        "# CIS 545 Homework 2\n",
        "## Due 24 February, 2020 by 10pm\n",
        "### Worth 150 points in total\n",
        "\n",
        "For this assignment, we will focus on introducing you to hierarchical data stored in dataframes, graph data and traversing relationships among data. you will learn to use pandasql (cause Pandas are the our favorite animal and data science tool 🐼) and Spark. You will be using spark locally and not really on a cluster for this homework. The next homework will unleash the full power of Spark by deploying it on a cluster.\n",
        "\n",
        "For the second section of assignment, we will focus on graph data.  Many real-world datasets are, or can be modeled by, graphs (or trees which are special cases of graphs).  Examples include:\n",
        "\n",
        "* Networks (social networks, the Web, the connectome, the Internet, traffic networks, …)\n",
        "* Sets of data in which some of the data is more closely connected than other parts of the data (edges may represent weighted similarity or affinity)\n",
        "* Phylogenetic trees, grammars, etc.\n",
        "\n",
        "**Before you begin:** \n",
        "This homework is longer than the last one so please start early and come to office hours with questions!\n",
        "\n",
        "**PLEASE READ THE FAQ** as you do this assignment! It's pinned on Piazza and us TA's work really hard to keep it updated with everything you might need to know or anything we might have failed to specify. Writing these HWs and test cases gets tricky since students always end up implementing solutions that we did not anticipate and thus could not have prepared the grader correcty for.\n",
        "\n",
        "It makes us really sad to tell you that you should've read the FAQ when you come to office hours or post on piazza saying that you've been stuck one part for a really long time. It'll also make you sad when you realize the answer was already sitting there in the FAQ. Please, read it. Also, please read the directions carefully!\n"
      ]
    },
    {
      "cell_type": "markdown",
      "metadata": {
        "id": "zsMMQ1RnqoYw",
        "colab_type": "text"
      },
      "source": [
        "### Libraries and Setup Jargon!\n",
        "Run the following  cells to setup the notebook. When prompted for a selection, select the number that is associated with java 8"
      ]
    },
    {
      "cell_type": "code",
      "metadata": {
        "id": "V5Ea650lhvf2",
        "colab_type": "code",
        "outputId": "7dbc0e73-566b-40d8-b0bf-36c8cd669662",
        "colab": {
          "base_uri": "https://localhost:8080/",
          "height": 1000
        }
      },
      "source": [
        "! sudo apt install openjdk-8-jdk\n",
        "! sudo update-alternatives --config java"
      ],
      "execution_count": 0,
      "outputs": [
        {
          "output_type": "stream",
          "text": [
            "Reading package lists... Done\n",
            "Building dependency tree       \n",
            "Reading state information... Done\n",
            "The following package was automatically installed and is no longer required:\n",
            "  libnvidia-common-430\n",
            "Use 'sudo apt autoremove' to remove it.\n",
            "The following additional packages will be installed:\n",
            "  fonts-dejavu-core fonts-dejavu-extra libatk-wrapper-java\n",
            "  libatk-wrapper-java-jni libgail-common libgail18 libgtk2.0-0 libgtk2.0-bin\n",
            "  libgtk2.0-common libxxf86dga1 openjdk-8-jre x11-utils\n",
            "Suggested packages:\n",
            "  gvfs openjdk-8-demo openjdk-8-source visualvm icedtea-8-plugin mesa-utils\n",
            "The following NEW packages will be installed:\n",
            "  fonts-dejavu-core fonts-dejavu-extra libatk-wrapper-java\n",
            "  libatk-wrapper-java-jni libgail-common libgail18 libgtk2.0-0 libgtk2.0-bin\n",
            "  libgtk2.0-common libxxf86dga1 openjdk-8-jdk openjdk-8-jre x11-utils\n",
            "0 upgraded, 13 newly installed, 0 to remove and 25 not upgraded.\n",
            "Need to get 6,970 kB of archives.\n",
            "After this operation, 20.0 MB of additional disk space will be used.\n",
            "Get:1 http://archive.ubuntu.com/ubuntu bionic/main amd64 libxxf86dga1 amd64 2:1.1.4-1 [13.7 kB]\n",
            "Get:2 http://archive.ubuntu.com/ubuntu bionic/main amd64 fonts-dejavu-core all 2.37-1 [1,041 kB]\n",
            "Get:3 http://archive.ubuntu.com/ubuntu bionic/main amd64 fonts-dejavu-extra all 2.37-1 [1,953 kB]\n",
            "Get:4 http://archive.ubuntu.com/ubuntu bionic/main amd64 x11-utils amd64 7.7+3build1 [196 kB]\n",
            "Get:5 http://archive.ubuntu.com/ubuntu bionic/main amd64 libatk-wrapper-java all 0.33.3-20ubuntu0.1 [34.7 kB]\n",
            "Get:6 http://archive.ubuntu.com/ubuntu bionic/main amd64 libatk-wrapper-java-jni amd64 0.33.3-20ubuntu0.1 [28.3 kB]\n",
            "Get:7 http://archive.ubuntu.com/ubuntu bionic/main amd64 libgtk2.0-common all 2.24.32-1ubuntu1 [125 kB]\n",
            "Get:8 http://archive.ubuntu.com/ubuntu bionic/main amd64 libgtk2.0-0 amd64 2.24.32-1ubuntu1 [1,769 kB]\n",
            "Get:9 http://archive.ubuntu.com/ubuntu bionic/main amd64 libgail18 amd64 2.24.32-1ubuntu1 [14.2 kB]\n",
            "Get:10 http://archive.ubuntu.com/ubuntu bionic/main amd64 libgail-common amd64 2.24.32-1ubuntu1 [112 kB]\n",
            "Get:11 http://archive.ubuntu.com/ubuntu bionic/main amd64 libgtk2.0-bin amd64 2.24.32-1ubuntu1 [7,536 B]\n",
            "Get:12 http://archive.ubuntu.com/ubuntu bionic-updates/universe amd64 openjdk-8-jre amd64 8u242-b08-0ubuntu3~18.04 [69.7 kB]\n",
            "Get:13 http://archive.ubuntu.com/ubuntu bionic-updates/universe amd64 openjdk-8-jdk amd64 8u242-b08-0ubuntu3~18.04 [1,606 kB]\n",
            "Fetched 6,970 kB in 1s (6,650 kB/s)\n",
            "debconf: unable to initialize frontend: Dialog\n",
            "debconf: (No usable dialog-like program is installed, so the dialog based frontend cannot be used. at /usr/share/perl5/Debconf/FrontEnd/Dialog.pm line 76, <> line 13.)\n",
            "debconf: falling back to frontend: Readline\n",
            "debconf: unable to initialize frontend: Readline\n",
            "debconf: (This frontend requires a controlling tty.)\n",
            "debconf: falling back to frontend: Teletype\n",
            "dpkg-preconfigure: unable to re-open stdin: \n",
            "Selecting previously unselected package libxxf86dga1:amd64.\n",
            "(Reading database ... 134443 files and directories currently installed.)\n",
            "Preparing to unpack .../00-libxxf86dga1_2%3a1.1.4-1_amd64.deb ...\n",
            "Unpacking libxxf86dga1:amd64 (2:1.1.4-1) ...\n",
            "Selecting previously unselected package fonts-dejavu-core.\n",
            "Preparing to unpack .../01-fonts-dejavu-core_2.37-1_all.deb ...\n",
            "Unpacking fonts-dejavu-core (2.37-1) ...\n",
            "Selecting previously unselected package fonts-dejavu-extra.\n",
            "Preparing to unpack .../02-fonts-dejavu-extra_2.37-1_all.deb ...\n",
            "Unpacking fonts-dejavu-extra (2.37-1) ...\n",
            "Selecting previously unselected package x11-utils.\n",
            "Preparing to unpack .../03-x11-utils_7.7+3build1_amd64.deb ...\n",
            "Unpacking x11-utils (7.7+3build1) ...\n",
            "Selecting previously unselected package libatk-wrapper-java.\n",
            "Preparing to unpack .../04-libatk-wrapper-java_0.33.3-20ubuntu0.1_all.deb ...\n",
            "Unpacking libatk-wrapper-java (0.33.3-20ubuntu0.1) ...\n",
            "Selecting previously unselected package libatk-wrapper-java-jni:amd64.\n",
            "Preparing to unpack .../05-libatk-wrapper-java-jni_0.33.3-20ubuntu0.1_amd64.deb ...\n",
            "Unpacking libatk-wrapper-java-jni:amd64 (0.33.3-20ubuntu0.1) ...\n",
            "Selecting previously unselected package libgtk2.0-common.\n",
            "Preparing to unpack .../06-libgtk2.0-common_2.24.32-1ubuntu1_all.deb ...\n",
            "Unpacking libgtk2.0-common (2.24.32-1ubuntu1) ...\n",
            "Selecting previously unselected package libgtk2.0-0:amd64.\n",
            "Preparing to unpack .../07-libgtk2.0-0_2.24.32-1ubuntu1_amd64.deb ...\n",
            "Unpacking libgtk2.0-0:amd64 (2.24.32-1ubuntu1) ...\n",
            "Selecting previously unselected package libgail18:amd64.\n",
            "Preparing to unpack .../08-libgail18_2.24.32-1ubuntu1_amd64.deb ...\n",
            "Unpacking libgail18:amd64 (2.24.32-1ubuntu1) ...\n",
            "Selecting previously unselected package libgail-common:amd64.\n",
            "Preparing to unpack .../09-libgail-common_2.24.32-1ubuntu1_amd64.deb ...\n",
            "Unpacking libgail-common:amd64 (2.24.32-1ubuntu1) ...\n",
            "Selecting previously unselected package libgtk2.0-bin.\n",
            "Preparing to unpack .../10-libgtk2.0-bin_2.24.32-1ubuntu1_amd64.deb ...\n",
            "Unpacking libgtk2.0-bin (2.24.32-1ubuntu1) ...\n",
            "Selecting previously unselected package openjdk-8-jre:amd64.\n",
            "Preparing to unpack .../11-openjdk-8-jre_8u242-b08-0ubuntu3~18.04_amd64.deb ...\n",
            "Unpacking openjdk-8-jre:amd64 (8u242-b08-0ubuntu3~18.04) ...\n",
            "Selecting previously unselected package openjdk-8-jdk:amd64.\n",
            "Preparing to unpack .../12-openjdk-8-jdk_8u242-b08-0ubuntu3~18.04_amd64.deb ...\n",
            "Unpacking openjdk-8-jdk:amd64 (8u242-b08-0ubuntu3~18.04) ...\n",
            "Setting up libgtk2.0-common (2.24.32-1ubuntu1) ...\n",
            "Setting up fonts-dejavu-core (2.37-1) ...\n",
            "Setting up libxxf86dga1:amd64 (2:1.1.4-1) ...\n",
            "Setting up fonts-dejavu-extra (2.37-1) ...\n",
            "Setting up libgtk2.0-0:amd64 (2.24.32-1ubuntu1) ...\n",
            "Setting up libgail18:amd64 (2.24.32-1ubuntu1) ...\n",
            "Setting up x11-utils (7.7+3build1) ...\n",
            "Setting up libgail-common:amd64 (2.24.32-1ubuntu1) ...\n",
            "Setting up libatk-wrapper-java (0.33.3-20ubuntu0.1) ...\n",
            "Setting up libgtk2.0-bin (2.24.32-1ubuntu1) ...\n",
            "Setting up libatk-wrapper-java-jni:amd64 (0.33.3-20ubuntu0.1) ...\n",
            "Setting up openjdk-8-jre:amd64 (8u242-b08-0ubuntu3~18.04) ...\n",
            "update-alternatives: using /usr/lib/jvm/java-8-openjdk-amd64/jre/bin/policytool to provide /usr/bin/policytool (policytool) in auto mode\n",
            "Setting up openjdk-8-jdk:amd64 (8u242-b08-0ubuntu3~18.04) ...\n",
            "update-alternatives: using /usr/lib/jvm/java-8-openjdk-amd64/bin/appletviewer to provide /usr/bin/appletviewer (appletviewer) in auto mode\n",
            "update-alternatives: using /usr/lib/jvm/java-8-openjdk-amd64/bin/jconsole to provide /usr/bin/jconsole (jconsole) in auto mode\n",
            "Processing triggers for man-db (2.8.3-2ubuntu0.1) ...\n",
            "Processing triggers for hicolor-icon-theme (0.17-2) ...\n",
            "Processing triggers for fontconfig (2.12.6-0ubuntu2) ...\n",
            "Processing triggers for mime-support (3.60ubuntu1) ...\n",
            "Processing triggers for libc-bin (2.27-3ubuntu1) ...\n",
            "/sbin/ldconfig.real: /usr/local/lib/python3.6/dist-packages/ideep4py/lib/libmkldnn.so.0 is not a symbolic link\n",
            "\n",
            "There are 2 choices for the alternative java (providing /usr/bin/java).\n",
            "\n",
            "  Selection    Path                                            Priority   Status\n",
            "------------------------------------------------------------\n",
            "* 0            /usr/lib/jvm/java-11-openjdk-amd64/bin/java      1111      auto mode\n",
            "  1            /usr/lib/jvm/java-11-openjdk-amd64/bin/java      1111      manual mode\n",
            "  2            /usr/lib/jvm/java-8-openjdk-amd64/jre/bin/java   1081      manual mode\n",
            "\n",
            "Press <enter> to keep the current choice[*], or type selection number: 2\n",
            "update-alternatives: using /usr/lib/jvm/java-8-openjdk-amd64/jre/bin/java to provide /usr/bin/java (java) in manual mode\n"
          ],
          "name": "stdout"
        }
      ]
    },
    {
      "cell_type": "code",
      "metadata": {
        "id": "WgAjz2AyqvmA",
        "colab_type": "code",
        "colab": {}
      },
      "source": [
        "%%capture\n",
        "!pip3 install penngrader\n",
        "\n",
        "from penngrader.grader import *"
      ],
      "execution_count": 0,
      "outputs": []
    },
    {
      "cell_type": "markdown",
      "metadata": {
        "id": "YLVCSFBErk_A",
        "colab_type": "text"
      },
      "source": [
        "VERY IMPORTANT : Enter your **8 digit Penn ID** in the student id field below"
      ]
    },
    {
      "cell_type": "code",
      "metadata": {
        "id": "9ucPnPp25tgM",
        "colab_type": "code",
        "colab": {}
      },
      "source": [
        "#PLEASE ENSURE YOUR PENN-ID IS ENTERED CORRECTLY. IF NOT, THE AUTOGRADER WON'T KNOW WHO \n",
        "#TO ASSIGN POINTS TO YOU IN OUR BACKEND\n",
        "STUDENT_ID =  0"
      ],
      "execution_count": 0,
      "outputs": []
    },
    {
      "cell_type": "code",
      "metadata": {
        "id": "A8YZ-1NV6Du4",
        "colab_type": "code",
        "outputId": "5e1c3887-7daf-417e-a0da-6122cf86f904",
        "colab": {
          "base_uri": "https://localhost:8080/",
          "height": 69
        }
      },
      "source": [
        "grader = PennGrader(homework_id = 'CIS545_Spring_2020_HW2', student_id = STUDENT_ID)"
      ],
      "execution_count": 0,
      "outputs": [
        {
          "output_type": "stream",
          "text": [
            "PennGrader initialized with Student ID: 0\n",
            "\n",
            "Make sure this correct or we will not be able to store your grade\n"
          ],
          "name": "stdout"
        }
      ]
    },
    {
      "cell_type": "markdown",
      "metadata": {
        "id": "EH4yd-ojirOm",
        "colab_type": "text"
      },
      "source": [
        "# Section 1: Stack Exchange Data"
      ]
    },
    {
      "cell_type": "markdown",
      "metadata": {
        "id": "lTKXdSzflNcM",
        "colab_type": "text"
      },
      "source": [
        "## Exploring the Stack Exchange dataset\n",
        "\n",
        "<img src = \"https://cdn.sstatic.net/Sites/stackoverflow/company/img/logos/se/se-logo.png?v=dd7153fcc7fa\" width= \"600\" align =\"center\"/>\n",
        "\n",
        "To survive as a student at Penn , you've certainly used Stack Exchange or Stack Overflow, as a source for all your technical queries. Stack Exchange looks a lot like a social network, it has the following pieces of information to tie it all together:\n",
        "\n",
        "\n",
        "*   Users: All stack exchange users including admins etc. Sad little Penn students are included here.\n",
        "\n",
        "*   Posts: The questions the users post and any follow ups\n",
        "\n",
        "*   Comments: As the name suggests, these are comments on posts\n",
        "\n",
        "*   Votes: Up/Downvotes \n",
        "\n",
        "*   Badges: Rewards you earn for being a good samaritan on the stack exchange platform.\n",
        "\n",
        "\n",
        "For this homework we'll be parsing this data (dumped in XML) into dataframes and relations, and then exploring how to query and assemble the tables into results.  You'll get to exercise your skills in Pandas, SQL, and even something called PandaSQL!\n",
        "\n",
        "### Dataset Source\n",
        "\n",
        "We are going to use the XML dataset available at \n",
        "[StackExchange Dataset](https://archive.org/details/stackexchange).  \n",
        "\n",
        "A visual representation of the data and how they are linked together:\n",
        "\n",
        "<img src=\"https://i.stack.imgur.com/AyIkW.png\">"
      ]
    },
    {
      "cell_type": "code",
      "metadata": {
        "id": "QOOlQg2wnlGb",
        "colab_type": "code",
        "colab": {}
      },
      "source": [
        "### Install required packages\n",
        "%%capture\n",
        "!pip3 install lxml\n",
        "!pip install pandasql\n",
        "!pip install googledrivedownloader"
      ],
      "execution_count": 0,
      "outputs": []
    },
    {
      "cell_type": "code",
      "metadata": {
        "id": "JA7lyPw3YfEr",
        "colab_type": "code",
        "outputId": "5c04eaae-1fc3-497e-c48b-d61f931204a7",
        "colab": {
          "base_uri": "https://localhost:8080/",
          "height": 52
        }
      },
      "source": [
        "import numpy as np\n",
        "import pandas as pd\n",
        "import matplotlib\n",
        "\n",
        "import gc\n",
        "import time\n",
        "import warnings\n",
        "\n",
        "import json # JSON parsing\n",
        "from lxml import etree # HTML parsing\n",
        "import time # Time conversions\n",
        "from lxml import etree # XML Parser\n",
        "import pandasql as ps #SQL on Pandas Dataframe\n",
        "\n",
        "import nltk\n",
        "nltk.download('punkt')\n",
        "\n",
        "from wordcloud import WordCloud\n",
        "import matplotlib.pyplot as plt\n",
        "\n",
        "from collections import Counter"
      ],
      "execution_count": 0,
      "outputs": [
        {
          "output_type": "stream",
          "text": [
            "[nltk_data] Downloading package punkt to /root/nltk_data...\n",
            "[nltk_data]   Package punkt is already up-to-date!\n"
          ],
          "name": "stdout"
        }
      ]
    },
    {
      "cell_type": "markdown",
      "metadata": {
        "id": "5OTWuQBjWKw6",
        "colab_type": "text"
      },
      "source": [
        "## Part 1: Steps to load data from Google Drive\n",
        "\n",
        "\n",
        "We have provided a copy of the \"Data Science Stack Exchange\" data, which we thought might provide some interesting insights about the very field you are studying!\n",
        "\n",
        "This is shared in Google Drive because it's (relatively) fast and inexpensive to copy data from GDrive to Colab.  There are multiple files:\n",
        "\n",
        "* Users.xml:  these are the users of Stack Exchange, including profile info.\n",
        "* Posts.xml:  these are the posts to Stack Exchange made by users.\n",
        "* PostHistory.xml: history of posts.\n",
        "* PostLinks.xml: hyperlinks from posts.\n",
        "* Comments.xml:  users make comments on posts.\n",
        "* Tags.xml:  posts can be marked with *tags* such as \"regression\".\n",
        "* Votes.xml:  posts can earn votes.\n",
        "* Badges.xml:  these are the \"badges\" earned by individual users.\n",
        "\n",
        "\n"
      ]
    },
    {
      "cell_type": "markdown",
      "metadata": {
        "id": "GF8H_EZIZFNK",
        "colab_type": "text"
      },
      "source": [
        "### 1.1 Loading Badges.xml\n",
        "*  The Badges.xml file has been made public for the access of anyone with a valid Penn email address.\n",
        "* Running the below cell will download the Badges.xml file into your drive. \n",
        "* You will be able to access the file with path as '***/content/Badges.xml***'"
      ]
    },
    {
      "cell_type": "code",
      "metadata": {
        "id": "VuuC2d5l8X7o",
        "colab_type": "code",
        "outputId": "93b65388-6130-489a-abd6-55085eb92566",
        "colab": {
          "base_uri": "https://localhost:8080/",
          "height": 35
        }
      },
      "source": [
        "from google_drive_downloader import GoogleDriveDownloader as gdd\n",
        "\n",
        "gdd.download_file_from_google_drive(file_id='18B966b7hlwjgNmVUeQASuXTC52czZHxm',\n",
        "                                    dest_path='/content/Badges.xml')"
      ],
      "execution_count": 0,
      "outputs": [
        {
          "output_type": "stream",
          "text": [
            "Downloading 18B966b7hlwjgNmVUeQASuXTC52czZHxm into /content/Badges.xml... Done.\n"
          ],
          "name": "stdout"
        }
      ]
    },
    {
      "cell_type": "markdown",
      "metadata": {
        "id": "jpxDzwXwZbEB",
        "colab_type": "text"
      },
      "source": [
        "##### Creating '*badges_df*' Pandas Dataframe from a list of JSON Objects\n",
        "\n",
        "* Create a list variable with name *badge_list*.\n",
        "* Use the XML parser etree's parse() function to parse the Badges.xml file which you have downloaded in the above code.\n",
        "* Parse the xml file and append each row of the Badges.xml file to the *badge_list*.\n",
        "* Now, Use *badge_list* to create a Pandas Dataframe with name badges_df.\n",
        "* Make sure that the columns have the same dtypes given in the data documentation.\n",
        "\n"
      ]
    },
    {
      "cell_type": "code",
      "metadata": {
        "id": "r0gy_S9tZdWE",
        "colab_type": "code",
        "outputId": "62ed5841-d273-4247-f36e-11f6ee503dcd",
        "colab": {
          "base_uri": "https://localhost:8080/",
          "height": 415
        }
      },
      "source": [
        "tree = etree.parse('Badges.xml')\n",
        "root = tree.getroot()\n",
        "badge_list = []\n",
        "\n",
        "for row in root:\n",
        "  badge_list.append(row)\n",
        "\n",
        "df_col = root[0].keys()\n",
        "badges_df = pd.DataFrame(columns = df_col)\n",
        "\n",
        "def build_series(elem, col):\n",
        "  l = []\n",
        "  for i in range(len(col)):\n",
        "    l.append(elem.get(col[i]))\n",
        "  return pd.Series(l, index = col)\n",
        "\n",
        "for i in range(80):\n",
        "  row = badge_list[i]\n",
        "  badges_df = badges_df.append(build_series(row, df_col), ignore_index = True)\n",
        "\n",
        "badges_df['Id'] = badges_df['Id'].astype(int)\n",
        "badges_df['UserId'] = badges_df['UserId'].astype(int)\n",
        "badges_df['Date'] = pd.to_datetime(badges_df['Date'])\n",
        "badges_df"
      ],
      "execution_count": 0,
      "outputs": [
        {
          "output_type": "execute_result",
          "data": {
            "text/html": [
              "<div>\n",
              "<style scoped>\n",
              "    .dataframe tbody tr th:only-of-type {\n",
              "        vertical-align: middle;\n",
              "    }\n",
              "\n",
              "    .dataframe tbody tr th {\n",
              "        vertical-align: top;\n",
              "    }\n",
              "\n",
              "    .dataframe thead th {\n",
              "        text-align: right;\n",
              "    }\n",
              "</style>\n",
              "<table border=\"1\" class=\"dataframe\">\n",
              "  <thead>\n",
              "    <tr style=\"text-align: right;\">\n",
              "      <th></th>\n",
              "      <th>Id</th>\n",
              "      <th>UserId</th>\n",
              "      <th>Name</th>\n",
              "      <th>Date</th>\n",
              "      <th>Class</th>\n",
              "      <th>TagBased</th>\n",
              "    </tr>\n",
              "  </thead>\n",
              "  <tbody>\n",
              "    <tr>\n",
              "      <th>0</th>\n",
              "      <td>1</td>\n",
              "      <td>1</td>\n",
              "      <td>Informed</td>\n",
              "      <td>2014-05-13 23:06:44.683</td>\n",
              "      <td>3</td>\n",
              "      <td>False</td>\n",
              "    </tr>\n",
              "    <tr>\n",
              "      <th>1</th>\n",
              "      <td>2</td>\n",
              "      <td>2</td>\n",
              "      <td>Autobiographer</td>\n",
              "      <td>2014-05-13 23:11:04.153</td>\n",
              "      <td>3</td>\n",
              "      <td>False</td>\n",
              "    </tr>\n",
              "    <tr>\n",
              "      <th>2</th>\n",
              "      <td>3</td>\n",
              "      <td>4</td>\n",
              "      <td>Autobiographer</td>\n",
              "      <td>2014-05-13 23:20:53.547</td>\n",
              "      <td>3</td>\n",
              "      <td>False</td>\n",
              "    </tr>\n",
              "    <tr>\n",
              "      <th>3</th>\n",
              "      <td>4</td>\n",
              "      <td>5</td>\n",
              "      <td>Autobiographer</td>\n",
              "      <td>2014-05-13 23:20:53.547</td>\n",
              "      <td>3</td>\n",
              "      <td>False</td>\n",
              "    </tr>\n",
              "    <tr>\n",
              "      <th>4</th>\n",
              "      <td>5</td>\n",
              "      <td>8</td>\n",
              "      <td>Autobiographer</td>\n",
              "      <td>2014-05-13 23:20:53.547</td>\n",
              "      <td>3</td>\n",
              "      <td>False</td>\n",
              "    </tr>\n",
              "    <tr>\n",
              "      <th>...</th>\n",
              "      <td>...</td>\n",
              "      <td>...</td>\n",
              "      <td>...</td>\n",
              "      <td>...</td>\n",
              "      <td>...</td>\n",
              "      <td>...</td>\n",
              "    </tr>\n",
              "    <tr>\n",
              "      <th>75</th>\n",
              "      <td>76</td>\n",
              "      <td>70</td>\n",
              "      <td>Informed</td>\n",
              "      <td>2014-05-14 01:50:35.440</td>\n",
              "      <td>3</td>\n",
              "      <td>False</td>\n",
              "    </tr>\n",
              "    <tr>\n",
              "      <th>76</th>\n",
              "      <td>77</td>\n",
              "      <td>5</td>\n",
              "      <td>Informed</td>\n",
              "      <td>2014-05-14 01:55:55.893</td>\n",
              "      <td>3</td>\n",
              "      <td>False</td>\n",
              "    </tr>\n",
              "    <tr>\n",
              "      <th>77</th>\n",
              "      <td>78</td>\n",
              "      <td>72</td>\n",
              "      <td>Autobiographer</td>\n",
              "      <td>2014-05-14 01:56:33.713</td>\n",
              "      <td>3</td>\n",
              "      <td>False</td>\n",
              "    </tr>\n",
              "    <tr>\n",
              "      <th>78</th>\n",
              "      <td>79</td>\n",
              "      <td>73</td>\n",
              "      <td>Autobiographer</td>\n",
              "      <td>2014-05-14 01:56:33.713</td>\n",
              "      <td>3</td>\n",
              "      <td>False</td>\n",
              "    </tr>\n",
              "    <tr>\n",
              "      <th>79</th>\n",
              "      <td>80</td>\n",
              "      <td>3</td>\n",
              "      <td>Critic</td>\n",
              "      <td>2014-05-14 01:56:33.713</td>\n",
              "      <td>3</td>\n",
              "      <td>False</td>\n",
              "    </tr>\n",
              "  </tbody>\n",
              "</table>\n",
              "<p>80 rows × 6 columns</p>\n",
              "</div>"
            ],
            "text/plain": [
              "    Id  UserId            Name                    Date Class TagBased\n",
              "0    1       1        Informed 2014-05-13 23:06:44.683     3    False\n",
              "1    2       2  Autobiographer 2014-05-13 23:11:04.153     3    False\n",
              "2    3       4  Autobiographer 2014-05-13 23:20:53.547     3    False\n",
              "3    4       5  Autobiographer 2014-05-13 23:20:53.547     3    False\n",
              "4    5       8  Autobiographer 2014-05-13 23:20:53.547     3    False\n",
              "..  ..     ...             ...                     ...   ...      ...\n",
              "75  76      70        Informed 2014-05-14 01:50:35.440     3    False\n",
              "76  77       5        Informed 2014-05-14 01:55:55.893     3    False\n",
              "77  78      72  Autobiographer 2014-05-14 01:56:33.713     3    False\n",
              "78  79      73  Autobiographer 2014-05-14 01:56:33.713     3    False\n",
              "79  80       3          Critic 2014-05-14 01:56:33.713     3    False\n",
              "\n",
              "[80 rows x 6 columns]"
            ]
          },
          "metadata": {
            "tags": []
          },
          "execution_count": 21
        }
      ]
    },
    {
      "cell_type": "markdown",
      "metadata": {
        "id": "VMXcEU-QjNcE",
        "colab_type": "text"
      },
      "source": [
        "Because the dataframe is a little too large for our autograder, only submit the first 75 rows"
      ]
    },
    {
      "cell_type": "code",
      "metadata": {
        "id": "H-ajOrZ6cw5V",
        "colab_type": "code",
        "outputId": "60b9c0fa-b132-4446-b0f1-54d7c1bc47a9",
        "colab": {
          "base_uri": "https://localhost:8080/",
          "height": 69
        }
      },
      "source": [
        "# Run this cell to submit to PennGrader!\n",
        "grader.grade(test_case_id = 'load_badges', answer = badges_df[:75])"
      ],
      "execution_count": 0,
      "outputs": [
        {
          "output_type": "stream",
          "text": [
            "Correct! You earned 7/7 points. You are a star!\n",
            "\n",
            "Your submission has been successfully recorded in the gradebook.\n"
          ],
          "name": "stdout"
        }
      ]
    },
    {
      "cell_type": "markdown",
      "metadata": {
        "id": "AEJ1Oa5adKVy",
        "colab_type": "text"
      },
      "source": [
        "### 1.2 Loading Users.xml\n",
        "*  The Users.xml file has been made public for the access of anyone with a valid UPenn email address.\n",
        "* Running the below cell will download the Users.xml file into your drive. \n",
        "* You will be able to access the file with path as '***/content/Users.xml***'"
      ]
    },
    {
      "cell_type": "code",
      "metadata": {
        "id": "x0T3ULT6doid",
        "colab_type": "code",
        "outputId": "a20cf46f-34f5-4773-9b32-76f1cae8cd7c",
        "colab": {
          "base_uri": "https://localhost:8080/",
          "height": 35
        }
      },
      "source": [
        "gdd.download_file_from_google_drive(file_id='1T-SGFULQIkpg6LN5XLhBfiXhcAWNgCLe',\n",
        "                                    dest_path='/content/Users.xml')"
      ],
      "execution_count": 0,
      "outputs": [
        {
          "output_type": "stream",
          "text": [
            "Downloading 1T-SGFULQIkpg6LN5XLhBfiXhcAWNgCLe into /content/Users.xml... Done.\n"
          ],
          "name": "stdout"
        }
      ]
    },
    {
      "cell_type": "markdown",
      "metadata": {
        "id": "TzmY5e3GcuZJ",
        "colab_type": "text"
      },
      "source": [
        "##### Creating '*users_df*' Pandas Dataframe from a list of JSON Objects\n",
        "\n",
        "* Create a list variable with name *users_list*.\n",
        "* Use the XML parser etree's parse() function to parse the Users.xml file you have just downloaded.\n",
        "* Parse the xml file and append each row of the Users.xml file as a json object to the *users_list*.\n",
        "* Now, Use *users_list* to create a Pandas Dataframe with name users_df.\n",
        "* Make sure that the columns have the same dtypes given in the data documentation. \n"
      ]
    },
    {
      "cell_type": "code",
      "metadata": {
        "id": "B3ZATej5bJIz",
        "colab_type": "code",
        "outputId": "f084f37b-d2d7-4c6f-9b03-2969370757e1",
        "colab": {
          "base_uri": "https://localhost:8080/",
          "height": 713
        }
      },
      "source": [
        "tree = etree.parse('Users.xml')\n",
        "root = tree.getroot()\n",
        "users_list = []\n",
        "\n",
        "for row in root:\n",
        "  users_list.append(row)\n",
        "\n",
        "\n",
        "df_col = ['Id', 'Reputation', 'CreationDate', 'DisplayName', 'LastAccessDate', \n",
        "          'WebsiteUrl', 'Location', 'AboutMe', 'Views', 'UpVotes', 'DownVotes',\n",
        "          'ProfileImageUrl', 'AccountId']\n",
        "users_df = pd.DataFrame(columns = df_col)\n",
        "\n",
        "for i in range(len(root)):\n",
        "  row = users_list[i]\n",
        "  users_df = users_df.append(build_series(row, df_col), ignore_index = True)\n",
        "  \n",
        "users_df['Id'] = users_df['Id'].astype(int)\n",
        "users_df['Reputation'] = users_df['Reputation'].astype(float)\n",
        "users_df['Views'] = users_df['Views'].astype(float)\n",
        "users_df['UpVotes'] = users_df['UpVotes'].astype(float)\n",
        "users_df['DownVotes'] = users_df['DownVotes'].astype(float)\n",
        "users_df['AccountId'] = users_df['AccountId'].astype(float)\n",
        "users_df"
      ],
      "execution_count": 0,
      "outputs": [
        {
          "output_type": "execute_result",
          "data": {
            "text/html": [
              "<div>\n",
              "<style scoped>\n",
              "    .dataframe tbody tr th:only-of-type {\n",
              "        vertical-align: middle;\n",
              "    }\n",
              "\n",
              "    .dataframe tbody tr th {\n",
              "        vertical-align: top;\n",
              "    }\n",
              "\n",
              "    .dataframe thead th {\n",
              "        text-align: right;\n",
              "    }\n",
              "</style>\n",
              "<table border=\"1\" class=\"dataframe\">\n",
              "  <thead>\n",
              "    <tr style=\"text-align: right;\">\n",
              "      <th></th>\n",
              "      <th>Id</th>\n",
              "      <th>Reputation</th>\n",
              "      <th>CreationDate</th>\n",
              "      <th>DisplayName</th>\n",
              "      <th>LastAccessDate</th>\n",
              "      <th>WebsiteUrl</th>\n",
              "      <th>Location</th>\n",
              "      <th>AboutMe</th>\n",
              "      <th>Views</th>\n",
              "      <th>UpVotes</th>\n",
              "      <th>DownVotes</th>\n",
              "      <th>ProfileImageUrl</th>\n",
              "      <th>AccountId</th>\n",
              "    </tr>\n",
              "  </thead>\n",
              "  <tbody>\n",
              "    <tr>\n",
              "      <th>0</th>\n",
              "      <td>-1</td>\n",
              "      <td>1.0</td>\n",
              "      <td>2014-05-13T21:29:22.820</td>\n",
              "      <td>Community</td>\n",
              "      <td>2014-05-13T21:29:22.820</td>\n",
              "      <td>http://meta.stackexchange.com/</td>\n",
              "      <td>on the server farm</td>\n",
              "      <td>&lt;p&gt;Hi, I'm not really a person.&lt;/p&gt;\\n\\n&lt;p&gt;I'm ...</td>\n",
              "      <td>0.0</td>\n",
              "      <td>800.0</td>\n",
              "      <td>1358.0</td>\n",
              "      <td>None</td>\n",
              "      <td>-1.0</td>\n",
              "    </tr>\n",
              "    <tr>\n",
              "      <th>1</th>\n",
              "      <td>1</td>\n",
              "      <td>101.0</td>\n",
              "      <td>2014-05-13T22:58:54.810</td>\n",
              "      <td>Adam Lear</td>\n",
              "      <td>2019-06-11T19:12:27.157</td>\n",
              "      <td>None</td>\n",
              "      <td>New York, NY</td>\n",
              "      <td>\\n\\n&lt;p&gt;Developer at Stack Overflow focusing on...</td>\n",
              "      <td>493.0</td>\n",
              "      <td>0.0</td>\n",
              "      <td>0.0</td>\n",
              "      <td>https://i.stack.imgur.com/SMEGn.jpg?s=128&amp;g=1</td>\n",
              "      <td>37099.0</td>\n",
              "    </tr>\n",
              "    <tr>\n",
              "      <th>2</th>\n",
              "      <td>2</td>\n",
              "      <td>101.0</td>\n",
              "      <td>2014-05-13T22:59:19.787</td>\n",
              "      <td>Geoff Dalgas</td>\n",
              "      <td>2019-09-03T19:10:22.217</td>\n",
              "      <td>http://stackoverflow.com</td>\n",
              "      <td>Corvallis, OR</td>\n",
              "      <td>&lt;p&gt;Developer on the Stack Overflow team.  Find...</td>\n",
              "      <td>9.0</td>\n",
              "      <td>0.0</td>\n",
              "      <td>0.0</td>\n",
              "      <td>https://i.stack.imgur.com/nDllk.png</td>\n",
              "      <td>2.0</td>\n",
              "    </tr>\n",
              "    <tr>\n",
              "      <th>3</th>\n",
              "      <td>3</td>\n",
              "      <td>101.0</td>\n",
              "      <td>2014-05-13T23:15:34.483</td>\n",
              "      <td>hichris123</td>\n",
              "      <td>2019-08-01T18:06:24.597</td>\n",
              "      <td>None</td>\n",
              "      <td>None</td>\n",
              "      <td>&lt;p&gt;I'm a student interested in technology.&lt;/p&gt;...</td>\n",
              "      <td>7.0</td>\n",
              "      <td>1.0</td>\n",
              "      <td>3.0</td>\n",
              "      <td>https://i.stack.imgur.com/JVj4n.png?s=256&amp;g=1</td>\n",
              "      <td>3046327.0</td>\n",
              "    </tr>\n",
              "    <tr>\n",
              "      <th>4</th>\n",
              "      <td>4</td>\n",
              "      <td>101.0</td>\n",
              "      <td>2014-05-13T23:16:09.937</td>\n",
              "      <td>Ben Collins</td>\n",
              "      <td>2014-08-04T15:25:54.810</td>\n",
              "      <td>http://benjamincollins.com</td>\n",
              "      <td>Republic of Texas</td>\n",
              "      <td>&lt;p&gt;I work with &lt;a href=\"https://olo.com\" rel=\"...</td>\n",
              "      <td>9.0</td>\n",
              "      <td>0.0</td>\n",
              "      <td>0.0</td>\n",
              "      <td>None</td>\n",
              "      <td>2365.0</td>\n",
              "    </tr>\n",
              "    <tr>\n",
              "      <th>...</th>\n",
              "      <td>...</td>\n",
              "      <td>...</td>\n",
              "      <td>...</td>\n",
              "      <td>...</td>\n",
              "      <td>...</td>\n",
              "      <td>...</td>\n",
              "      <td>...</td>\n",
              "      <td>...</td>\n",
              "      <td>...</td>\n",
              "      <td>...</td>\n",
              "      <td>...</td>\n",
              "      <td>...</td>\n",
              "      <td>...</td>\n",
              "    </tr>\n",
              "    <tr>\n",
              "      <th>71642</th>\n",
              "      <td>86211</td>\n",
              "      <td>1.0</td>\n",
              "      <td>2019-12-01T00:00:51.197</td>\n",
              "      <td>AndyK</td>\n",
              "      <td>2019-12-01T00:15:55.827</td>\n",
              "      <td>None</td>\n",
              "      <td>None</td>\n",
              "      <td>None</td>\n",
              "      <td>0.0</td>\n",
              "      <td>0.0</td>\n",
              "      <td>0.0</td>\n",
              "      <td>https://lh6.googleusercontent.com/-I5j4JC5dLN8...</td>\n",
              "      <td>17213528.0</td>\n",
              "    </tr>\n",
              "    <tr>\n",
              "      <th>71643</th>\n",
              "      <td>86212</td>\n",
              "      <td>101.0</td>\n",
              "      <td>2019-12-01T00:52:30.680</td>\n",
              "      <td>eurieka</td>\n",
              "      <td>2019-12-01T00:52:30.680</td>\n",
              "      <td>None</td>\n",
              "      <td>United States</td>\n",
              "      <td>None</td>\n",
              "      <td>0.0</td>\n",
              "      <td>1.0</td>\n",
              "      <td>0.0</td>\n",
              "      <td>https://www.gravatar.com/avatar/188867a90b9fed...</td>\n",
              "      <td>11096710.0</td>\n",
              "    </tr>\n",
              "    <tr>\n",
              "      <th>71644</th>\n",
              "      <td>86213</td>\n",
              "      <td>1.0</td>\n",
              "      <td>2019-12-01T02:13:26.667</td>\n",
              "      <td>netra</td>\n",
              "      <td>2019-12-01T02:13:26.667</td>\n",
              "      <td>None</td>\n",
              "      <td>None</td>\n",
              "      <td>None</td>\n",
              "      <td>1.0</td>\n",
              "      <td>0.0</td>\n",
              "      <td>0.0</td>\n",
              "      <td>None</td>\n",
              "      <td>17213856.0</td>\n",
              "    </tr>\n",
              "    <tr>\n",
              "      <th>71645</th>\n",
              "      <td>86214</td>\n",
              "      <td>1.0</td>\n",
              "      <td>2019-12-01T02:36:20.817</td>\n",
              "      <td>Pat.com</td>\n",
              "      <td>2019-12-01T02:36:20.817</td>\n",
              "      <td>None</td>\n",
              "      <td>None</td>\n",
              "      <td>None</td>\n",
              "      <td>0.0</td>\n",
              "      <td>0.0</td>\n",
              "      <td>0.0</td>\n",
              "      <td>https://www.gravatar.com/avatar/22edcc5b1edff2...</td>\n",
              "      <td>13296376.0</td>\n",
              "    </tr>\n",
              "    <tr>\n",
              "      <th>71646</th>\n",
              "      <td>86215</td>\n",
              "      <td>101.0</td>\n",
              "      <td>2019-12-01T03:02:42.790</td>\n",
              "      <td>Marine Galantin</td>\n",
              "      <td>2019-12-01T03:02:42.790</td>\n",
              "      <td>None</td>\n",
              "      <td>None</td>\n",
              "      <td>&lt;p&gt;EPFL student in maths :)&lt;/p&gt;\\n\\n&lt;p&gt;enjoying...</td>\n",
              "      <td>0.0</td>\n",
              "      <td>0.0</td>\n",
              "      <td>0.0</td>\n",
              "      <td>https://graph.facebook.com/872534512905210/pic...</td>\n",
              "      <td>12131136.0</td>\n",
              "    </tr>\n",
              "  </tbody>\n",
              "</table>\n",
              "<p>71647 rows × 13 columns</p>\n",
              "</div>"
            ],
            "text/plain": [
              "          Id  ...   AccountId\n",
              "0         -1  ...        -1.0\n",
              "1          1  ...     37099.0\n",
              "2          2  ...         2.0\n",
              "3          3  ...   3046327.0\n",
              "4          4  ...      2365.0\n",
              "...      ...  ...         ...\n",
              "71642  86211  ...  17213528.0\n",
              "71643  86212  ...  11096710.0\n",
              "71644  86213  ...  17213856.0\n",
              "71645  86214  ...  13296376.0\n",
              "71646  86215  ...  12131136.0\n",
              "\n",
              "[71647 rows x 13 columns]"
            ]
          },
          "metadata": {
            "tags": []
          },
          "execution_count": 11
        }
      ]
    },
    {
      "cell_type": "markdown",
      "metadata": {
        "id": "ESo0DYCskLGp",
        "colab_type": "text"
      },
      "source": [
        "Submit the first 75 rows to the autograder"
      ]
    },
    {
      "cell_type": "code",
      "metadata": {
        "id": "3m0PiiBqiGi2",
        "colab_type": "code",
        "outputId": "5f426b2f-0b97-4d17-cf59-526f309e9730",
        "colab": {
          "base_uri": "https://localhost:8080/",
          "height": 69
        }
      },
      "source": [
        "grader.grade(test_case_id = 'load_users', answer = users_df[:75])"
      ],
      "execution_count": 0,
      "outputs": [
        {
          "output_type": "stream",
          "text": [
            "Correct! You earned 6/6 points. You are a star!\n",
            "\n",
            "Your submission has been successfully recorded in the gradebook.\n"
          ],
          "name": "stdout"
        }
      ]
    },
    {
      "cell_type": "markdown",
      "metadata": {
        "id": "AgqTa6dteCvR",
        "colab_type": "text"
      },
      "source": [
        "### 1.3 Loading Posts.xml\n",
        "*  The Posts.xml file has been made public for the access of anyone with a valid UPenn email address.\n",
        "* Running the below cell will download the Posts.xml file into your drive. \n",
        "* You will be able to access the file with path as '***/content/Posts.xml***'"
      ]
    },
    {
      "cell_type": "code",
      "metadata": {
        "id": "buecgG0MeMmM",
        "colab_type": "code",
        "outputId": "744c23de-7451-4b65-d1aa-ddf1af25e900",
        "colab": {
          "base_uri": "https://localhost:8080/",
          "height": 35
        }
      },
      "source": [
        "gdd.download_file_from_google_drive(file_id='1etuY-EjzgEfMdPCSd7NblNz0qJJpAH3b',\n",
        "                                    dest_path='/content/Posts.xml')"
      ],
      "execution_count": 0,
      "outputs": [
        {
          "output_type": "stream",
          "text": [
            "Downloading 1etuY-EjzgEfMdPCSd7NblNz0qJJpAH3b into /content/Posts.xml... Done.\n"
          ],
          "name": "stdout"
        }
      ]
    },
    {
      "cell_type": "markdown",
      "metadata": {
        "id": "tNC8JDTfeRyP",
        "colab_type": "text"
      },
      "source": [
        "##### Creating '*posts_df*' Pandas Dataframe from a list of JSON Objects\n",
        "\n",
        "* Create a list variable with name *posts_list*.\n",
        "* Use the XML parser etree's parse() function to parse the xml file using the above *Posts.xml* file you just downloaded.\n",
        "* Parse the xml file and append each row of the Posts.xml file as a json object to the *posts_list*.\n",
        "* Now, Use *posts_list* to create a Pandas Dataframe with name posts_df.\n",
        "* Make sure that the columns have the same dtypes given in the data documentation. \n"
      ]
    },
    {
      "cell_type": "code",
      "metadata": {
        "id": "Qd7o0rIPyYrq",
        "colab_type": "code",
        "outputId": "e50740cb-315d-4b43-c940-264648702292",
        "colab": {
          "base_uri": "https://localhost:8080/",
          "height": 1000
        }
      },
      "source": [
        "tree = etree.parse('Posts.xml')\n",
        "root = tree.getroot()\n",
        "posts_list = []\n",
        "\n",
        "for row in root:\n",
        "  posts_list.append(row)\n",
        "\n",
        "df_col = ['Id', 'PostTypeId', 'AcceptedAnswerId', 'ParentId', 'CreationDate',\n",
        "          'DeletionDate', 'Score', 'ViewCount', 'Body', 'OwnerUserId', \n",
        "          'OwnerDisplayName', 'LastEditorUserId', 'LastEditorDisplayName', \n",
        "          'LastEditDate', 'Title', 'Tags', 'AnswerCount', \n",
        "          'CommentCount', 'FavoriteCount', 'ClosedDate', 'CommunityOwnedDate']\n",
        "posts_df = pd.DataFrame(columns = df_col)\n",
        "\n",
        "for i in range(len(root)):\n",
        "  row = posts_list[i]\n",
        "  posts_df = posts_df.append(build_series(row, df_col), ignore_index = True)\n",
        "  \n",
        "posts_df['Id'] = posts_df['Id'].astype(int)\n",
        "posts_df['PostTypeId'] = posts_df['PostTypeId'].astype(int)\n",
        "posts_df['AcceptedAnswerId'] = posts_df['AcceptedAnswerId'].astype(float)\n",
        "posts_df['ParentId'] = posts_df['ParentId'].astype(float)\n",
        "posts_df['Score'] = posts_df['Score'].astype(int)\n",
        "\n",
        "\n",
        "posts_df['ViewCount'].fillna(0, inplace = True)\n",
        "posts_df['ViewCount'] = posts_df['ViewCount'].astype(float)\n",
        "posts_df['OwnerUserId'] = posts_df['OwnerUserId'].astype(float)\n",
        "posts_df['LastEditorUserId'] = posts_df['LastEditorUserId'].astype(float)\n",
        "\n",
        "posts_df['AnswerCount'].fillna(0, inplace = True)\n",
        "posts_df['AnswerCount'] = posts_df['AnswerCount'].astype(float)\n",
        "posts_df['CommentCount'] = posts_df['CommentCount'].astype(int)\n",
        "\n",
        "posts_df['FavoriteCount'].fillna(0, inplace = True)\n",
        "posts_df['FavoriteCount'] = posts_df['FavoriteCount'].astype(float)\n",
        "\n",
        "print(posts_df.dtypes)\n",
        "posts_df"
      ],
      "execution_count": 0,
      "outputs": [
        {
          "output_type": "stream",
          "text": [
            "Id                         int64\n",
            "PostTypeId                 int64\n",
            "AcceptedAnswerId         float64\n",
            "ParentId                 float64\n",
            "CreationDate              object\n",
            "DeletionDate              object\n",
            "Score                      int64\n",
            "ViewCount                float64\n",
            "Body                      object\n",
            "OwnerUserId              float64\n",
            "OwnerDisplayName          object\n",
            "LastEditorUserId         float64\n",
            "LastEditorDisplayName     object\n",
            "LastEditDate              object\n",
            "Title                     object\n",
            "Tags                      object\n",
            "AnswerCount              float64\n",
            "CommentCount               int64\n",
            "FavoriteCount            float64\n",
            "ClosedDate                object\n",
            "CommunityOwnedDate        object\n",
            "dtype: object\n"
          ],
          "name": "stdout"
        },
        {
          "output_type": "execute_result",
          "data": {
            "text/html": [
              "<div>\n",
              "<style scoped>\n",
              "    .dataframe tbody tr th:only-of-type {\n",
              "        vertical-align: middle;\n",
              "    }\n",
              "\n",
              "    .dataframe tbody tr th {\n",
              "        vertical-align: top;\n",
              "    }\n",
              "\n",
              "    .dataframe thead th {\n",
              "        text-align: right;\n",
              "    }\n",
              "</style>\n",
              "<table border=\"1\" class=\"dataframe\">\n",
              "  <thead>\n",
              "    <tr style=\"text-align: right;\">\n",
              "      <th></th>\n",
              "      <th>Id</th>\n",
              "      <th>PostTypeId</th>\n",
              "      <th>AcceptedAnswerId</th>\n",
              "      <th>ParentId</th>\n",
              "      <th>CreationDate</th>\n",
              "      <th>DeletionDate</th>\n",
              "      <th>Score</th>\n",
              "      <th>ViewCount</th>\n",
              "      <th>Body</th>\n",
              "      <th>OwnerUserId</th>\n",
              "      <th>OwnerDisplayName</th>\n",
              "      <th>LastEditorUserId</th>\n",
              "      <th>LastEditorDisplayName</th>\n",
              "      <th>LastEditDate</th>\n",
              "      <th>Title</th>\n",
              "      <th>Tags</th>\n",
              "      <th>AnswerCount</th>\n",
              "      <th>CommentCount</th>\n",
              "      <th>FavoriteCount</th>\n",
              "      <th>ClosedDate</th>\n",
              "      <th>CommunityOwnedDate</th>\n",
              "    </tr>\n",
              "  </thead>\n",
              "  <tbody>\n",
              "    <tr>\n",
              "      <th>0</th>\n",
              "      <td>5</td>\n",
              "      <td>1</td>\n",
              "      <td>NaN</td>\n",
              "      <td>NaN</td>\n",
              "      <td>2014-05-13T23:58:30.457</td>\n",
              "      <td>None</td>\n",
              "      <td>8</td>\n",
              "      <td>643.0</td>\n",
              "      <td>&lt;p&gt;I've always been interested in machine lear...</td>\n",
              "      <td>5.0</td>\n",
              "      <td>None</td>\n",
              "      <td>NaN</td>\n",
              "      <td>None</td>\n",
              "      <td>None</td>\n",
              "      <td>How can I do simple machine learning without h...</td>\n",
              "      <td>&lt;machine-learning&gt;</td>\n",
              "      <td>1.0</td>\n",
              "      <td>1</td>\n",
              "      <td>1.0</td>\n",
              "      <td>2014-05-14T14:40:25.950</td>\n",
              "      <td>None</td>\n",
              "    </tr>\n",
              "    <tr>\n",
              "      <th>1</th>\n",
              "      <td>7</td>\n",
              "      <td>1</td>\n",
              "      <td>10.0</td>\n",
              "      <td>NaN</td>\n",
              "      <td>2014-05-14T00:11:06.457</td>\n",
              "      <td>None</td>\n",
              "      <td>4</td>\n",
              "      <td>429.0</td>\n",
              "      <td>&lt;p&gt;As a researcher and instructor, I'm looking...</td>\n",
              "      <td>36.0</td>\n",
              "      <td>None</td>\n",
              "      <td>97.0</td>\n",
              "      <td>None</td>\n",
              "      <td>2014-05-16T13:45:00.237</td>\n",
              "      <td>What open-source books (or other materials) pr...</td>\n",
              "      <td>&lt;education&gt;&lt;open-source&gt;</td>\n",
              "      <td>3.0</td>\n",
              "      <td>4</td>\n",
              "      <td>1.0</td>\n",
              "      <td>2014-05-14T08:40:54.950</td>\n",
              "      <td>None</td>\n",
              "    </tr>\n",
              "    <tr>\n",
              "      <th>2</th>\n",
              "      <td>9</td>\n",
              "      <td>2</td>\n",
              "      <td>NaN</td>\n",
              "      <td>5.0</td>\n",
              "      <td>2014-05-14T00:36:31.077</td>\n",
              "      <td>None</td>\n",
              "      <td>5</td>\n",
              "      <td>0.0</td>\n",
              "      <td>&lt;p&gt;Not sure if this fits the scope of this SE,...</td>\n",
              "      <td>51.0</td>\n",
              "      <td>None</td>\n",
              "      <td>NaN</td>\n",
              "      <td>None</td>\n",
              "      <td>None</td>\n",
              "      <td>None</td>\n",
              "      <td>None</td>\n",
              "      <td>0.0</td>\n",
              "      <td>0</td>\n",
              "      <td>0.0</td>\n",
              "      <td>None</td>\n",
              "      <td>None</td>\n",
              "    </tr>\n",
              "    <tr>\n",
              "      <th>3</th>\n",
              "      <td>10</td>\n",
              "      <td>2</td>\n",
              "      <td>NaN</td>\n",
              "      <td>7.0</td>\n",
              "      <td>2014-05-14T00:53:43.273</td>\n",
              "      <td>None</td>\n",
              "      <td>12</td>\n",
              "      <td>0.0</td>\n",
              "      <td>&lt;p&gt;One book that's freely available is \"The El...</td>\n",
              "      <td>22.0</td>\n",
              "      <td>None</td>\n",
              "      <td>NaN</td>\n",
              "      <td>None</td>\n",
              "      <td>None</td>\n",
              "      <td>None</td>\n",
              "      <td>None</td>\n",
              "      <td>0.0</td>\n",
              "      <td>1</td>\n",
              "      <td>0.0</td>\n",
              "      <td>None</td>\n",
              "      <td>None</td>\n",
              "    </tr>\n",
              "    <tr>\n",
              "      <th>4</th>\n",
              "      <td>14</td>\n",
              "      <td>1</td>\n",
              "      <td>29.0</td>\n",
              "      <td>NaN</td>\n",
              "      <td>2014-05-14T01:25:59.677</td>\n",
              "      <td>None</td>\n",
              "      <td>22</td>\n",
              "      <td>1542.0</td>\n",
              "      <td>&lt;p&gt;I am sure data science as will be discussed...</td>\n",
              "      <td>66.0</td>\n",
              "      <td>None</td>\n",
              "      <td>322.0</td>\n",
              "      <td>None</td>\n",
              "      <td>2014-06-17T16:17:20.473</td>\n",
              "      <td>Is Data Science the Same as Data Mining?</td>\n",
              "      <td>&lt;data-mining&gt;&lt;definitions&gt;</td>\n",
              "      <td>4.0</td>\n",
              "      <td>1</td>\n",
              "      <td>6.0</td>\n",
              "      <td>None</td>\n",
              "      <td>None</td>\n",
              "    </tr>\n",
              "    <tr>\n",
              "      <th>...</th>\n",
              "      <td>...</td>\n",
              "      <td>...</td>\n",
              "      <td>...</td>\n",
              "      <td>...</td>\n",
              "      <td>...</td>\n",
              "      <td>...</td>\n",
              "      <td>...</td>\n",
              "      <td>...</td>\n",
              "      <td>...</td>\n",
              "      <td>...</td>\n",
              "      <td>...</td>\n",
              "      <td>...</td>\n",
              "      <td>...</td>\n",
              "      <td>...</td>\n",
              "      <td>...</td>\n",
              "      <td>...</td>\n",
              "      <td>...</td>\n",
              "      <td>...</td>\n",
              "      <td>...</td>\n",
              "      <td>...</td>\n",
              "      <td>...</td>\n",
              "    </tr>\n",
              "    <tr>\n",
              "      <th>43645</th>\n",
              "      <td>64045</td>\n",
              "      <td>2</td>\n",
              "      <td>NaN</td>\n",
              "      <td>64029.0</td>\n",
              "      <td>2019-11-30T23:48:00.320</td>\n",
              "      <td>None</td>\n",
              "      <td>1</td>\n",
              "      <td>0.0</td>\n",
              "      <td>&lt;p&gt;Named Entity Recognition (NER) would extrac...</td>\n",
              "      <td>64377.0</td>\n",
              "      <td>None</td>\n",
              "      <td>NaN</td>\n",
              "      <td>None</td>\n",
              "      <td>None</td>\n",
              "      <td>None</td>\n",
              "      <td>None</td>\n",
              "      <td>0.0</td>\n",
              "      <td>1</td>\n",
              "      <td>0.0</td>\n",
              "      <td>None</td>\n",
              "      <td>None</td>\n",
              "    </tr>\n",
              "    <tr>\n",
              "      <th>43646</th>\n",
              "      <td>64046</td>\n",
              "      <td>2</td>\n",
              "      <td>NaN</td>\n",
              "      <td>63991.0</td>\n",
              "      <td>2019-11-30T23:56:58.343</td>\n",
              "      <td>None</td>\n",
              "      <td>0</td>\n",
              "      <td>0.0</td>\n",
              "      <td>&lt;p&gt;You probably need to re-design the problem ...</td>\n",
              "      <td>64377.0</td>\n",
              "      <td>None</td>\n",
              "      <td>NaN</td>\n",
              "      <td>None</td>\n",
              "      <td>None</td>\n",
              "      <td>None</td>\n",
              "      <td>None</td>\n",
              "      <td>0.0</td>\n",
              "      <td>0</td>\n",
              "      <td>0.0</td>\n",
              "      <td>None</td>\n",
              "      <td>None</td>\n",
              "    </tr>\n",
              "    <tr>\n",
              "      <th>43647</th>\n",
              "      <td>64047</td>\n",
              "      <td>1</td>\n",
              "      <td>NaN</td>\n",
              "      <td>NaN</td>\n",
              "      <td>2019-12-01T00:16:55.170</td>\n",
              "      <td>None</td>\n",
              "      <td>0</td>\n",
              "      <td>4.0</td>\n",
              "      <td>&lt;p&gt;My wife has seizures a few times a month an...</td>\n",
              "      <td>86211.0</td>\n",
              "      <td>None</td>\n",
              "      <td>1330.0</td>\n",
              "      <td>None</td>\n",
              "      <td>2019-12-01T02:04:48.333</td>\n",
              "      <td>Relationship between two sets of dates</td>\n",
              "      <td>&lt;time-series&gt;&lt;correlation&gt;&lt;excel&gt;</td>\n",
              "      <td>0.0</td>\n",
              "      <td>0</td>\n",
              "      <td>0.0</td>\n",
              "      <td>None</td>\n",
              "      <td>None</td>\n",
              "    </tr>\n",
              "    <tr>\n",
              "      <th>43648</th>\n",
              "      <td>64048</td>\n",
              "      <td>1</td>\n",
              "      <td>NaN</td>\n",
              "      <td>NaN</td>\n",
              "      <td>2019-12-01T00:32:11.913</td>\n",
              "      <td>None</td>\n",
              "      <td>0</td>\n",
              "      <td>3.0</td>\n",
              "      <td>&lt;p&gt;I am looking at the documentation and this ...</td>\n",
              "      <td>54721.0</td>\n",
              "      <td>None</td>\n",
              "      <td>NaN</td>\n",
              "      <td>None</td>\n",
              "      <td>None</td>\n",
              "      <td>How to use keras.utils.Sequence with multiple ...</td>\n",
              "      <td>&lt;keras&gt;&lt;tensorflow&gt;</td>\n",
              "      <td>0.0</td>\n",
              "      <td>0</td>\n",
              "      <td>0.0</td>\n",
              "      <td>None</td>\n",
              "      <td>None</td>\n",
              "    </tr>\n",
              "    <tr>\n",
              "      <th>43649</th>\n",
              "      <td>64049</td>\n",
              "      <td>1</td>\n",
              "      <td>NaN</td>\n",
              "      <td>NaN</td>\n",
              "      <td>2019-12-01T02:13:26.667</td>\n",
              "      <td>None</td>\n",
              "      <td>0</td>\n",
              "      <td>5.0</td>\n",
              "      <td>&lt;p&gt;when to use randomforest over xgboost and v...</td>\n",
              "      <td>86213.0</td>\n",
              "      <td>None</td>\n",
              "      <td>NaN</td>\n",
              "      <td>None</td>\n",
              "      <td>None</td>\n",
              "      <td>when to use random forest over xgboost and vic...</td>\n",
              "      <td>&lt;machine-learning&gt;</td>\n",
              "      <td>0.0</td>\n",
              "      <td>1</td>\n",
              "      <td>0.0</td>\n",
              "      <td>None</td>\n",
              "      <td>None</td>\n",
              "    </tr>\n",
              "  </tbody>\n",
              "</table>\n",
              "<p>43650 rows × 21 columns</p>\n",
              "</div>"
            ],
            "text/plain": [
              "          Id  PostTypeId  ...               ClosedDate  CommunityOwnedDate\n",
              "0          5           1  ...  2014-05-14T14:40:25.950                None\n",
              "1          7           1  ...  2014-05-14T08:40:54.950                None\n",
              "2          9           2  ...                     None                None\n",
              "3         10           2  ...                     None                None\n",
              "4         14           1  ...                     None                None\n",
              "...      ...         ...  ...                      ...                 ...\n",
              "43645  64045           2  ...                     None                None\n",
              "43646  64046           2  ...                     None                None\n",
              "43647  64047           1  ...                     None                None\n",
              "43648  64048           1  ...                     None                None\n",
              "43649  64049           1  ...                     None                None\n",
              "\n",
              "[43650 rows x 21 columns]"
            ]
          },
          "metadata": {
            "tags": []
          },
          "execution_count": 13
        }
      ]
    },
    {
      "cell_type": "markdown",
      "metadata": {
        "id": "3xvdIs7vkHlA",
        "colab_type": "text"
      },
      "source": [
        "Submit the first 75 rows to the autograder"
      ]
    },
    {
      "cell_type": "code",
      "metadata": {
        "id": "1vpJRLUrkGJT",
        "colab_type": "code",
        "outputId": "9188b293-0e77-446c-9123-ea4b7dd7ba4e",
        "colab": {
          "base_uri": "https://localhost:8080/",
          "height": 69
        }
      },
      "source": [
        "grader.grade(test_case_id = 'load_posts', answer = posts_df[:75])"
      ],
      "execution_count": 0,
      "outputs": [
        {
          "output_type": "stream",
          "text": [
            "Correct! You earned 5/5 points. You are a star!\n",
            "\n",
            "Your submission has been successfully recorded in the gradebook.\n"
          ],
          "name": "stdout"
        }
      ]
    },
    {
      "cell_type": "markdown",
      "metadata": {
        "id": "cbdbE1BYirMU",
        "colab_type": "text"
      },
      "source": [
        "### 1.4 Loading Comments.xml\n",
        "*  The Comments.xml file has been made public for the access of anyone with a valid UPenn email address.\n",
        "* Running the below cell will download the Comments.xml file into your drive. \n",
        "* You will be able to access the file with path as '***/content/Comments.xml***'"
      ]
    },
    {
      "cell_type": "markdown",
      "metadata": {
        "id": "0BcmuyrHiylA",
        "colab_type": "text"
      },
      "source": [
        "##### Creating '*comments_df*' Pandas Dataframe from a list of JSON Objects\n",
        "\n",
        "* Create a list variable with name *comments_list*.\n",
        "* Use the XML parser etree's parse() function to parse the xml file using the above *Comments.xml* file you just downloaded.\n",
        "* Parse the xml file and append each row of the Comments.xml file as a json object to the *comments_list*.\n",
        "* Now, Use *comments_list* to create a Pandas Dataframe with name comments_df.\n"
      ]
    },
    {
      "cell_type": "code",
      "metadata": {
        "id": "QEQEkXkbk35R",
        "colab_type": "code",
        "outputId": "1d954576-bdaf-4d76-fab2-7ea906aa833f",
        "colab": {
          "base_uri": "https://localhost:8080/",
          "height": 35
        }
      },
      "source": [
        "gdd.download_file_from_google_drive(file_id='1H7-P3PK7OkPCzk7eK32uYBR42cBL6HIu',\n",
        "                                    dest_path='/content/Comments.xml')"
      ],
      "execution_count": 0,
      "outputs": [
        {
          "output_type": "stream",
          "text": [
            "Downloading 1H7-P3PK7OkPCzk7eK32uYBR42cBL6HIu into /content/Comments.xml... Done.\n"
          ],
          "name": "stdout"
        }
      ]
    },
    {
      "cell_type": "code",
      "metadata": {
        "id": "KrlSxwuOkHY7",
        "colab_type": "code",
        "outputId": "f49d2e03-7399-4474-99b5-265e6bbaa915",
        "colab": {
          "base_uri": "https://localhost:8080/",
          "height": 589
        }
      },
      "source": [
        "tree = etree.parse('Comments.xml')\n",
        "root = tree.getroot()\n",
        "comments_list = []\n",
        "\n",
        "for row in root:\n",
        "  comments_list.append(row)\n",
        "\n",
        "df_col = ['Id', 'PostId', 'Score', 'Text', 'CreationDate', 'UserDisplayName', \n",
        "          'UserId']\n",
        "\n",
        "comments_df = pd.DataFrame(columns = df_col)\n",
        "\n",
        "for i in range(len(root)):\n",
        "  row = comments_list[i]\n",
        "  comments_df = comments_df.append(build_series(row, df_col), \n",
        "                                   ignore_index = True)\n",
        "\n",
        "comments_df['Id'] = comments_df['Id'].astype(int)\n",
        "comments_df['PostId'] = comments_df['PostId'].astype(int)\n",
        "comments_df['Score'] = comments_df['Score'].astype(int)\n",
        "comments_df['UserId'] = comments_df['UserId'].astype(float)\n",
        "\n",
        "comments_df"
      ],
      "execution_count": 0,
      "outputs": [
        {
          "output_type": "execute_result",
          "data": {
            "text/html": [
              "<div>\n",
              "<style scoped>\n",
              "    .dataframe tbody tr th:only-of-type {\n",
              "        vertical-align: middle;\n",
              "    }\n",
              "\n",
              "    .dataframe tbody tr th {\n",
              "        vertical-align: top;\n",
              "    }\n",
              "\n",
              "    .dataframe thead th {\n",
              "        text-align: right;\n",
              "    }\n",
              "</style>\n",
              "<table border=\"1\" class=\"dataframe\">\n",
              "  <thead>\n",
              "    <tr style=\"text-align: right;\">\n",
              "      <th></th>\n",
              "      <th>Id</th>\n",
              "      <th>PostId</th>\n",
              "      <th>Score</th>\n",
              "      <th>Text</th>\n",
              "      <th>CreationDate</th>\n",
              "      <th>UserDisplayName</th>\n",
              "      <th>UserId</th>\n",
              "    </tr>\n",
              "  </thead>\n",
              "  <tbody>\n",
              "    <tr>\n",
              "      <th>0</th>\n",
              "      <td>5</td>\n",
              "      <td>5</td>\n",
              "      <td>9</td>\n",
              "      <td>this is a super theoretical AI question. An in...</td>\n",
              "      <td>2014-05-14T00:23:15.437</td>\n",
              "      <td>None</td>\n",
              "      <td>34.0</td>\n",
              "    </tr>\n",
              "    <tr>\n",
              "      <th>1</th>\n",
              "      <td>6</td>\n",
              "      <td>7</td>\n",
              "      <td>4</td>\n",
              "      <td>List questions are usually not suited for Stac...</td>\n",
              "      <td>2014-05-14T00:38:19.510</td>\n",
              "      <td>None</td>\n",
              "      <td>51.0</td>\n",
              "    </tr>\n",
              "    <tr>\n",
              "      <th>2</th>\n",
              "      <td>9</td>\n",
              "      <td>7</td>\n",
              "      <td>3</td>\n",
              "      <td>This question appears to be off-topic because ...</td>\n",
              "      <td>2014-05-14T01:16:12.623</td>\n",
              "      <td>None</td>\n",
              "      <td>66.0</td>\n",
              "    </tr>\n",
              "    <tr>\n",
              "      <th>3</th>\n",
              "      <td>12</td>\n",
              "      <td>15</td>\n",
              "      <td>3</td>\n",
              "      <td>This question is far too broad. It may be salv...</td>\n",
              "      <td>2014-05-14T02:00:22.797</td>\n",
              "      <td>None</td>\n",
              "      <td>51.0</td>\n",
              "    </tr>\n",
              "    <tr>\n",
              "      <th>4</th>\n",
              "      <td>13</td>\n",
              "      <td>10</td>\n",
              "      <td>2</td>\n",
              "      <td>Nice one, @Nicholas... Another book from Hasti...</td>\n",
              "      <td>2014-05-14T02:16:20.503</td>\n",
              "      <td>None</td>\n",
              "      <td>24.0</td>\n",
              "    </tr>\n",
              "    <tr>\n",
              "      <th>...</th>\n",
              "      <td>...</td>\n",
              "      <td>...</td>\n",
              "      <td>...</td>\n",
              "      <td>...</td>\n",
              "      <td>...</td>\n",
              "      <td>...</td>\n",
              "      <td>...</td>\n",
              "    </tr>\n",
              "    <tr>\n",
              "      <th>45008</th>\n",
              "      <td>69230</td>\n",
              "      <td>64026</td>\n",
              "      <td>0</td>\n",
              "      <td>Yes, but indirectly conv layers too I think, g...</td>\n",
              "      <td>2019-11-30T23:47:26.583</td>\n",
              "      <td>None</td>\n",
              "      <td>65131.0</td>\n",
              "    </tr>\n",
              "    <tr>\n",
              "      <th>45009</th>\n",
              "      <td>69231</td>\n",
              "      <td>64045</td>\n",
              "      <td>0</td>\n",
              "      <td>Thanks for your input.</td>\n",
              "      <td>2019-12-01T00:06:22.897</td>\n",
              "      <td>None</td>\n",
              "      <td>86192.0</td>\n",
              "    </tr>\n",
              "    <tr>\n",
              "      <th>45010</th>\n",
              "      <td>69232</td>\n",
              "      <td>49526</td>\n",
              "      <td>0</td>\n",
              "      <td>I am encountering this problem. Have you got a...</td>\n",
              "      <td>2019-12-01T02:03:54.820</td>\n",
              "      <td>None</td>\n",
              "      <td>12936.0</td>\n",
              "    </tr>\n",
              "    <tr>\n",
              "      <th>45011</th>\n",
              "      <td>69233</td>\n",
              "      <td>64049</td>\n",
              "      <td>0</td>\n",
              "      <td>Possible duplicate of [Random Forest VS LightG...</td>\n",
              "      <td>2019-12-01T02:27:46.977</td>\n",
              "      <td>None</td>\n",
              "      <td>83275.0</td>\n",
              "    </tr>\n",
              "    <tr>\n",
              "      <th>45012</th>\n",
              "      <td>69234</td>\n",
              "      <td>40068</td>\n",
              "      <td>0</td>\n",
              "      <td>what's the difference between the normal confu...</td>\n",
              "      <td>2019-12-01T03:03:05.440</td>\n",
              "      <td>None</td>\n",
              "      <td>86215.0</td>\n",
              "    </tr>\n",
              "  </tbody>\n",
              "</table>\n",
              "<p>45013 rows × 7 columns</p>\n",
              "</div>"
            ],
            "text/plain": [
              "          Id  PostId  Score  ...             CreationDate UserDisplayName   UserId\n",
              "0          5       5      9  ...  2014-05-14T00:23:15.437            None     34.0\n",
              "1          6       7      4  ...  2014-05-14T00:38:19.510            None     51.0\n",
              "2          9       7      3  ...  2014-05-14T01:16:12.623            None     66.0\n",
              "3         12      15      3  ...  2014-05-14T02:00:22.797            None     51.0\n",
              "4         13      10      2  ...  2014-05-14T02:16:20.503            None     24.0\n",
              "...      ...     ...    ...  ...                      ...             ...      ...\n",
              "45008  69230   64026      0  ...  2019-11-30T23:47:26.583            None  65131.0\n",
              "45009  69231   64045      0  ...  2019-12-01T00:06:22.897            None  86192.0\n",
              "45010  69232   49526      0  ...  2019-12-01T02:03:54.820            None  12936.0\n",
              "45011  69233   64049      0  ...  2019-12-01T02:27:46.977            None  83275.0\n",
              "45012  69234   40068      0  ...  2019-12-01T03:03:05.440            None  86215.0\n",
              "\n",
              "[45013 rows x 7 columns]"
            ]
          },
          "metadata": {
            "tags": []
          },
          "execution_count": 15
        }
      ]
    },
    {
      "cell_type": "code",
      "metadata": {
        "id": "8DLm9NeikZoA",
        "colab_type": "code",
        "outputId": "f50c546d-41ec-4e9f-8b7f-bf5d2ff337a9",
        "colab": {
          "base_uri": "https://localhost:8080/",
          "height": 69
        }
      },
      "source": [
        "grader.grade(test_case_id = 'load_comments', answer = comments_df[:75])"
      ],
      "execution_count": 0,
      "outputs": [
        {
          "output_type": "stream",
          "text": [
            "Correct! You earned 6/6 points. You are a star!\n",
            "\n",
            "Your submission has been successfully recorded in the gradebook.\n"
          ],
          "name": "stdout"
        }
      ]
    },
    {
      "cell_type": "markdown",
      "metadata": {
        "id": "ShtAkvKc2LEd",
        "colab_type": "text"
      },
      "source": [
        "## Part 2: Exploring the data\n",
        "\n",
        "***'pandasql'*** allows you to query pandas DataFrames using SQL syntax. It works similarly to sqldf in R. pandasql seeks to provide a more familiar way of manipulating and cleaning data for people new to Python or pandas. Lets use *pandasql* to work on few queries. For those interested, [here](https://community.alteryx.com/t5/Data-Science-Blog/pandasql-Make-python-speak-SQL/ba-p/138435) is a good resource for pandasql (obviously there are many others)\n",
        "\n",
        "Leave this here for now and don't touch it"
      ]
    },
    {
      "cell_type": "code",
      "metadata": {
        "id": "XdtvuBv2rX6b",
        "colab_type": "code",
        "outputId": "7e9ad655-f3f9-459b-b8f6-8ec89d657f04",
        "colab": {
          "base_uri": "https://localhost:8080/",
          "height": 35
        }
      },
      "source": [
        "# If you want to add any other tables, here are some download lines\n",
        "\n",
        "# gdd.download_file_from_google_drive(file_id='19NiT6HR4gbjytDpwMRNZrH4XpLRlseyG',\n",
        "#                                     dest_path='/content/PostHistory.xml')\n",
        "\n",
        "# gdd.download_file_from_google_drive(file_id='1nHA6eIDg9E2rZhs2VB9zEx7bTozjF2ga',\n",
        "#                                     dest_path='/content/PostLinks.xml')\n",
        "\n",
        "# gdd.download_file_from_google_drive(file_id='1Ptu0ae6crUxgT4E9YgQWpA2KcIWr84Yi',\n",
        "#                                     dest_path='/content/Tags.xml')\n",
        "\n",
        "# gdd.download_file_from_google_drive(file_id='1y-Qg1VtaFTt7Zn54Rd3_ehU9EGSF5Opw',\n",
        "#                                     dest_path='/content/Votes.xml')\n"
      ],
      "execution_count": 0,
      "outputs": [
        {
          "output_type": "stream",
          "text": [
            "Downloading 19NiT6HR4gbjytDpwMRNZrH4XpLRlseyG into /content/PostHistory.xml... Done.\n"
          ],
          "name": "stdout"
        }
      ]
    },
    {
      "cell_type": "markdown",
      "metadata": {
        "id": "gVUze2GC3Jl4",
        "colab_type": "text"
      },
      "source": [
        "### 2.1 Credible Users\n",
        "Let's first find credible users (i.e. not Craig) who have a reputation of >= 5000. Reputation reflects a users familiarity with the site and the expected quality of the content they provide. It also affects the amount of privileges the user has within the Stack Exchange system. Users gain or lose reputation based on the quality of their interactions with the system and other community members. The primary reason for reputation change is voting. Posts which are voted up increase their authors’ reputation; the reverse is true for posts which are voted down. \n",
        "\n",
        "For example: If you are rude to TAs or his majesty, your reputation drops by -100000.\n",
        "\n",
        "You can read more about it [here](https://meta.stackexchange.com/questions/7237/how-does-reputation-work)!\n",
        "\n",
        "\n",
        "TLDR : Your task is to print the names of the users who have a reputation greater than or equal to 5,000 in the decreasing order of their reputation i.e. highest reputation first\n"
      ]
    },
    {
      "cell_type": "code",
      "metadata": {
        "id": "nduKUHWJ2YM8",
        "colab_type": "code",
        "outputId": "74f1794f-60a9-49d4-9617-8288d6f6ce88",
        "colab": {
          "base_uri": "https://localhost:8080/",
          "height": 953
        }
      },
      "source": [
        "credible_user_names_df = ps.sqldf(\"SELECT * FROM users_df \\\n",
        "                                   WHERE Reputation >= 5000 \\ \n",
        "                                   ORDER BY Reputation DESC\")\n",
        "credible_user_names_df"
      ],
      "execution_count": 0,
      "outputs": [
        {
          "output_type": "execute_result",
          "data": {
            "text/html": [
              "<div>\n",
              "<style scoped>\n",
              "    .dataframe tbody tr th:only-of-type {\n",
              "        vertical-align: middle;\n",
              "    }\n",
              "\n",
              "    .dataframe tbody tr th {\n",
              "        vertical-align: top;\n",
              "    }\n",
              "\n",
              "    .dataframe thead th {\n",
              "        text-align: right;\n",
              "    }\n",
              "</style>\n",
              "<table border=\"1\" class=\"dataframe\">\n",
              "  <thead>\n",
              "    <tr style=\"text-align: right;\">\n",
              "      <th></th>\n",
              "      <th>Id</th>\n",
              "      <th>Reputation</th>\n",
              "      <th>CreationDate</th>\n",
              "      <th>DisplayName</th>\n",
              "      <th>LastAccessDate</th>\n",
              "      <th>WebsiteUrl</th>\n",
              "      <th>Location</th>\n",
              "      <th>AboutMe</th>\n",
              "      <th>Views</th>\n",
              "      <th>UpVotes</th>\n",
              "      <th>DownVotes</th>\n",
              "      <th>ProfileImageUrl</th>\n",
              "      <th>AccountId</th>\n",
              "    </tr>\n",
              "  </thead>\n",
              "  <tbody>\n",
              "    <tr>\n",
              "      <th>0</th>\n",
              "      <td>836</td>\n",
              "      <td>20524.0</td>\n",
              "      <td>2014-06-14T16:31:59.410</td>\n",
              "      <td>Neil Slater</td>\n",
              "      <td>2019-11-30T13:42:01.807</td>\n",
              "      <td></td>\n",
              "      <td>Durham, United Kingdom</td>\n",
              "      <td>&lt;p&gt;Web developer, specialising in server-side ...</td>\n",
              "      <td>2239.0</td>\n",
              "      <td>1320.0</td>\n",
              "      <td>71.0</td>\n",
              "      <td>https://www.gravatar.com/avatar/bd4f0d39f82be9...</td>\n",
              "      <td>2274369.0</td>\n",
              "    </tr>\n",
              "    <tr>\n",
              "      <th>1</th>\n",
              "      <td>8820</td>\n",
              "      <td>12602.0</td>\n",
              "      <td>2015-03-25T19:44:36.167</td>\n",
              "      <td>Martin Thoma</td>\n",
              "      <td>2019-11-15T11:36:38.983</td>\n",
              "      <td>http://www.martin-thoma.de</td>\n",
              "      <td>München, Deutschland</td>\n",
              "      <td>&lt;p&gt;I also have a blog about &lt;a href=\"http://ma...</td>\n",
              "      <td>1237.0</td>\n",
              "      <td>87.0</td>\n",
              "      <td>35.0</td>\n",
              "      <td>None</td>\n",
              "      <td>271958.0</td>\n",
              "    </tr>\n",
              "    <tr>\n",
              "      <th>2</th>\n",
              "      <td>28175</td>\n",
              "      <td>9905.0</td>\n",
              "      <td>2017-01-21T17:02:21.893</td>\n",
              "      <td>Media</td>\n",
              "      <td>2019-11-30T21:34:38.763</td>\n",
              "      <td></td>\n",
              "      <td>None</td>\n",
              "      <td></td>\n",
              "      <td>1761.0</td>\n",
              "      <td>4639.0</td>\n",
              "      <td>0.0</td>\n",
              "      <td>https://i.stack.imgur.com/xgUrG.jpg?s=128&amp;g=1</td>\n",
              "      <td>6631713.0</td>\n",
              "    </tr>\n",
              "    <tr>\n",
              "      <th>3</th>\n",
              "      <td>381</td>\n",
              "      <td>9056.0</td>\n",
              "      <td>2014-06-08T06:51:59.140</td>\n",
              "      <td>Emre</td>\n",
              "      <td>2019-11-26T06:20:25.773</td>\n",
              "      <td></td>\n",
              "      <td>Silicon Valley, CA, United States</td>\n",
              "      <td>&lt;p&gt;I don't usually have the time or inclinatio...</td>\n",
              "      <td>1240.0</td>\n",
              "      <td>1013.0</td>\n",
              "      <td>53.0</td>\n",
              "      <td>None</td>\n",
              "      <td>441850.0</td>\n",
              "    </tr>\n",
              "    <tr>\n",
              "      <th>4</th>\n",
              "      <td>45264</td>\n",
              "      <td>8901.0</td>\n",
              "      <td>2018-01-27T10:49:47.773</td>\n",
              "      <td>n1k31t4</td>\n",
              "      <td>2019-11-30T18:40:50.753</td>\n",
              "      <td></td>\n",
              "      <td>Europa</td>\n",
              "      <td></td>\n",
              "      <td>522.0</td>\n",
              "      <td>242.0</td>\n",
              "      <td>10.0</td>\n",
              "      <td>https://i.stack.imgur.com/uIBJ7.gif</td>\n",
              "      <td>3761440.0</td>\n",
              "    </tr>\n",
              "    <tr>\n",
              "      <th>5</th>\n",
              "      <td>14904</td>\n",
              "      <td>7450.0</td>\n",
              "      <td>2015-12-21T12:47:57.270</td>\n",
              "      <td>Jan van der Vegt</td>\n",
              "      <td>2019-11-15T10:16:57.743</td>\n",
              "      <td>http://www.cubonacci.com</td>\n",
              "      <td>Amsterdam</td>\n",
              "      <td>&lt;p&gt;Data scientist with a passion for custom ne...</td>\n",
              "      <td>727.0</td>\n",
              "      <td>120.0</td>\n",
              "      <td>26.0</td>\n",
              "      <td>https://i.stack.imgur.com/vh2Hd.jpg?s=128&amp;g=1</td>\n",
              "      <td>5974351.0</td>\n",
              "    </tr>\n",
              "    <tr>\n",
              "      <th>6</th>\n",
              "      <td>11097</td>\n",
              "      <td>6833.0</td>\n",
              "      <td>2015-08-05T12:46:59.553</td>\n",
              "      <td>Dawny33</td>\n",
              "      <td>2019-11-29T11:11:12.450</td>\n",
              "      <td>http://dawny33.github.io</td>\n",
              "      <td>Gurgaon, India</td>\n",
              "      <td>&lt;p&gt;Statistically insignificant, gets lucky all...</td>\n",
              "      <td>914.0</td>\n",
              "      <td>2680.0</td>\n",
              "      <td>117.0</td>\n",
              "      <td>https://i.stack.imgur.com/z0jss.png?s=128&amp;g=1</td>\n",
              "      <td>6444670.0</td>\n",
              "    </tr>\n",
              "    <tr>\n",
              "      <th>7</th>\n",
              "      <td>924</td>\n",
              "      <td>6237.0</td>\n",
              "      <td>2014-06-17T18:07:02.463</td>\n",
              "      <td>Anony-Mousse</td>\n",
              "      <td>2019-11-30T18:28:41.187</td>\n",
              "      <td>http://goo.gl/Ija1qu</td>\n",
              "      <td>Series of tubes.</td>\n",
              "      <td>&lt;pre&gt;&lt;code&gt;█▀▀▀▀▀█ ▄█▄█▀▄▀ ▀█▀▀▄ █▀▀▀▀▀█\\n█ ██...</td>\n",
              "      <td>601.0</td>\n",
              "      <td>26.0</td>\n",
              "      <td>435.0</td>\n",
              "      <td>https://i.stack.imgur.com/NLHKI.png?s=128&amp;g=1</td>\n",
              "      <td>1058083.0</td>\n",
              "    </tr>\n",
              "    <tr>\n",
              "      <th>8</th>\n",
              "      <td>2452</td>\n",
              "      <td>6158.0</td>\n",
              "      <td>2014-07-11T08:54:54.627</td>\n",
              "      <td>Aleksandr Blekh</td>\n",
              "      <td>2019-11-15T10:31:57.300</td>\n",
              "      <td>http://aleksandrblekh.com</td>\n",
              "      <td>Atlanta, GA</td>\n",
              "      <td>&lt;p&gt;Management and IT Consultant, information s...</td>\n",
              "      <td>418.0</td>\n",
              "      <td>85.0</td>\n",
              "      <td>2.0</td>\n",
              "      <td>https://www.gravatar.com/avatar/6cc1a6359ee9ea...</td>\n",
              "      <td>3422261.0</td>\n",
              "    </tr>\n",
              "    <tr>\n",
              "      <th>9</th>\n",
              "      <td>29587</td>\n",
              "      <td>6052.0</td>\n",
              "      <td>2017-03-03T13:43:56.900</td>\n",
              "      <td>JahKnows</td>\n",
              "      <td>2019-06-19T23:44:42.960</td>\n",
              "      <td></td>\n",
              "      <td>Montreal, QC, Canada</td>\n",
              "      <td>&lt;p&gt;I am a Data Scientist!&lt;/p&gt;\\n\\n&lt;p&gt;Contact: k...</td>\n",
              "      <td>1434.0</td>\n",
              "      <td>154.0</td>\n",
              "      <td>32.0</td>\n",
              "      <td>https://i.stack.imgur.com/6CM1f.jpg?s=128&amp;g=1</td>\n",
              "      <td>2171124.0</td>\n",
              "    </tr>\n",
              "    <tr>\n",
              "      <th>10</th>\n",
              "      <td>1330</td>\n",
              "      <td>6005.0</td>\n",
              "      <td>2014-07-03T21:08:29.550</td>\n",
              "      <td>Brian Spiering</td>\n",
              "      <td>2019-12-01T02:04:01.263</td>\n",
              "      <td></td>\n",
              "      <td>San Francisco, CA, USA</td>\n",
              "      <td>&lt;p&gt;Hi! I'm Brian Spiering. A consultant specia...</td>\n",
              "      <td>313.0</td>\n",
              "      <td>96.0</td>\n",
              "      <td>29.0</td>\n",
              "      <td>None</td>\n",
              "      <td>2256713.0</td>\n",
              "    </tr>\n",
              "    <tr>\n",
              "      <th>11</th>\n",
              "      <td>67328</td>\n",
              "      <td>5414.0</td>\n",
              "      <td>2019-02-08T16:47:02.823</td>\n",
              "      <td>Esmailian</td>\n",
              "      <td>2019-11-23T13:28:42.370</td>\n",
              "      <td></td>\n",
              "      <td>None</td>\n",
              "      <td></td>\n",
              "      <td>603.0</td>\n",
              "      <td>452.0</td>\n",
              "      <td>29.0</td>\n",
              "      <td>https://www.gravatar.com/avatar/b95b309868aa56...</td>\n",
              "      <td>6962721.0</td>\n",
              "    </tr>\n",
              "    <tr>\n",
              "      <th>12</th>\n",
              "      <td>9420</td>\n",
              "      <td>5343.0</td>\n",
              "      <td>2015-05-03T00:14:00.677</td>\n",
              "      <td>AN6U5</td>\n",
              "      <td>2019-11-26T06:28:25.627</td>\n",
              "      <td></td>\n",
              "      <td>Seattle, WA</td>\n",
              "      <td>&lt;p&gt;Big data and data fusion scientist developi...</td>\n",
              "      <td>350.0</td>\n",
              "      <td>82.0</td>\n",
              "      <td>4.0</td>\n",
              "      <td>https://www.gravatar.com/avatar/75cf1479b473bc...</td>\n",
              "      <td>1938103.0</td>\n",
              "    </tr>\n",
              "  </tbody>\n",
              "</table>\n",
              "</div>"
            ],
            "text/plain": [
              "       Id  ...  AccountId\n",
              "0     836  ...  2274369.0\n",
              "1    8820  ...   271958.0\n",
              "2   28175  ...  6631713.0\n",
              "3     381  ...   441850.0\n",
              "4   45264  ...  3761440.0\n",
              "5   14904  ...  5974351.0\n",
              "6   11097  ...  6444670.0\n",
              "7     924  ...  1058083.0\n",
              "8    2452  ...  3422261.0\n",
              "9   29587  ...  2171124.0\n",
              "10   1330  ...  2256713.0\n",
              "11  67328  ...  6962721.0\n",
              "12   9420  ...  1938103.0\n",
              "\n",
              "[13 rows x 13 columns]"
            ]
          },
          "metadata": {
            "tags": []
          },
          "execution_count": 185
        }
      ]
    },
    {
      "cell_type": "code",
      "metadata": {
        "id": "9yo-_Wbs5X27",
        "colab_type": "code",
        "outputId": "4e2f28d8-76d5-42bc-a045-a83f39d62562",
        "colab": {
          "base_uri": "https://localhost:8080/",
          "height": 69
        }
      },
      "source": [
        "grader.grade(test_case_id = 'credible_user', answer = credible_user_names_df)"
      ],
      "execution_count": 0,
      "outputs": [
        {
          "output_type": "stream",
          "text": [
            "Correct! You earned 9/9 points. You are a star!\n",
            "\n",
            "Your submission has been successfully recorded in the gradebook.\n"
          ],
          "name": "stdout"
        }
      ]
    },
    {
      "cell_type": "markdown",
      "metadata": {
        "id": "HQpQQA5D5adM",
        "colab_type": "text"
      },
      "source": [
        "### 2.2 The Talkative Ten (i.e. the Maggies)\n",
        "\n",
        "Find the names of the top 10 users who post the most on stack exchange in the decreasing order of their number of posts. \n",
        "\n",
        "Your result dataframe should contain both names and the corresponding number of posts."
      ]
    },
    {
      "cell_type": "code",
      "metadata": {
        "id": "h_lU1dh_6ilD",
        "colab_type": "code",
        "outputId": "f96cfcfb-f8b6-4436-f30f-5c8bb2485a5b",
        "colab": {
          "base_uri": "https://localhost:8080/",
          "height": 355
        }
      },
      "source": [
        "talkative_users_df = pd.DataFrame()\n",
        "talkative_users_df = ps.sqldf('SELECT OwnerUserId, OwnerDisplayName, count(*)\\\n",
        "                               as POST_COUNT FROM posts_df \\\n",
        "                               GROUP BY OwnerUserId \\\n",
        "                               ORDER By POST_COUNT DESC LIMIT 10')\n",
        "\n",
        "talkative_users_df = ps.sqldf('SELECT u.DisplayName, t.POST_COUNT \\\n",
        "                               FROM talkative_users_df t\\\n",
        "                               LEFT JOIN users_df u\\\n",
        "                               ON t.OwnerUserId = u.Id')\n",
        "\n",
        "talkative_users_df"
      ],
      "execution_count": 0,
      "outputs": [
        {
          "output_type": "execute_result",
          "data": {
            "text/html": [
              "<div>\n",
              "<style scoped>\n",
              "    .dataframe tbody tr th:only-of-type {\n",
              "        vertical-align: middle;\n",
              "    }\n",
              "\n",
              "    .dataframe tbody tr th {\n",
              "        vertical-align: top;\n",
              "    }\n",
              "\n",
              "    .dataframe thead th {\n",
              "        text-align: right;\n",
              "    }\n",
              "</style>\n",
              "<table border=\"1\" class=\"dataframe\">\n",
              "  <thead>\n",
              "    <tr style=\"text-align: right;\">\n",
              "      <th></th>\n",
              "      <th>DisplayName</th>\n",
              "      <th>POST_COUNT</th>\n",
              "    </tr>\n",
              "  </thead>\n",
              "  <tbody>\n",
              "    <tr>\n",
              "      <th>0</th>\n",
              "      <td>Neil Slater</td>\n",
              "      <td>418</td>\n",
              "    </tr>\n",
              "    <tr>\n",
              "      <th>1</th>\n",
              "      <td>n1k31t4</td>\n",
              "      <td>365</td>\n",
              "    </tr>\n",
              "    <tr>\n",
              "      <th>2</th>\n",
              "      <td>Media</td>\n",
              "      <td>355</td>\n",
              "    </tr>\n",
              "    <tr>\n",
              "      <th>3</th>\n",
              "      <td>Anony-Mousse</td>\n",
              "      <td>345</td>\n",
              "    </tr>\n",
              "    <tr>\n",
              "      <th>4</th>\n",
              "      <td>Brian Spiering</td>\n",
              "      <td>273</td>\n",
              "    </tr>\n",
              "    <tr>\n",
              "      <th>5</th>\n",
              "      <td>Emre</td>\n",
              "      <td>227</td>\n",
              "    </tr>\n",
              "    <tr>\n",
              "      <th>6</th>\n",
              "      <td>Martin Thoma</td>\n",
              "      <td>225</td>\n",
              "    </tr>\n",
              "    <tr>\n",
              "      <th>7</th>\n",
              "      <td>Erwan</td>\n",
              "      <td>221</td>\n",
              "    </tr>\n",
              "    <tr>\n",
              "      <th>8</th>\n",
              "      <td>Dawny33</td>\n",
              "      <td>216</td>\n",
              "    </tr>\n",
              "    <tr>\n",
              "      <th>9</th>\n",
              "      <td>Tasos</td>\n",
              "      <td>210</td>\n",
              "    </tr>\n",
              "  </tbody>\n",
              "</table>\n",
              "</div>"
            ],
            "text/plain": [
              "      DisplayName  POST_COUNT\n",
              "0     Neil Slater         418\n",
              "1         n1k31t4         365\n",
              "2           Media         355\n",
              "3    Anony-Mousse         345\n",
              "4  Brian Spiering         273\n",
              "5            Emre         227\n",
              "6    Martin Thoma         225\n",
              "7           Erwan         221\n",
              "8         Dawny33         216\n",
              "9           Tasos         210"
            ]
          },
          "metadata": {
            "tags": []
          },
          "execution_count": 65
        }
      ]
    },
    {
      "cell_type": "code",
      "metadata": {
        "id": "060Zck7p6x9d",
        "colab_type": "code",
        "outputId": "863308ef-a8ad-4640-e738-f293834836b0",
        "colab": {
          "base_uri": "https://localhost:8080/",
          "height": 69
        }
      },
      "source": [
        "grader.grade(test_case_id = 'annoying_maggie', answer = talkative_users_df)"
      ],
      "execution_count": 0,
      "outputs": [
        {
          "output_type": "stream",
          "text": [
            "Correct! You earned 8/8 points. You are a star!\n",
            "\n",
            "Your submission has been successfully recorded in the gradebook.\n"
          ],
          "name": "stdout"
        }
      ]
    },
    {
      "cell_type": "markdown",
      "metadata": {
        "id": "KwLQXUmP679e",
        "colab_type": "text"
      },
      "source": [
        "### 2.3 The Fabulous favorites (i.e. the Prof Ives)\n",
        "\n",
        "On stack exchange you can favourite posts which allows you to easily access them kinda like the liked songs on spotify. Find the top 5% most favorited posts. \n",
        "\n",
        "Return the id, text, and number of favorites, in the decreasing order of the number of favorites. Your result schema should be: Id, Body, TOP_MOST"
      ]
    },
    {
      "cell_type": "code",
      "metadata": {
        "id": "orsuD1epedg_",
        "colab_type": "code",
        "outputId": "f192a48a-34a7-4547-f3c6-efa33c374390",
        "colab": {
          "base_uri": "https://localhost:8080/",
          "height": 433
        }
      },
      "source": [
        "answer_df = ps.sqldf('SELECT Id, Body, FavoriteCount as TOP_MOST FROM posts_df \\\n",
        "                      ORDER BY FavoriteCount DESC LIMIT 2182')\n",
        "answer_df"
      ],
      "execution_count": 0,
      "outputs": [
        {
          "output_type": "stream",
          "text": [
            "2182\n"
          ],
          "name": "stdout"
        },
        {
          "output_type": "execute_result",
          "data": {
            "text/html": [
              "<div>\n",
              "<style scoped>\n",
              "    .dataframe tbody tr th:only-of-type {\n",
              "        vertical-align: middle;\n",
              "    }\n",
              "\n",
              "    .dataframe tbody tr th {\n",
              "        vertical-align: top;\n",
              "    }\n",
              "\n",
              "    .dataframe thead th {\n",
              "        text-align: right;\n",
              "    }\n",
              "</style>\n",
              "<table border=\"1\" class=\"dataframe\">\n",
              "  <thead>\n",
              "    <tr style=\"text-align: right;\">\n",
              "      <th></th>\n",
              "      <th>Id</th>\n",
              "      <th>Body</th>\n",
              "      <th>TOP_MOST</th>\n",
              "    </tr>\n",
              "  </thead>\n",
              "  <tbody>\n",
              "    <tr>\n",
              "      <th>0</th>\n",
              "      <td>155</td>\n",
              "      <td>&lt;p&gt;One of the common problems in data science ...</td>\n",
              "      <td>186.0</td>\n",
              "    </tr>\n",
              "    <tr>\n",
              "      <th>1</th>\n",
              "      <td>6107</td>\n",
              "      <td>&lt;p&gt;I recently read &lt;a href=\"http://arxiv.org/a...</td>\n",
              "      <td>141.0</td>\n",
              "    </tr>\n",
              "    <tr>\n",
              "      <th>2</th>\n",
              "      <td>694</td>\n",
              "      <td>&lt;p&gt;I'm using Neural Networks to solve differen...</td>\n",
              "      <td>119.0</td>\n",
              "    </tr>\n",
              "    <tr>\n",
              "      <th>3</th>\n",
              "      <td>22</td>\n",
              "      <td>&lt;p&gt;My data set contains a number of numeric at...</td>\n",
              "      <td>108.0</td>\n",
              "    </tr>\n",
              "    <tr>\n",
              "      <th>4</th>\n",
              "      <td>5706</td>\n",
              "      <td>&lt;p&gt;Referring to the Stanford course notes on &lt;...</td>\n",
              "      <td>95.0</td>\n",
              "    </tr>\n",
              "    <tr>\n",
              "      <th>...</th>\n",
              "      <td>...</td>\n",
              "      <td>...</td>\n",
              "      <td>...</td>\n",
              "    </tr>\n",
              "    <tr>\n",
              "      <th>2177</th>\n",
              "      <td>62303</td>\n",
              "      <td>&lt;p&gt;What is the difference between these two cu...</td>\n",
              "      <td>2.0</td>\n",
              "    </tr>\n",
              "    <tr>\n",
              "      <th>2178</th>\n",
              "      <td>62365</td>\n",
              "      <td>&lt;p&gt;I have the following evaluation metrics on ...</td>\n",
              "      <td>2.0</td>\n",
              "    </tr>\n",
              "    <tr>\n",
              "      <th>2179</th>\n",
              "      <td>62391</td>\n",
              "      <td>&lt;h1&gt;Background&lt;/h1&gt;\\n\\n&lt;p&gt;Trying to identify t...</td>\n",
              "      <td>2.0</td>\n",
              "    </tr>\n",
              "    <tr>\n",
              "      <th>2180</th>\n",
              "      <td>62409</td>\n",
              "      <td>&lt;p&gt;I recently attended a PhD thesis defence in...</td>\n",
              "      <td>2.0</td>\n",
              "    </tr>\n",
              "    <tr>\n",
              "      <th>2181</th>\n",
              "      <td>62415</td>\n",
              "      <td>&lt;p&gt;As I asked in this question: &lt;a href=\"https...</td>\n",
              "      <td>2.0</td>\n",
              "    </tr>\n",
              "  </tbody>\n",
              "</table>\n",
              "<p>2182 rows × 3 columns</p>\n",
              "</div>"
            ],
            "text/plain": [
              "         Id                                               Body  TOP_MOST\n",
              "0       155  <p>One of the common problems in data science ...     186.0\n",
              "1      6107  <p>I recently read <a href=\"http://arxiv.org/a...     141.0\n",
              "2       694  <p>I'm using Neural Networks to solve differen...     119.0\n",
              "3        22  <p>My data set contains a number of numeric at...     108.0\n",
              "4      5706  <p>Referring to the Stanford course notes on <...      95.0\n",
              "...     ...                                                ...       ...\n",
              "2177  62303  <p>What is the difference between these two cu...       2.0\n",
              "2178  62365  <p>I have the following evaluation metrics on ...       2.0\n",
              "2179  62391  <h1>Background</h1>\\n\\n<p>Trying to identify t...       2.0\n",
              "2180  62409  <p>I recently attended a PhD thesis defence in...       2.0\n",
              "2181  62415  <p>As I asked in this question: <a href=\"https...       2.0\n",
              "\n",
              "[2182 rows x 3 columns]"
            ]
          },
          "metadata": {
            "tags": []
          },
          "execution_count": 237
        }
      ]
    },
    {
      "cell_type": "code",
      "metadata": {
        "id": "VmXdo_IRn6by",
        "colab_type": "code",
        "outputId": "e706257f-18ef-47d7-b433-de7b4185de73",
        "colab": {
          "base_uri": "https://localhost:8080/",
          "height": 69
        }
      },
      "source": [
        "grader.grade(test_case_id = 'his_majesty', answer = answer_df)"
      ],
      "execution_count": 0,
      "outputs": [
        {
          "output_type": "stream",
          "text": [
            "Correct! You earned 9/9 points. You are a star!\n",
            "\n",
            "Your submission has been successfully recorded in the gradebook.\n"
          ],
          "name": "stdout"
        }
      ]
    },
    {
      "cell_type": "markdown",
      "metadata": {
        "id": "DA4WILiC82yn",
        "colab_type": "text"
      },
      "source": [
        "### 2.4 Where the data scientists at? \n",
        "\n",
        "We hypothesize that most data science posts come from Silicon Valley (the place, not the TV show). We will compare the number of posts from users in  silicon valley to the number of posts from the users (mostly sad Penn engineering students) in Philadelphia. \n",
        "\n",
        "First, create a dataframe to find out posts of all users who are based out of Silicon Valley(location contains the word \"Silicon Valley\"). The dataframe should contain the user's display name and the content(the body) of the post. Name the second column \"SILICON_POSTS\" and do this within the query."
      ]
    },
    {
      "cell_type": "code",
      "metadata": {
        "id": "EebyoP3V-J-Y",
        "colab_type": "code",
        "outputId": "0c6e6d00-a6e7-47a4-f167-e6aee15e4264",
        "colab": {
          "base_uri": "https://localhost:8080/",
          "height": 970
        }
      },
      "source": [
        "silicon_users_df = ps.sqldf('SELECT Id, DisplayName FROM users_df WHERE location LIKE \"%Silicon Valley%\"')\n",
        "print(silicon_users_df)\n",
        "silicon_posts_df = ps.sqldf(\"SELECT s.DisplayName, \\\n",
        "                             p.Body as SILICON_POSTS FROM silicon_users_df s \\\n",
        "                             INNER JOIN posts_df p\\\n",
        "                             ON p.OwnerUserId = s.Id\")\n",
        "silicon_posts_df"
      ],
      "execution_count": 0,
      "outputs": [
        {
          "output_type": "stream",
          "text": [
            "       Id        DisplayName\n",
            "0     381               Emre\n",
            "1     434    Steve Kallestad\n",
            "2     554             Def_Os\n",
            "3     898          dagny_t13\n",
            "4    1106           Steve P.\n",
            "5    8231           Jonjilla\n",
            "6   10124         DojoGojira\n",
            "7   12928             Sypost\n",
            "8   14172             jstats\n",
            "9   14326           TheM00s3\n",
            "10  14517               mrry\n",
            "11  15134              Murch\n",
            "12  20805         Tim Penner\n",
            "13  21171             reznik\n",
            "14  26110  Daniel Adiwardana\n",
            "15  27419             symian\n",
            "16  30341      thejohnbackes\n",
            "17  30438          Shea Zhao\n",
            "18  33380         Nafis Fuad\n",
            "19  37959      David Pomeroy\n",
            "20  43167               auro\n",
            "21  44242           NextPath\n",
            "22  45301           Avid2018\n",
            "23  46768      Winston Smith\n",
            "24  49656            John L.\n",
            "25  50509        Forethinker\n",
            "26  51589            Sabrina\n",
            "27  57356          We.Me.101\n",
            "28  61744               Ryan\n",
            "29  69342           cybersam\n",
            "30  73775              David\n"
          ],
          "name": "stdout"
        },
        {
          "output_type": "execute_result",
          "data": {
            "text/html": [
              "<div>\n",
              "<style scoped>\n",
              "    .dataframe tbody tr th:only-of-type {\n",
              "        vertical-align: middle;\n",
              "    }\n",
              "\n",
              "    .dataframe tbody tr th {\n",
              "        vertical-align: top;\n",
              "    }\n",
              "\n",
              "    .dataframe thead th {\n",
              "        text-align: right;\n",
              "    }\n",
              "</style>\n",
              "<table border=\"1\" class=\"dataframe\">\n",
              "  <thead>\n",
              "    <tr style=\"text-align: right;\">\n",
              "      <th></th>\n",
              "      <th>DisplayName</th>\n",
              "      <th>SILICON_POSTS</th>\n",
              "    </tr>\n",
              "  </thead>\n",
              "  <tbody>\n",
              "    <tr>\n",
              "      <th>0</th>\n",
              "      <td>Emre</td>\n",
              "      <td>&lt;blockquote&gt;\\n  &lt;p&gt;For example I should delete...</td>\n",
              "    </tr>\n",
              "    <tr>\n",
              "      <th>1</th>\n",
              "      <td>Emre</td>\n",
              "      <td>&lt;blockquote&gt;\\n  &lt;p&gt;From this sample set I woul...</td>\n",
              "    </tr>\n",
              "    <tr>\n",
              "      <th>2</th>\n",
              "      <td>Emre</td>\n",
              "      <td>&lt;blockquote&gt;\\n  &lt;p&gt;How best could I organize t...</td>\n",
              "    </tr>\n",
              "    <tr>\n",
              "      <th>3</th>\n",
              "      <td>Emre</td>\n",
              "      <td>&lt;blockquote&gt;\\n  &lt;p&gt;What does this sentence mea...</td>\n",
              "    </tr>\n",
              "    <tr>\n",
              "      <th>4</th>\n",
              "      <td>Emre</td>\n",
              "      <td>&lt;h1&gt;Clustering&lt;/h1&gt;\\n\\n&lt;p&gt;I think a tree is a ...</td>\n",
              "    </tr>\n",
              "    <tr>\n",
              "      <th>...</th>\n",
              "      <td>...</td>\n",
              "      <td>...</td>\n",
              "    </tr>\n",
              "    <tr>\n",
              "      <th>269</th>\n",
              "      <td>John L.</td>\n",
              "      <td>&lt;p&gt;I have started to investigate word2vec and ...</td>\n",
              "    </tr>\n",
              "    <tr>\n",
              "      <th>270</th>\n",
              "      <td>Sabrina</td>\n",
              "      <td>&lt;p&gt;I am using encoder-decoder model to predict...</td>\n",
              "    </tr>\n",
              "    <tr>\n",
              "      <th>271</th>\n",
              "      <td>Sabrina</td>\n",
              "      <td>&lt;p&gt;I have two encoder-decoder models. &lt;/p&gt;\\n\\n...</td>\n",
              "    </tr>\n",
              "    <tr>\n",
              "      <th>272</th>\n",
              "      <td>Ryan</td>\n",
              "      <td>&lt;p&gt;After a model is built, how can I use it to...</td>\n",
              "    </tr>\n",
              "    <tr>\n",
              "      <th>273</th>\n",
              "      <td>Ryan</td>\n",
              "      <td>&lt;p&gt;I'd like to import the Rotten Tomatoes Movi...</td>\n",
              "    </tr>\n",
              "  </tbody>\n",
              "</table>\n",
              "<p>274 rows × 2 columns</p>\n",
              "</div>"
            ],
            "text/plain": [
              "    DisplayName                                      SILICON_POSTS\n",
              "0          Emre  <blockquote>\\n  <p>For example I should delete...\n",
              "1          Emre  <blockquote>\\n  <p>From this sample set I woul...\n",
              "2          Emre  <blockquote>\\n  <p>How best could I organize t...\n",
              "3          Emre  <blockquote>\\n  <p>What does this sentence mea...\n",
              "4          Emre  <h1>Clustering</h1>\\n\\n<p>I think a tree is a ...\n",
              "..          ...                                                ...\n",
              "269     John L.  <p>I have started to investigate word2vec and ...\n",
              "270     Sabrina  <p>I am using encoder-decoder model to predict...\n",
              "271     Sabrina  <p>I have two encoder-decoder models. </p>\\n\\n...\n",
              "272        Ryan  <p>After a model is built, how can I use it to...\n",
              "273        Ryan  <p>I'd like to import the Rotten Tomatoes Movi...\n",
              "\n",
              "[274 rows x 2 columns]"
            ]
          },
          "metadata": {
            "tags": []
          },
          "execution_count": 87
        }
      ]
    },
    {
      "cell_type": "code",
      "metadata": {
        "id": "4dynf-hxsWI6",
        "colab_type": "code",
        "outputId": "df81c108-90a1-4eb3-a2fb-14636c5e08ed",
        "colab": {
          "base_uri": "https://localhost:8080/",
          "height": 69
        }
      },
      "source": [
        "grader.grade(test_case_id = 'find_data_scientist', answer = silicon_posts_df)"
      ],
      "execution_count": 0,
      "outputs": [
        {
          "output_type": "stream",
          "text": [
            "Correct! You earned 8/8 points. You are a star!\n",
            "\n",
            "Your submission has been successfully recorded in the gradebook.\n"
          ],
          "name": "stdout"
        }
      ]
    },
    {
      "cell_type": "markdown",
      "metadata": {
        "id": "GBLZSSBx-RpS",
        "colab_type": "text"
      },
      "source": [
        "Do the posts make sense to you? look at the text and see if those seem to be genuine questions. \n",
        "\n",
        "Let's see the number of posts in the dataframe created above"
      ]
    },
    {
      "cell_type": "markdown",
      "metadata": {
        "id": "hv_FKS0K-k7u",
        "colab_type": "text"
      },
      "source": [
        "Now let's find the number of posts from Philly! Create a similar dataframe as above but for location as Philadelphia"
      ]
    },
    {
      "cell_type": "code",
      "metadata": {
        "id": "9XxbpteG-4RU",
        "colab_type": "code",
        "outputId": "e13b01e6-4876-4557-8fd1-54be3ab51ab5",
        "colab": {
          "base_uri": "https://localhost:8080/",
          "height": 1000
        }
      },
      "source": [
        "philly_users_df = ps.sqldf('SELECT Id, DisplayName FROM users_df WHERE Location LIKE \"%Philadelphia%\"')\n",
        "print(philly_users_df)\n",
        "cheesesteak_posts_df = ps.sqldf(\"SELECT pu.DisplayName, \\\n",
        "                             p.Body as PHILADELPHIA_POSTS FROM philly_users_df pu \\\n",
        "                             INNER JOIN posts_df p\\\n",
        "                             ON p.OwnerUserId = pu.Id\")\n",
        "cheesesteak_posts_df"
      ],
      "execution_count": 0,
      "outputs": [
        {
          "output_type": "stream",
          "text": [
            "       Id         DisplayName\n",
            "0      52                Koba\n",
            "1     197                GIRI\n",
            "2    2516       James Bentley\n",
            "3    3480     Matthew Plourde\n",
            "4    3556               Randy\n",
            "..    ...                 ...\n",
            "78  80356  Athanasios Tsiaras\n",
            "79  82236             RemiDav\n",
            "80  83030           Bagavathi\n",
            "81  83882     Saul Aryeh Kohn\n",
            "82  84206        Aaqil Rahman\n",
            "\n",
            "[83 rows x 2 columns]\n"
          ],
          "name": "stdout"
        },
        {
          "output_type": "execute_result",
          "data": {
            "text/html": [
              "<div>\n",
              "<style scoped>\n",
              "    .dataframe tbody tr th:only-of-type {\n",
              "        vertical-align: middle;\n",
              "    }\n",
              "\n",
              "    .dataframe tbody tr th {\n",
              "        vertical-align: top;\n",
              "    }\n",
              "\n",
              "    .dataframe thead th {\n",
              "        text-align: right;\n",
              "    }\n",
              "</style>\n",
              "<table border=\"1\" class=\"dataframe\">\n",
              "  <thead>\n",
              "    <tr style=\"text-align: right;\">\n",
              "      <th></th>\n",
              "      <th>DisplayName</th>\n",
              "      <th>PHILADELPHIA_POSTS</th>\n",
              "    </tr>\n",
              "  </thead>\n",
              "  <tbody>\n",
              "    <tr>\n",
              "      <th>0</th>\n",
              "      <td>Koba</td>\n",
              "      <td>&lt;p&gt;XML is a markup language similar to html. O...</td>\n",
              "    </tr>\n",
              "    <tr>\n",
              "      <th>1</th>\n",
              "      <td>Randy</td>\n",
              "      <td>&lt;p&gt;When looking for texts to learn advanced to...</td>\n",
              "    </tr>\n",
              "    <tr>\n",
              "      <th>2</th>\n",
              "      <td>JasonAizkalns</td>\n",
              "      <td>&lt;p&gt;As an analytics practitioner, I frequently ...</td>\n",
              "    </tr>\n",
              "    <tr>\n",
              "      <th>3</th>\n",
              "      <td>JasonAizkalns</td>\n",
              "      <td>&lt;p&gt;One way is to use the &lt;code&gt;infer&lt;/code&gt; pa...</td>\n",
              "    </tr>\n",
              "    <tr>\n",
              "      <th>4</th>\n",
              "      <td>JasonAizkalns</td>\n",
              "      <td>&lt;p&gt;The &lt;code&gt;dplyr&lt;/code&gt; package should be us...</td>\n",
              "    </tr>\n",
              "    <tr>\n",
              "      <th>5</th>\n",
              "      <td>JasonAizkalns</td>\n",
              "      <td>&lt;p&gt;This is probably best explained via an anal...</td>\n",
              "    </tr>\n",
              "    <tr>\n",
              "      <th>6</th>\n",
              "      <td>JasonAizkalns</td>\n",
              "      <td>&lt;p&gt;You could use the &lt;code&gt;dplyr&lt;/code&gt; packag...</td>\n",
              "    </tr>\n",
              "    <tr>\n",
              "      <th>7</th>\n",
              "      <td>Brian Rushton</td>\n",
              "      <td>&lt;p&gt;I've been researching the history and use o...</td>\n",
              "    </tr>\n",
              "    <tr>\n",
              "      <th>8</th>\n",
              "      <td>Russell Richie</td>\n",
              "      <td>&lt;blockquote&gt;\\n  &lt;p&gt;=run a maximum of n tests o...</td>\n",
              "    </tr>\n",
              "    <tr>\n",
              "      <th>9</th>\n",
              "      <td>Russell Richie</td>\n",
              "      <td>&lt;p&gt;From Sebastian Raschka's &lt;em&gt;&lt;a href=\"https...</td>\n",
              "    </tr>\n",
              "    <tr>\n",
              "      <th>10</th>\n",
              "      <td>Russell Richie</td>\n",
              "      <td>&lt;p&gt;Multi-indexing &lt;em&gt;might&lt;/em&gt; be helpful. S...</td>\n",
              "    </tr>\n",
              "    <tr>\n",
              "      <th>11</th>\n",
              "      <td>Russell Richie</td>\n",
              "      <td>&lt;p&gt;One quick note: gridsearch gets &lt;em&gt;very&lt;/e...</td>\n",
              "    </tr>\n",
              "    <tr>\n",
              "      <th>12</th>\n",
              "      <td>Russell Richie</td>\n",
              "      <td>&lt;p&gt;You can train after each example, or after ...</td>\n",
              "    </tr>\n",
              "    <tr>\n",
              "      <th>13</th>\n",
              "      <td>A.I.</td>\n",
              "      <td>&lt;p&gt;Can anyone provide specific techniques with...</td>\n",
              "    </tr>\n",
              "    <tr>\n",
              "      <th>14</th>\n",
              "      <td>William Entriken</td>\n",
              "      <td>&lt;h1&gt;Some data&lt;/h1&gt;\\n\\n&lt;p&gt;Maybe this is easiest...</td>\n",
              "    </tr>\n",
              "    <tr>\n",
              "      <th>15</th>\n",
              "      <td>William Entriken</td>\n",
              "      <td>&lt;p&gt;I am modeling a binary classification and m...</td>\n",
              "    </tr>\n",
              "    <tr>\n",
              "      <th>16</th>\n",
              "      <td>William Entriken</td>\n",
              "      <td>&lt;p&gt;I am trying to predict an output value base...</td>\n",
              "    </tr>\n",
              "    <tr>\n",
              "      <th>17</th>\n",
              "      <td>William Entriken</td>\n",
              "      <td>&lt;p&gt;I have a locus &lt;code&gt;L&lt;/code&gt; of points (la...</td>\n",
              "    </tr>\n",
              "    <tr>\n",
              "      <th>18</th>\n",
              "      <td>William Entriken</td>\n",
              "      <td>&lt;p&gt;I understand data hygiene, which is probabl...</td>\n",
              "    </tr>\n",
              "    <tr>\n",
              "      <th>19</th>\n",
              "      <td>William Entriken</td>\n",
              "      <td>&lt;p&gt;I understand that the loss metric can be us...</td>\n",
              "    </tr>\n",
              "    <tr>\n",
              "      <th>20</th>\n",
              "      <td>William Entriken</td>\n",
              "      <td>&lt;p&gt;Let's assume I'm modeling a process like:&lt;/...</td>\n",
              "    </tr>\n",
              "    <tr>\n",
              "      <th>21</th>\n",
              "      <td>William Entriken</td>\n",
              "      <td>&lt;p&gt;Scipy has tools most most of this already.&lt;...</td>\n",
              "    </tr>\n",
              "    <tr>\n",
              "      <th>22</th>\n",
              "      <td>MuhsinFatih</td>\n",
              "      <td>&lt;p&gt;I am trying to implement an algorithm where...</td>\n",
              "    </tr>\n",
              "    <tr>\n",
              "      <th>23</th>\n",
              "      <td>Krishnang K Dalal</td>\n",
              "      <td>&lt;p&gt;&lt;em&gt;Please pardon me as the title might not...</td>\n",
              "    </tr>\n",
              "    <tr>\n",
              "      <th>24</th>\n",
              "      <td>Krishnang K Dalal</td>\n",
              "      <td>&lt;p&gt;I want to understand how to split the imbal...</td>\n",
              "    </tr>\n",
              "    <tr>\n",
              "      <th>25</th>\n",
              "      <td>JJtheNOOB</td>\n",
              "      <td>&lt;p&gt;I am working with kaggle dataset that has o...</td>\n",
              "    </tr>\n",
              "    <tr>\n",
              "      <th>26</th>\n",
              "      <td>ZacharyC</td>\n",
              "      <td>&lt;p&gt;I am attempting to plot the expected diffra...</td>\n",
              "    </tr>\n",
              "    <tr>\n",
              "      <th>27</th>\n",
              "      <td>Navdeep</td>\n",
              "      <td>&lt;p&gt;I have two sets of networks:&lt;/p&gt;\\n\\n&lt;p&gt;netw...</td>\n",
              "    </tr>\n",
              "    <tr>\n",
              "      <th>28</th>\n",
              "      <td>RemiDav</td>\n",
              "      <td>&lt;p&gt;There are more and more databases of pictur...</td>\n",
              "    </tr>\n",
              "  </tbody>\n",
              "</table>\n",
              "</div>"
            ],
            "text/plain": [
              "          DisplayName                                 PHILADELPHIA_POSTS\n",
              "0                Koba  <p>XML is a markup language similar to html. O...\n",
              "1               Randy  <p>When looking for texts to learn advanced to...\n",
              "2       JasonAizkalns  <p>As an analytics practitioner, I frequently ...\n",
              "3       JasonAizkalns  <p>One way is to use the <code>infer</code> pa...\n",
              "4       JasonAizkalns  <p>The <code>dplyr</code> package should be us...\n",
              "5       JasonAizkalns  <p>This is probably best explained via an anal...\n",
              "6       JasonAizkalns  <p>You could use the <code>dplyr</code> packag...\n",
              "7       Brian Rushton  <p>I've been researching the history and use o...\n",
              "8      Russell Richie  <blockquote>\\n  <p>=run a maximum of n tests o...\n",
              "9      Russell Richie  <p>From Sebastian Raschka's <em><a href=\"https...\n",
              "10     Russell Richie  <p>Multi-indexing <em>might</em> be helpful. S...\n",
              "11     Russell Richie  <p>One quick note: gridsearch gets <em>very</e...\n",
              "12     Russell Richie  <p>You can train after each example, or after ...\n",
              "13               A.I.  <p>Can anyone provide specific techniques with...\n",
              "14   William Entriken  <h1>Some data</h1>\\n\\n<p>Maybe this is easiest...\n",
              "15   William Entriken  <p>I am modeling a binary classification and m...\n",
              "16   William Entriken  <p>I am trying to predict an output value base...\n",
              "17   William Entriken  <p>I have a locus <code>L</code> of points (la...\n",
              "18   William Entriken  <p>I understand data hygiene, which is probabl...\n",
              "19   William Entriken  <p>I understand that the loss metric can be us...\n",
              "20   William Entriken  <p>Let's assume I'm modeling a process like:</...\n",
              "21   William Entriken  <p>Scipy has tools most most of this already.<...\n",
              "22        MuhsinFatih  <p>I am trying to implement an algorithm where...\n",
              "23  Krishnang K Dalal  <p><em>Please pardon me as the title might not...\n",
              "24  Krishnang K Dalal  <p>I want to understand how to split the imbal...\n",
              "25          JJtheNOOB  <p>I am working with kaggle dataset that has o...\n",
              "26           ZacharyC  <p>I am attempting to plot the expected diffra...\n",
              "27            Navdeep  <p>I have two sets of networks:</p>\\n\\n<p>netw...\n",
              "28            RemiDav  <p>There are more and more databases of pictur..."
            ]
          },
          "metadata": {
            "tags": []
          },
          "execution_count": 85
        }
      ]
    },
    {
      "cell_type": "code",
      "metadata": {
        "id": "vAV7gWvttndO",
        "colab_type": "code",
        "outputId": "175d1045-927d-44a4-b68a-6ddb40f19040",
        "colab": {
          "base_uri": "https://localhost:8080/",
          "height": 69
        }
      },
      "source": [
        "grader.grade(test_case_id = 'sad_penn_students', answer = cheesesteak_posts_df)"
      ],
      "execution_count": 0,
      "outputs": [
        {
          "output_type": "stream",
          "text": [
            "Correct! You earned 7/7 points. You are a star!\n",
            "\n",
            "Your submission has been successfully recorded in the gradebook.\n"
          ],
          "name": "stdout"
        }
      ]
    },
    {
      "cell_type": "markdown",
      "metadata": {
        "id": "zva7j1F9_CSO",
        "colab_type": "text"
      },
      "source": [
        "Next, find the locations whose users make the most number of posts. You should return a dataframe with the location and the corresponding number of posts. Title the second column \"NUM_POSTS\". Do this within the query. Limit your results to only 25"
      ]
    },
    {
      "cell_type": "code",
      "metadata": {
        "id": "npgiP13I_cv1",
        "colab_type": "code",
        "outputId": "ae21cae8-de07-40a8-8e59-495fad69f1e1",
        "colab": {
          "base_uri": "https://localhost:8080/",
          "height": 815
        }
      },
      "source": [
        "locations_post_count_df = ps.sqldf('SELECT u.Id, u.Location\\\n",
        "                                FROM users_df u \\\n",
        "                                INNER JOIN posts_df ON u.Id = posts_df.OwnerUserId\\\n",
        "                                ')\n",
        "\n",
        "locations_post_count_df = ps.sqldf('SELECT Location, count(*) as NUM_POSTS \\\n",
        "                                   FROM locations_post_count_df \\\n",
        "                                   GROUP BY Location \\\n",
        "                                   ORDER BY NUM_POSTS DESC LIMIT 25')\n",
        "locations_post_count_df"
      ],
      "execution_count": 0,
      "outputs": [
        {
          "output_type": "execute_result",
          "data": {
            "text/html": [
              "<div>\n",
              "<style scoped>\n",
              "    .dataframe tbody tr th:only-of-type {\n",
              "        vertical-align: middle;\n",
              "    }\n",
              "\n",
              "    .dataframe tbody tr th {\n",
              "        vertical-align: top;\n",
              "    }\n",
              "\n",
              "    .dataframe thead th {\n",
              "        text-align: right;\n",
              "    }\n",
              "</style>\n",
              "<table border=\"1\" class=\"dataframe\">\n",
              "  <thead>\n",
              "    <tr style=\"text-align: right;\">\n",
              "      <th></th>\n",
              "      <th>Location</th>\n",
              "      <th>NUM_POSTS</th>\n",
              "    </tr>\n",
              "  </thead>\n",
              "  <tbody>\n",
              "    <tr>\n",
              "      <th>0</th>\n",
              "      <td>None</td>\n",
              "      <td>20768</td>\n",
              "    </tr>\n",
              "    <tr>\n",
              "      <th>1</th>\n",
              "      <td>India</td>\n",
              "      <td>809</td>\n",
              "    </tr>\n",
              "    <tr>\n",
              "      <th>2</th>\n",
              "      <td>Durham, United Kingdom</td>\n",
              "      <td>420</td>\n",
              "    </tr>\n",
              "    <tr>\n",
              "      <th>3</th>\n",
              "      <td>San Francisco, CA, USA</td>\n",
              "      <td>399</td>\n",
              "    </tr>\n",
              "    <tr>\n",
              "      <th>4</th>\n",
              "      <td>Europa</td>\n",
              "      <td>371</td>\n",
              "    </tr>\n",
              "    <tr>\n",
              "      <th>5</th>\n",
              "      <td>Series of tubes.</td>\n",
              "      <td>345</td>\n",
              "    </tr>\n",
              "    <tr>\n",
              "      <th>6</th>\n",
              "      <td>Bangalore, Karnataka, India</td>\n",
              "      <td>330</td>\n",
              "    </tr>\n",
              "    <tr>\n",
              "      <th>7</th>\n",
              "      <td>Germany</td>\n",
              "      <td>323</td>\n",
              "    </tr>\n",
              "    <tr>\n",
              "      <th>8</th>\n",
              "      <td>Singapore</td>\n",
              "      <td>319</td>\n",
              "    </tr>\n",
              "    <tr>\n",
              "      <th>9</th>\n",
              "      <td>Silicon Valley, CA, United States</td>\n",
              "      <td>264</td>\n",
              "    </tr>\n",
              "    <tr>\n",
              "      <th>10</th>\n",
              "      <td>München, Deutschland</td>\n",
              "      <td>257</td>\n",
              "    </tr>\n",
              "    <tr>\n",
              "      <th>11</th>\n",
              "      <td>Amsterdam</td>\n",
              "      <td>254</td>\n",
              "    </tr>\n",
              "    <tr>\n",
              "      <th>12</th>\n",
              "      <td>Montreal, QC, Canada</td>\n",
              "      <td>246</td>\n",
              "    </tr>\n",
              "    <tr>\n",
              "      <th>13</th>\n",
              "      <td>Paris, France</td>\n",
              "      <td>246</td>\n",
              "    </tr>\n",
              "    <tr>\n",
              "      <th>14</th>\n",
              "      <td>Greece</td>\n",
              "      <td>241</td>\n",
              "    </tr>\n",
              "    <tr>\n",
              "      <th>15</th>\n",
              "      <td>USA</td>\n",
              "      <td>224</td>\n",
              "    </tr>\n",
              "    <tr>\n",
              "      <th>16</th>\n",
              "      <td>Gurgaon, India</td>\n",
              "      <td>222</td>\n",
              "    </tr>\n",
              "    <tr>\n",
              "      <th>17</th>\n",
              "      <td>London, UK</td>\n",
              "      <td>209</td>\n",
              "    </tr>\n",
              "    <tr>\n",
              "      <th>18</th>\n",
              "      <td>Bengaluru, Karnataka, India</td>\n",
              "      <td>208</td>\n",
              "    </tr>\n",
              "    <tr>\n",
              "      <th>19</th>\n",
              "      <td>London, United Kingdom</td>\n",
              "      <td>207</td>\n",
              "    </tr>\n",
              "    <tr>\n",
              "      <th>20</th>\n",
              "      <td>Frankfurt am Main, Deutschland</td>\n",
              "      <td>179</td>\n",
              "    </tr>\n",
              "    <tr>\n",
              "      <th>21</th>\n",
              "      <td>Bonn, Germany</td>\n",
              "      <td>177</td>\n",
              "    </tr>\n",
              "    <tr>\n",
              "      <th>22</th>\n",
              "      <td>Canada</td>\n",
              "      <td>177</td>\n",
              "    </tr>\n",
              "    <tr>\n",
              "      <th>23</th>\n",
              "      <td>Berlin, Germany</td>\n",
              "      <td>176</td>\n",
              "    </tr>\n",
              "    <tr>\n",
              "      <th>24</th>\n",
              "      <td>Chicago, IL, USA</td>\n",
              "      <td>164</td>\n",
              "    </tr>\n",
              "  </tbody>\n",
              "</table>\n",
              "</div>"
            ],
            "text/plain": [
              "                             Location  NUM_POSTS\n",
              "0                                None      20768\n",
              "1                               India        809\n",
              "2              Durham, United Kingdom        420\n",
              "3              San Francisco, CA, USA        399\n",
              "4                              Europa        371\n",
              "5                    Series of tubes.        345\n",
              "6         Bangalore, Karnataka, India        330\n",
              "7                             Germany        323\n",
              "8                           Singapore        319\n",
              "9   Silicon Valley, CA, United States        264\n",
              "10               München, Deutschland        257\n",
              "11                          Amsterdam        254\n",
              "12               Montreal, QC, Canada        246\n",
              "13                      Paris, France        246\n",
              "14                             Greece        241\n",
              "15                                USA        224\n",
              "16                     Gurgaon, India        222\n",
              "17                         London, UK        209\n",
              "18        Bengaluru, Karnataka, India        208\n",
              "19             London, United Kingdom        207\n",
              "20     Frankfurt am Main, Deutschland        179\n",
              "21                      Bonn, Germany        177\n",
              "22                             Canada        177\n",
              "23                    Berlin, Germany        176\n",
              "24                   Chicago, IL, USA        164"
            ]
          },
          "metadata": {
            "tags": []
          },
          "execution_count": 17
        }
      ]
    },
    {
      "cell_type": "code",
      "metadata": {
        "id": "QUiUjynphlhg",
        "colab_type": "code",
        "outputId": "ae798243-ee58-483c-8022-9dcef7bce808",
        "colab": {
          "base_uri": "https://localhost:8080/",
          "height": 69
        }
      },
      "source": [
        "grader.grade(test_case_id = 'popular_post_locations', answer = locations_post_count_df)"
      ],
      "execution_count": 0,
      "outputs": [
        {
          "output_type": "stream",
          "text": [
            "Correct! You earned 8/8 points. You are a star!\n",
            "\n",
            "Your submission has been successfully recorded in the gradebook.\n"
          ],
          "name": "stdout"
        }
      ]
    },
    {
      "cell_type": "markdown",
      "metadata": {
        "id": "eijruh5C_k0Y",
        "colab_type": "text"
      },
      "source": [
        "### 2.5 The Self-Obsessed Users (i.e. the Craigs again)\n",
        "\n",
        "Let's find users who comment on their own posts a lotttt. You should return a dataframe which has the display name of the user and the number of comments that the person has on their own posts. \n",
        "Keep users whose number of comments (on their own posts) is strictly greater than the median number from your result"
      ]
    },
    {
      "cell_type": "code",
      "metadata": {
        "id": "6IdF1sZ4Aa7O",
        "colab_type": "code",
        "outputId": "e466d117-f0f9-40ef-fa7c-a5d0b64c9357",
        "colab": {
          "base_uri": "https://localhost:8080/",
          "height": 433
        }
      },
      "source": [
        "filter_df = ps.sqldf('SELECT c.UserId FROM comments_df c \\\n",
        "                      INNER JOIN posts_df p ON c.UserId == p.OwnerUserId and c.PostId = p.Id')\n",
        "filter_df = ps.sqldf('SELECT UserId, count(*) as Count \\\n",
        "                      FROM filter_df GROUP BY UserId')\n",
        "median = filter_df['Count'].median()\n",
        "print(median)\n",
        "filter_df = ps.sqldf('SELECT UserId, Count FROM filter_df WHERE Count > 1')\n",
        "filter_df"
      ],
      "execution_count": 0,
      "outputs": [
        {
          "output_type": "stream",
          "text": [
            "1.0\n"
          ],
          "name": "stdout"
        },
        {
          "output_type": "execute_result",
          "data": {
            "text/html": [
              "<div>\n",
              "<style scoped>\n",
              "    .dataframe tbody tr th:only-of-type {\n",
              "        vertical-align: middle;\n",
              "    }\n",
              "\n",
              "    .dataframe tbody tr th {\n",
              "        vertical-align: top;\n",
              "    }\n",
              "\n",
              "    .dataframe thead th {\n",
              "        text-align: right;\n",
              "    }\n",
              "</style>\n",
              "<table border=\"1\" class=\"dataframe\">\n",
              "  <thead>\n",
              "    <tr style=\"text-align: right;\">\n",
              "      <th></th>\n",
              "      <th>UserId</th>\n",
              "      <th>Count</th>\n",
              "    </tr>\n",
              "  </thead>\n",
              "  <tbody>\n",
              "    <tr>\n",
              "      <th>0</th>\n",
              "      <td>14.0</td>\n",
              "      <td>11</td>\n",
              "    </tr>\n",
              "    <tr>\n",
              "      <th>1</th>\n",
              "      <td>21.0</td>\n",
              "      <td>23</td>\n",
              "    </tr>\n",
              "    <tr>\n",
              "      <th>2</th>\n",
              "      <td>36.0</td>\n",
              "      <td>3</td>\n",
              "    </tr>\n",
              "    <tr>\n",
              "      <th>3</th>\n",
              "      <td>59.0</td>\n",
              "      <td>4</td>\n",
              "    </tr>\n",
              "    <tr>\n",
              "      <th>4</th>\n",
              "      <td>75.0</td>\n",
              "      <td>12</td>\n",
              "    </tr>\n",
              "    <tr>\n",
              "      <th>...</th>\n",
              "      <td>...</td>\n",
              "      <td>...</td>\n",
              "    </tr>\n",
              "    <tr>\n",
              "      <th>2206</th>\n",
              "      <td>85684.0</td>\n",
              "      <td>2</td>\n",
              "    </tr>\n",
              "    <tr>\n",
              "      <th>2207</th>\n",
              "      <td>85750.0</td>\n",
              "      <td>2</td>\n",
              "    </tr>\n",
              "    <tr>\n",
              "      <th>2208</th>\n",
              "      <td>85960.0</td>\n",
              "      <td>3</td>\n",
              "    </tr>\n",
              "    <tr>\n",
              "      <th>2209</th>\n",
              "      <td>86015.0</td>\n",
              "      <td>3</td>\n",
              "    </tr>\n",
              "    <tr>\n",
              "      <th>2210</th>\n",
              "      <td>86068.0</td>\n",
              "      <td>2</td>\n",
              "    </tr>\n",
              "  </tbody>\n",
              "</table>\n",
              "<p>2211 rows × 2 columns</p>\n",
              "</div>"
            ],
            "text/plain": [
              "       UserId  Count\n",
              "0        14.0     11\n",
              "1        21.0     23\n",
              "2        36.0      3\n",
              "3        59.0      4\n",
              "4        75.0     12\n",
              "...       ...    ...\n",
              "2206  85684.0      2\n",
              "2207  85750.0      2\n",
              "2208  85960.0      3\n",
              "2209  86015.0      3\n",
              "2210  86068.0      2\n",
              "\n",
              "[2211 rows x 2 columns]"
            ]
          },
          "metadata": {
            "tags": []
          },
          "execution_count": 42
        }
      ]
    },
    {
      "cell_type": "code",
      "metadata": {
        "id": "sumG_zBXkc5j",
        "colab_type": "code",
        "outputId": "9e8d1816-6094-4ac8-ac22-bc5397576d8f",
        "colab": {
          "base_uri": "https://localhost:8080/",
          "height": 69
        }
      },
      "source": [
        "grader.grade(test_case_id = 'craig_is_great', answer = filter_df)"
      ],
      "execution_count": 0,
      "outputs": [
        {
          "output_type": "stream",
          "text": [
            "Correct! You earned 10/10 points. You are a star!\n",
            "\n",
            "Your submission has been successfully recorded in the gradebook.\n"
          ],
          "name": "stdout"
        }
      ]
    },
    {
      "cell_type": "markdown",
      "metadata": {
        "id": "cVmOB0dUAfDT",
        "colab_type": "text"
      },
      "source": [
        "### 2.6 All about the 'Big Data' Buzz\n",
        "\n",
        "You probably signed up for this class for the cooool name 'bIg DaTa ANalYtIcS'. Big data and ML are the current hype. Let's see how many posts talk about big data and how often these are viewed. \n",
        "\n",
        "Create a dataframe that includes the title, view count and body where the post body contains 'big data' (ignore case when you match). Sort in the decreasing order of the number of views. Return only posts which have been viewed.\n"
      ]
    },
    {
      "cell_type": "code",
      "metadata": {
        "id": "f61JAt9CB795",
        "colab_type": "code",
        "outputId": "1dcea4b3-d326-49bc-8981-8f19668f849a",
        "colab": {
          "base_uri": "https://localhost:8080/",
          "height": 537
        }
      },
      "source": [
        "buzz_df = ps.sqldf('SELECT OwnerUserId, Title, ViewCount, Body FROM posts_df WHERE Body \\\n",
        "                    LIKE \"%big data%\" and ViewCount > 0 ORDER BY ViewCount DESC')\n",
        "buzz_df"
      ],
      "execution_count": 0,
      "outputs": [
        {
          "output_type": "execute_result",
          "data": {
            "text/html": [
              "<div>\n",
              "<style scoped>\n",
              "    .dataframe tbody tr th:only-of-type {\n",
              "        vertical-align: middle;\n",
              "    }\n",
              "\n",
              "    .dataframe tbody tr th {\n",
              "        vertical-align: top;\n",
              "    }\n",
              "\n",
              "    .dataframe thead th {\n",
              "        text-align: right;\n",
              "    }\n",
              "</style>\n",
              "<table border=\"1\" class=\"dataframe\">\n",
              "  <thead>\n",
              "    <tr style=\"text-align: right;\">\n",
              "      <th></th>\n",
              "      <th>OwnerUserId</th>\n",
              "      <th>Title</th>\n",
              "      <th>ViewCount</th>\n",
              "      <th>Body</th>\n",
              "    </tr>\n",
              "  </thead>\n",
              "  <tbody>\n",
              "    <tr>\n",
              "      <th>0</th>\n",
              "      <td>2723.0</td>\n",
              "      <td>Data Science in C (or C++)</td>\n",
              "      <td>43958.0</td>\n",
              "      <td>&lt;p&gt;I'm an &lt;code&gt;R&lt;/code&gt; language programmer. ...</td>\n",
              "    </tr>\n",
              "    <tr>\n",
              "      <th>1</th>\n",
              "      <td>227.0</td>\n",
              "      <td>Publicly Available Datasets</td>\n",
              "      <td>27231.0</td>\n",
              "      <td>&lt;p&gt;One of the common problems in data science ...</td>\n",
              "    </tr>\n",
              "    <tr>\n",
              "      <th>2</th>\n",
              "      <td>847.0</td>\n",
              "      <td>Deep Learning vs gradient boosting: When to us...</td>\n",
              "      <td>20498.0</td>\n",
              "      <td>&lt;p&gt;I have a big data problem with a large data...</td>\n",
              "    </tr>\n",
              "    <tr>\n",
              "      <th>3</th>\n",
              "      <td>456.0</td>\n",
              "      <td>Do I need to learn Hadoop to be a Data Scientist?</td>\n",
              "      <td>19478.0</td>\n",
              "      <td>&lt;p&gt;An aspiring data scientist here. I don't kn...</td>\n",
              "    </tr>\n",
              "    <tr>\n",
              "      <th>4</th>\n",
              "      <td>84.0</td>\n",
              "      <td>How big is big data?</td>\n",
              "      <td>13211.0</td>\n",
              "      <td>&lt;p&gt;Lots of people use the term &lt;em&gt;big data&lt;/e...</td>\n",
              "    </tr>\n",
              "    <tr>\n",
              "      <th>...</th>\n",
              "      <td>...</td>\n",
              "      <td>...</td>\n",
              "      <td>...</td>\n",
              "      <td>...</td>\n",
              "    </tr>\n",
              "    <tr>\n",
              "      <th>160</th>\n",
              "      <td>46200.0</td>\n",
              "      <td>Is veracity in big data theory a good thing to...</td>\n",
              "      <td>9.0</td>\n",
              "      <td>&lt;p&gt;I am new to big data field. I know the basi...</td>\n",
              "    </tr>\n",
              "    <tr>\n",
              "      <th>161</th>\n",
              "      <td>84163.0</td>\n",
              "      <td>Applying different feature scaling to differen...</td>\n",
              "      <td>8.0</td>\n",
              "      <td>&lt;p&gt;I am currently studying a course about big ...</td>\n",
              "    </tr>\n",
              "    <tr>\n",
              "      <th>162</th>\n",
              "      <td>77958.0</td>\n",
              "      <td>How to process data quickly for users in a web...</td>\n",
              "      <td>7.0</td>\n",
              "      <td>&lt;p&gt;I am building a site that will let users ad...</td>\n",
              "    </tr>\n",
              "    <tr>\n",
              "      <th>163</th>\n",
              "      <td>80097.0</td>\n",
              "      <td>Sequence prediction model choice</td>\n",
              "      <td>7.0</td>\n",
              "      <td>&lt;p&gt;I am working on log data. I extract each us...</td>\n",
              "    </tr>\n",
              "    <tr>\n",
              "      <th>164</th>\n",
              "      <td>60379.0</td>\n",
              "      <td>How to assign optimal min_sup value in apriori...</td>\n",
              "      <td>6.0</td>\n",
              "      <td>&lt;p&gt;Have processed product sales data after dat...</td>\n",
              "    </tr>\n",
              "  </tbody>\n",
              "</table>\n",
              "<p>165 rows × 4 columns</p>\n",
              "</div>"
            ],
            "text/plain": [
              "     OwnerUserId  ...                                               Body\n",
              "0         2723.0  ...  <p>I'm an <code>R</code> language programmer. ...\n",
              "1          227.0  ...  <p>One of the common problems in data science ...\n",
              "2          847.0  ...  <p>I have a big data problem with a large data...\n",
              "3          456.0  ...  <p>An aspiring data scientist here. I don't kn...\n",
              "4           84.0  ...  <p>Lots of people use the term <em>big data</e...\n",
              "..           ...  ...                                                ...\n",
              "160      46200.0  ...  <p>I am new to big data field. I know the basi...\n",
              "161      84163.0  ...  <p>I am currently studying a course about big ...\n",
              "162      77958.0  ...  <p>I am building a site that will let users ad...\n",
              "163      80097.0  ...  <p>I am working on log data. I extract each us...\n",
              "164      60379.0  ...  <p>Have processed product sales data after dat...\n",
              "\n",
              "[165 rows x 4 columns]"
            ]
          },
          "metadata": {
            "tags": []
          },
          "execution_count": 90
        }
      ]
    },
    {
      "cell_type": "code",
      "metadata": {
        "id": "DH3vjWa4l72Y",
        "colab_type": "code",
        "outputId": "b3ffddfa-6b4a-40a3-b59f-0d68d41b972f",
        "colab": {
          "base_uri": "https://localhost:8080/",
          "height": 69
        }
      },
      "source": [
        "grader.grade(test_case_id = 'big_data_buzz', answer = buzz_df)"
      ],
      "execution_count": 0,
      "outputs": [
        {
          "output_type": "stream",
          "text": [
            "Correct! You earned 7/7 points. You are a star!\n",
            "\n",
            "Your submission has been successfully recorded in the gradebook.\n"
          ],
          "name": "stdout"
        }
      ]
    },
    {
      "cell_type": "markdown",
      "metadata": {
        "id": "HVFWg8urCDsk",
        "colab_type": "text"
      },
      "source": [
        "Next, fetch the authors(displayName) of the top 10 posts in the buzz_df created above. Return the authors in the decreasing order of the view counts of their corresponding posts. Your dataframe should include the display name and the view count for the corresponding post.\n"
      ]
    },
    {
      "cell_type": "code",
      "metadata": {
        "id": "0aNGTYkhCi5K",
        "colab_type": "code",
        "outputId": "d2ee06c4-0a42-41b0-8485-2bc73f6ab947",
        "colab": {
          "base_uri": "https://localhost:8080/",
          "height": 355
        }
      },
      "source": [
        "buzz_authors_df = ps.sqldf('SELECT b.ViewCount, u.DisplayName FROM buzz_df b \\\n",
        "                            INNER JOIN users_df u ON b.OwnerUserId == u.Id \\\n",
        "                            LIMIT 10')\n",
        "\n",
        "buzz_authors_df"
      ],
      "execution_count": 0,
      "outputs": [
        {
          "output_type": "execute_result",
          "data": {
            "text/html": [
              "<div>\n",
              "<style scoped>\n",
              "    .dataframe tbody tr th:only-of-type {\n",
              "        vertical-align: middle;\n",
              "    }\n",
              "\n",
              "    .dataframe tbody tr th {\n",
              "        vertical-align: top;\n",
              "    }\n",
              "\n",
              "    .dataframe thead th {\n",
              "        text-align: right;\n",
              "    }\n",
              "</style>\n",
              "<table border=\"1\" class=\"dataframe\">\n",
              "  <thead>\n",
              "    <tr style=\"text-align: right;\">\n",
              "      <th></th>\n",
              "      <th>ViewCount</th>\n",
              "      <th>DisplayName</th>\n",
              "    </tr>\n",
              "  </thead>\n",
              "  <tbody>\n",
              "    <tr>\n",
              "      <th>0</th>\n",
              "      <td>43958.0</td>\n",
              "      <td>Hack-R</td>\n",
              "    </tr>\n",
              "    <tr>\n",
              "      <th>1</th>\n",
              "      <td>27231.0</td>\n",
              "      <td>Amir Ali Akbari</td>\n",
              "    </tr>\n",
              "    <tr>\n",
              "      <th>2</th>\n",
              "      <td>20498.0</td>\n",
              "      <td>Nitesh</td>\n",
              "    </tr>\n",
              "    <tr>\n",
              "      <th>3</th>\n",
              "      <td>19478.0</td>\n",
              "      <td>Pensu</td>\n",
              "    </tr>\n",
              "    <tr>\n",
              "      <th>4</th>\n",
              "      <td>13211.0</td>\n",
              "      <td>Rubens</td>\n",
              "    </tr>\n",
              "    <tr>\n",
              "      <th>5</th>\n",
              "      <td>12558.0</td>\n",
              "      <td>ragingSloth</td>\n",
              "    </tr>\n",
              "    <tr>\n",
              "      <th>6</th>\n",
              "      <td>7405.0</td>\n",
              "      <td>abdoBim</td>\n",
              "    </tr>\n",
              "    <tr>\n",
              "      <th>7</th>\n",
              "      <td>6076.0</td>\n",
              "      <td>akellyirl</td>\n",
              "    </tr>\n",
              "    <tr>\n",
              "      <th>8</th>\n",
              "      <td>5991.0</td>\n",
              "      <td>cpumar</td>\n",
              "    </tr>\n",
              "    <tr>\n",
              "      <th>9</th>\n",
              "      <td>5700.0</td>\n",
              "      <td>innovIsmail</td>\n",
              "    </tr>\n",
              "  </tbody>\n",
              "</table>\n",
              "</div>"
            ],
            "text/plain": [
              "   ViewCount      DisplayName\n",
              "0    43958.0           Hack-R\n",
              "1    27231.0  Amir Ali Akbari\n",
              "2    20498.0           Nitesh\n",
              "3    19478.0            Pensu\n",
              "4    13211.0           Rubens\n",
              "5    12558.0      ragingSloth\n",
              "6     7405.0          abdoBim\n",
              "7     6076.0        akellyirl\n",
              "8     5991.0           cpumar\n",
              "9     5700.0      innovIsmail"
            ]
          },
          "metadata": {
            "tags": []
          },
          "execution_count": 91
        }
      ]
    },
    {
      "cell_type": "code",
      "metadata": {
        "id": "vjJUgb2IulaD",
        "colab_type": "code",
        "outputId": "d66eae98-460f-4dde-806c-3ac9948df75e",
        "colab": {
          "base_uri": "https://localhost:8080/",
          "height": 69
        }
      },
      "source": [
        "grader.grade(test_case_id = 'top_10_buzz', answer = buzz_authors_df)"
      ],
      "execution_count": 0,
      "outputs": [
        {
          "output_type": "stream",
          "text": [
            "Correct! You earned 6/6 points. You are a star!\n",
            "\n",
            "Your submission has been successfully recorded in the gradebook.\n"
          ],
          "name": "stdout"
        }
      ]
    },
    {
      "cell_type": "markdown",
      "metadata": {
        "id": "7nLi5zXcCqSA",
        "colab_type": "text"
      },
      "source": [
        "## Part 3: Working with Text Data\n",
        "\n",
        "Our Stack Exchange data has plenty of text that we can play with, from the user descriptions, to the posts themselves. Text data is complex, but can also be generate extremely interpretable results, making it valuable and interesting. \n",
        "\n",
        "Let's see how we can apply the concepts from lecture to this dataset.\n",
        "\n",
        "***You should revert to using pandas to handle the data in this section, rather than pandasql.***\n",
        "\n",
        "### How do I get a high score? \n",
        "\n",
        "Suppose you're very invested in your Stack Exchange reputation, so you want to figure out what to post to increase your own reputation. Each post receives a score, where **score = number of upvotes - number of downvotes**. This value is already present in your posts_df. \n",
        "\n",
        "So, what should you post about in order to get a higher score and thus a higher reputation? Additionally, what shouldn't you post about?\n"
      ]
    },
    {
      "cell_type": "markdown",
      "metadata": {
        "id": "kMRY0RF8uXYA",
        "colab_type": "text"
      },
      "source": [
        "### 3.1\n",
        "First, get the the top 2% and the bottom 2% of posts in the dataset, by **Score**.\n",
        "\n",
        "Create two separate dataframes and name them **highest_scorers** and **lowest_scorers**."
      ]
    },
    {
      "cell_type": "code",
      "metadata": {
        "id": "5D5HI1FmMZ75",
        "colab_type": "code",
        "outputId": "efdc8a7e-4ad4-4e0a-ec1f-689c615a027f",
        "colab": {
          "base_uri": "https://localhost:8080/",
          "height": 225
        }
      },
      "source": [
        "two_percent = (int) (0.02 * len(posts_df))\n",
        "highest_scorers = posts_df.nlargest(two_percent, \"Score\")\n",
        "print(highest_scorers[\"Title\"])\n",
        "lowest_scorers = posts_df.nsmallest(two_percent, \"Score\")"
      ],
      "execution_count": 0,
      "outputs": [
        {
          "output_type": "stream",
          "text": [
            "6677                                                  None\n",
            "2654                      What are deconvolutional layers?\n",
            "128                            Publicly Available Datasets\n",
            "14607                                                 None\n",
            "7798     How to set class weights for imbalanced classe...\n",
            "                               ...                        \n",
            "10843    Why are variables of train and test data defin...\n",
            "11144    How should the bias be initialized and regular...\n",
            "11254    Feature importance with high-cardinality categ...\n",
            "11889       How to know the model has started overfitting?\n",
            "12066              Detecting anomalies with neural network\n",
            "Name: Title, Length: 873, dtype: object\n"
          ],
          "name": "stdout"
        }
      ]
    },
    {
      "cell_type": "code",
      "metadata": {
        "id": "XraDMR9ov2aM",
        "colab_type": "code",
        "outputId": "5238c0ba-108c-4015-94e9-d32bdcb7582a",
        "colab": {
          "base_uri": "https://localhost:8080/",
          "height": 69
        }
      },
      "source": [
        "grader.grade(test_case_id = \"high_low_score\", answer = (lowest_scorers, highest_scorers))"
      ],
      "execution_count": 0,
      "outputs": [
        {
          "output_type": "stream",
          "text": [
            "Correct! You earned 5/5 points. You are a star!\n",
            "\n",
            "Your submission has been successfully recorded in the gradebook.\n"
          ],
          "name": "stdout"
        }
      ]
    },
    {
      "cell_type": "markdown",
      "metadata": {
        "id": "9YxGtHWgN8Nf",
        "colab_type": "text"
      },
      "source": [
        "### 3.2 \n",
        "\n",
        "Next, generate a list of tokens from the highest_scorers and the lowest_scorers. \n",
        "\n",
        "There are a few ways you can go about doing this, so you're welcome to take your own approach (as long as it still generates the same result!). Take a look at the notebook from the Text Lecture for some guidance!\n",
        "\n",
        "Here is a method that you could use:\n",
        "\n",
        "For each dataframe: \n",
        "1. Create a list of all of the titles. \n",
        "2. Tokenize each of the titles.\n",
        "3. Flatten into one single list of tokens.\n",
        "\n",
        "**Important:** Make sure you do the following:\n",
        "- Remove any posts without a title, aka with a 0 where the title should be. \n",
        "- Lowercase all of the words.\n"
      ]
    },
    {
      "cell_type": "code",
      "metadata": {
        "id": "tE6c8zDDoQL1",
        "colab_type": "code",
        "colab": {}
      },
      "source": [
        "from nltk.tokenize import RegexpTokenizer"
      ],
      "execution_count": 0,
      "outputs": []
    },
    {
      "cell_type": "code",
      "metadata": {
        "id": "E1xSEUGAPhUl",
        "colab_type": "code",
        "outputId": "4b23b36f-7664-4b63-bb96-49d2d1a1fa0b",
        "colab": {
          "base_uri": "https://localhost:8080/",
          "height": 35
        }
      },
      "source": [
        "filtered_highest = highest_scorers.dropna(subset = ['Title'])\n",
        "filtered_lowest = lowest_scorers.dropna(subset = ['Title'])\n",
        "highest_titles = filtered_highest['Title'].tolist()\n",
        "lowest_titles = filtered_lowest['Title'].tolist()\n",
        "\n",
        "tokenizer = RegexpTokenizer(r'\\w+')\n",
        "\n",
        "highest_tokens = []\n",
        "for title in highest_titles:\n",
        "  words = tokenizer.tokenize(title)\n",
        "  words = [word.lower() for word in words if word.isalpha()]\n",
        "  highest_tokens.append(words)\n",
        "\n",
        "lowest_tokens = []\n",
        "for title in lowest_titles:\n",
        "  words = tokenizer.tokenize(title)\n",
        "  words = [word.lower() for word in words if word.isalpha()]\n",
        "  lowest_tokens.append(words)\n",
        "\n",
        "highest_tokens = [i for j in highest_tokens for i in j]\n",
        "lowest_tokens = [i for j in lowest_tokens for i in j]"
      ],
      "execution_count": 0,
      "outputs": [
        {
          "output_type": "stream",
          "text": [
            "<class 'str'>\n"
          ],
          "name": "stdout"
        }
      ]
    },
    {
      "cell_type": "code",
      "metadata": {
        "id": "v6eyQN19xSMu",
        "colab_type": "code",
        "outputId": "4c6895cd-c91c-4cf6-973e-acdad52fabae",
        "colab": {
          "base_uri": "https://localhost:8080/",
          "height": 69
        }
      },
      "source": [
        "grader.grade(test_case_id = \"hot_buzz_words\", answer = (lowest_tokens, highest_tokens))"
      ],
      "execution_count": 0,
      "outputs": [
        {
          "output_type": "stream",
          "text": [
            "Correct! You earned 6/6 points. You are a star!\n",
            "\n",
            "Your submission has been successfully recorded in the gradebook.\n"
          ],
          "name": "stdout"
        }
      ]
    },
    {
      "cell_type": "markdown",
      "metadata": {
        "id": "vICD1EWvTEcQ",
        "colab_type": "text"
      },
      "source": [
        "### 3.3 \n",
        "Next, we should remove stopwords from these lists. \n",
        "\n",
        "A stop word is a commonly used word (such as “the”, “a”, “an”, “in”) that a search engine has been programmed to ignore, both when indexing entries for searching and when retrieving them as the result of a search query.\n",
        "\n",
        "When processing text, we want to exclude these words, otherwise they will dilute our results. We do not want them to take up space or processing time, or to have to filter through them when reading our results.\n",
        "\n",
        "Fortunately, the NLTK package has a predefined list of stopwords that we can utilize."
      ]
    },
    {
      "cell_type": "code",
      "metadata": {
        "id": "L9i7cNCZTQbs",
        "colab_type": "code",
        "outputId": "4b5ced62-664f-4c01-b17c-7bc20f0d2e0d",
        "colab": {
          "base_uri": "https://localhost:8080/",
          "height": 69
        }
      },
      "source": [
        "import nltk\n",
        "from nltk.corpus import stopwords\n",
        "nltk.download('stopwords')"
      ],
      "execution_count": 0,
      "outputs": [
        {
          "output_type": "stream",
          "text": [
            "[nltk_data] Downloading package stopwords to /root/nltk_data...\n",
            "[nltk_data]   Unzipping corpora/stopwords.zip.\n"
          ],
          "name": "stdout"
        },
        {
          "output_type": "execute_result",
          "data": {
            "text/plain": [
              "True"
            ]
          },
          "metadata": {
            "tags": []
          },
          "execution_count": 35
        }
      ]
    },
    {
      "cell_type": "code",
      "metadata": {
        "id": "eNbtauktUNj7",
        "colab_type": "code",
        "colab": {}
      },
      "source": [
        "stop_words = set(stopwords.words('english')) "
      ],
      "execution_count": 0,
      "outputs": []
    },
    {
      "cell_type": "markdown",
      "metadata": {
        "id": "umUjJJVFUDLu",
        "colab_type": "text"
      },
      "source": [
        "Take a look at some of the stop words to familiarize yourself with the concept.\n",
        "\n",
        "Filter all of these stopwords out of both our lists of tokens."
      ]
    },
    {
      "cell_type": "code",
      "metadata": {
        "id": "scNTA_OSUCUO",
        "colab_type": "code",
        "colab": {}
      },
      "source": [
        "filtered_highest = []\n",
        "for word in highest_tokens:\n",
        "  if word not in stop_words:\n",
        "    filtered_highest.append(word)\n",
        "\n",
        "filtered_lowest = []\n",
        "for word in lowest_tokens:\n",
        "  if word not in stop_words:\n",
        "    filtered_lowest.append(word)"
      ],
      "execution_count": 0,
      "outputs": []
    },
    {
      "cell_type": "code",
      "metadata": {
        "id": "isInukDJyaNW",
        "colab_type": "code",
        "outputId": "82fc297b-440d-4ab2-c608-bb26e01a59dd",
        "colab": {
          "base_uri": "https://localhost:8080/",
          "height": 69
        }
      },
      "source": [
        "grader.grade(test_case_id = \"filtered_words\", answer = (filtered_lowest, filtered_highest))"
      ],
      "execution_count": 0,
      "outputs": [
        {
          "output_type": "stream",
          "text": [
            "Correct! You earned 6/6 points. You are a star!\n",
            "\n",
            "Your submission has been successfully recorded in the gradebook.\n"
          ],
          "name": "stdout"
        }
      ]
    },
    {
      "cell_type": "markdown",
      "metadata": {
        "colab_type": "text",
        "id": "hcf6EkaByays"
      },
      "source": [
        "Now, find the 20 most common words amongst your highest scoring titles and your lowest scoring titles.\n",
        "\n",
        "Hint: https://docs.python.org/2/library/collections.html#counter-objects"
      ]
    },
    {
      "cell_type": "code",
      "metadata": {
        "id": "cJiurRmVUzYA",
        "colab_type": "code",
        "outputId": "901f64fe-cad7-432a-cede-d4d0d165e0ae",
        "colab": {
          "base_uri": "https://localhost:8080/",
          "height": 72
        }
      },
      "source": [
        "count_high = Counter(filtered_highest)\n",
        "highest_counter = count_high.most_common(20)\n",
        "highest_counter = Counter(dict(highest_counter))\n",
        "\n",
        "count_low = Counter(filtered_lowest)\n",
        "lowest_counter = count_high.most_common(20)\n",
        "lowest_counter = Counter(dict(lowest_counter))\n",
        "print(highest_counter)\n",
        "print(lowest_counter)"
      ],
      "execution_count": 0,
      "outputs": [
        {
          "output_type": "stream",
          "text": [
            "Counter({'data': 75, 'learning': 43, 'vs': 31, 'neural': 30, 'difference': 26, 'use': 26, 'keras': 23, 'machine': 23, 'python': 21, 'using': 20, 'network': 19, 'features': 19, 'model': 19, 'science': 19, 'networks': 18, 'deep': 16, 'function': 13, 'pandas': 13, 'xgboost': 12, 'text': 12})\n",
            "Counter({'data': 75, 'learning': 43, 'vs': 31, 'neural': 30, 'difference': 26, 'use': 26, 'keras': 23, 'machine': 23, 'python': 21, 'using': 20, 'network': 19, 'features': 19, 'model': 19, 'science': 19, 'networks': 18, 'deep': 16, 'function': 13, 'pandas': 13, 'xgboost': 12, 'text': 12})\n"
          ],
          "name": "stdout"
        }
      ]
    },
    {
      "cell_type": "code",
      "metadata": {
        "id": "iLinSzIE0dxm",
        "colab_type": "code",
        "outputId": "47a429a6-832d-4a14-eb39-6fe03a03405c",
        "colab": {
          "base_uri": "https://localhost:8080/",
          "height": 69
        }
      },
      "source": [
        "grader.grade(test_case_id = \"common_words\", answer = (lowest_counter, highest_counter))"
      ],
      "execution_count": 0,
      "outputs": [
        {
          "output_type": "stream",
          "text": [
            "Correct! You earned 2/2 points. You are a star!\n",
            "\n",
            "Your submission has been successfully recorded in the gradebook.\n"
          ],
          "name": "stdout"
        }
      ]
    },
    {
      "cell_type": "markdown",
      "metadata": {
        "id": "OJ67qCd5uk6u",
        "colab_type": "text"
      },
      "source": [
        "### 3.4"
      ]
    },
    {
      "cell_type": "markdown",
      "metadata": {
        "id": "m9zC7FWxVvDx",
        "colab_type": "text"
      },
      "source": [
        "Oof. Well, these words look pretty much the same... \n",
        "\n",
        "Let's visualize our results in word clouds and see if we can notice any significant takeaways.\n",
        "\n",
        "Create two word clouds- one of each group of tokens that you generated. Title them so that it is clear which visualization corresponds to which group.\n",
        "\n",
        "Take a look the documentation here: https://amueller.github.io/word_cloud/generated/wordcloud.WordCloud.html"
      ]
    },
    {
      "cell_type": "code",
      "metadata": {
        "id": "CyMFFNIWVfuV",
        "colab_type": "code",
        "outputId": "0ba5a401-0349-4e0f-ce7a-65c1be96925f",
        "colab": {
          "base_uri": "https://localhost:8080/",
          "height": 335
        }
      },
      "source": [
        "Highest_Scores_WordCloud = WordCloud(background_color= 'WHITE').generate_from_frequencies(dict(highest_counter))\n",
        "\n",
        "\n",
        "plt.figure(figsize = (8, 8), facecolor = None) \n",
        "plt.imshow(Highest_Scores_WordCloud)\n",
        "plt.axis(\"off\") \n",
        "plt.tight_layout(pad = 0) \n",
        "plt.title(\"Highest Scores WordCloud\")\n",
        "  \n",
        "plt.show() "
      ],
      "execution_count": 0,
      "outputs": [
        {
          "output_type": "display_data",
          "data": {
            "image/png": "[encoded data removed]",
            "text/plain": [
              "<Figure size 576x576 with 1 Axes>"
            ]
          },
          "metadata": {
            "tags": []
          }
        }
      ]
    },
    {
      "cell_type": "code",
      "metadata": {
        "id": "p93JYl4CwhE1",
        "colab_type": "code",
        "outputId": "871ca550-4aa1-4fe9-e982-a1fc9c2c9110",
        "colab": {
          "base_uri": "https://localhost:8080/",
          "height": 335
        }
      },
      "source": [
        "Lowest_Scores_WordCloud = WordCloud(background_color= 'WHITE').generate_from_frequencies(dict(lowest_counter))\n",
        "plt.figure(figsize = (8, 8), facecolor = None) \n",
        "plt.imshow(Lowest_Scores_WordCloud) \n",
        "plt.axis(\"off\") \n",
        "plt.tight_layout(pad = 0) \n",
        "plt.title(\"Lowest Scores WordCloud\")\n",
        "  \n",
        "plt.show() "
      ],
      "execution_count": 0,
      "outputs": [
        {
          "output_type": "display_data",
          "data": {
            "image/png": "[encoded data removed]",
            "text/plain": [
              "<Figure size 576x576 with 1 Axes>"
            ]
          },
          "metadata": {
            "tags": []
          }
        }
      ]
    },
    {
      "cell_type": "markdown",
      "metadata": {
        "id": "P70yRHLwWuW6",
        "colab_type": "text"
      },
      "source": [
        "As you can see, data is the biggest appearing word. Like **BIG DATA**! Haha, get it?\n",
        "\n",
        "Sorry kids, I'm tired. "
      ]
    },
    {
      "cell_type": "markdown",
      "metadata": {
        "id": "tcHxWDrnEO5X",
        "colab_type": "text"
      },
      "source": [
        "## Extra Credit : Completely optional - for the showoffs (i.e. the Vatsals) \n",
        "* An open ended extra credit - you can receive upto 5 additional points for this question.\n",
        "\n",
        "The question requires you to build an XML/HTML code which looks like the original stackexchange webpage for any Post using the datasets we have provided.\n",
        "* We will also load few other files below for your use, in case you want to use them to enhance your solution.\n",
        "* A good start would be to see this [stack exchange url](https://datascience.stackexchange.com/questions/65740/about-the-maximum-likelihood-when-we-convert-the-maximization-problem-into-mini/65742#65742) and try to build a similar web page.\n",
        "* In case you are not familiar with HTML, you can submit an XML with proper tree representation of the Posts, Comments, UpVotes, DownVotes, Score etc.\n",
        "* As this is an Extra Credit Question, we will grade you on how well you use the datasets to present the data in HTML/ XML code and also how well you capture the Entity relationships between different relations(tables)."
      ]
    },
    {
      "cell_type": "code",
      "metadata": {
        "id": "3kivjp0aErY9",
        "colab_type": "code",
        "colab": {}
      },
      "source": [
        "# Your code here"
      ],
      "execution_count": 0,
      "outputs": []
    },
    {
      "cell_type": "markdown",
      "metadata": {
        "id": "ISe_XMH7ivEa",
        "colab_type": "text"
      },
      "source": [
        "#Section 2: Spark, Hierarchical Data and Graph Data on Yelp Reviews Dataset"
      ]
    },
    {
      "cell_type": "markdown",
      "metadata": {
        "id": "KJJHiaJ_1P9G",
        "colab_type": "text"
      },
      "source": [
        "## Getting Started with Apache Spark\n",
        "\n",
        "Apache Spark, which has become the de facto successor to Apache Hadoop, is a complex, cluster-based data processing system that was written in Scala.  It leverages a wide variety of distributed tools and components used for big data processing.  It interfaces “smoothly” to Python, but be forewarned that there are some rough edges.  For those interested in why, there are a few reasons:\n",
        "\n",
        "* Scala has slightly different notions of types (especially things like Rows) and handles missing values (nulls) differently from Python.\n",
        "* The Scala-based Spark “engine” can’t just run Python functions as it’s doing data processing.  This means that you want to be careful to use Spark’s library of functions, or the special mechanisms for inserting “user defined functions.”\n",
        "* DataFrames on Spark are “sharded,” so there is no single object corresponding to the DataFrame!\n",
        "\n",
        "While Spark DataFrames try to emulate the same programming style as Pandas DataFrames, there are some differences in how you express things.  Please refer to the Lecture Slides for our take on the differences.  You may also find the following Web pages to be useful resources for understanding Spark vs Pandas DataFrames:\n",
        "\n",
        "https://lab.getbase.com/pandarize-spark-dataframes/\n",
        "https://ogirardot.wordpress.com/2015/07/31/from-pandas-to-apache-sparks-dataframe/ \n",
        "\n",
        "For this assignment, we are going to get familiar with Spark without worrying too much about sharding and distribution.  We are going to run Spark on your Docker container.  This isn’t really using it to its strengths -- and in fact you might find Spark to be unexpectedly slow -- but it will get you comfortable with programming in Spark without worrying about distributed nodes, clusters, and spending real dollars on the cloud.  Your code, if written properly, will “naturally scale” to clusters running on the Cloud.  Later in the term we’ll connect your Jupyter instance to Spark running on the cloud -- to handle “truly big data.”\n",
        "\n",
        "\n",
        "### Initializing a Connection to Spark\n",
        "\n",
        "We'll open a connection to Spark as follows. Note that Spark has multiple interfaces, as you will see if you look at sample code elsewhere. `SparkSession` is the “most modern” one and we’ll be using it for this course.  From `SparkSession`, you can load data into Spark DataFrames as well as `RDD`s.\n",
        "\n",
        "Run the follow cells to setup the notebook!"
      ]
    },
    {
      "cell_type": "code",
      "metadata": {
        "id": "G8RH4R771X6n",
        "colab_type": "code",
        "outputId": "9ee7c2c8-8bd1-476d-9da9-5d4c71aaa62d",
        "colab": {
          "base_uri": "https://localhost:8080/",
          "height": 1000
        }
      },
      "source": [
        "!apt install libkrb5-dev\n",
        "!wget https://www-us.apache.org/dist/spark/spark-2.4.5/spark-2.4.5-bin-hadoop2.7.tgz\n",
        "!tar xf spark-2.4.5-bin-hadoop2.7.tgz\n",
        "!pip install findspark\n",
        "!pip install sparkmagic\n",
        "!pip install pyspark\n",
        "! pip install pyspark --user\n",
        "! pip install seaborn --user\n",
        "! pip install plotly --user\n",
        "! pip install imageio --user\n",
        "! pip install folium --user"
      ],
      "execution_count": 0,
      "outputs": [
        {
          "output_type": "stream",
          "text": [
            "Reading package lists... Done\n",
            "Building dependency tree       \n",
            "Reading state information... Done\n",
            "The following package was automatically installed and is no longer required:\n",
            "  libnvidia-common-430\n",
            "Use 'apt autoremove' to remove it.\n",
            "The following additional packages will be installed:\n",
            "  comerr-dev krb5-multidev libcom-err2 libgssrpc4 libkadm5clnt-mit11\n",
            "  libkadm5srv-mit11 libkdb5-9\n",
            "Suggested packages:\n",
            "  doc-base krb5-doc krb5-user\n",
            "The following NEW packages will be installed:\n",
            "  comerr-dev krb5-multidev libgssrpc4 libkadm5clnt-mit11 libkadm5srv-mit11\n",
            "  libkdb5-9 libkrb5-dev\n",
            "The following packages will be upgraded:\n",
            "  libcom-err2\n",
            "1 upgraded, 7 newly installed, 0 to remove and 24 not upgraded.\n",
            "Need to get 358 kB of archives.\n",
            "After this operation, 1,992 kB of additional disk space will be used.\n",
            "Get:1 http://archive.ubuntu.com/ubuntu bionic-updates/main amd64 libcom-err2 amd64 1.44.1-1ubuntu1.3 [8,848 B]\n",
            "Get:2 http://archive.ubuntu.com/ubuntu bionic-updates/main amd64 libgssrpc4 amd64 1.16-2ubuntu0.1 [54.2 kB]\n",
            "Get:3 http://archive.ubuntu.com/ubuntu bionic-updates/main amd64 libkdb5-9 amd64 1.16-2ubuntu0.1 [37.2 kB]\n",
            "Get:4 http://archive.ubuntu.com/ubuntu bionic-updates/main amd64 libkadm5srv-mit11 amd64 1.16-2ubuntu0.1 [49.7 kB]\n",
            "Get:5 http://archive.ubuntu.com/ubuntu bionic-updates/main amd64 libkadm5clnt-mit11 amd64 1.16-2ubuntu0.1 [38.2 kB]\n",
            "Get:6 http://archive.ubuntu.com/ubuntu bionic-updates/main amd64 comerr-dev amd64 2.1-1.44.1-1ubuntu1.3 [38.5 kB]\n",
            "Get:7 http://archive.ubuntu.com/ubuntu bionic-updates/main amd64 krb5-multidev amd64 1.16-2ubuntu0.1 [120 kB]\n",
            "Get:8 http://archive.ubuntu.com/ubuntu bionic-updates/main amd64 libkrb5-dev amd64 1.16-2ubuntu0.1 [11.8 kB]\n",
            "Fetched 358 kB in 1s (552 kB/s)\n",
            "(Reading database ... 134676 files and directories currently installed.)\n",
            "Preparing to unpack .../libcom-err2_1.44.1-1ubuntu1.3_amd64.deb ...\n",
            "Unpacking libcom-err2:amd64 (1.44.1-1ubuntu1.3) over (1.44.1-1ubuntu1.2) ...\n",
            "Setting up libcom-err2:amd64 (1.44.1-1ubuntu1.3) ...\n",
            "Selecting previously unselected package libgssrpc4:amd64.\n",
            "(Reading database ... 134676 files and directories currently installed.)\n",
            "Preparing to unpack .../0-libgssrpc4_1.16-2ubuntu0.1_amd64.deb ...\n",
            "Unpacking libgssrpc4:amd64 (1.16-2ubuntu0.1) ...\n",
            "Selecting previously unselected package libkdb5-9:amd64.\n",
            "Preparing to unpack .../1-libkdb5-9_1.16-2ubuntu0.1_amd64.deb ...\n",
            "Unpacking libkdb5-9:amd64 (1.16-2ubuntu0.1) ...\n",
            "Selecting previously unselected package libkadm5srv-mit11:amd64.\n",
            "Preparing to unpack .../2-libkadm5srv-mit11_1.16-2ubuntu0.1_amd64.deb ...\n",
            "Unpacking libkadm5srv-mit11:amd64 (1.16-2ubuntu0.1) ...\n",
            "Selecting previously unselected package libkadm5clnt-mit11:amd64.\n",
            "Preparing to unpack .../3-libkadm5clnt-mit11_1.16-2ubuntu0.1_amd64.deb ...\n",
            "Unpacking libkadm5clnt-mit11:amd64 (1.16-2ubuntu0.1) ...\n",
            "Selecting previously unselected package comerr-dev:amd64.\n",
            "Preparing to unpack .../4-comerr-dev_2.1-1.44.1-1ubuntu1.3_amd64.deb ...\n",
            "Unpacking comerr-dev:amd64 (2.1-1.44.1-1ubuntu1.3) ...\n",
            "Selecting previously unselected package krb5-multidev:amd64.\n",
            "Preparing to unpack .../5-krb5-multidev_1.16-2ubuntu0.1_amd64.deb ...\n",
            "Unpacking krb5-multidev:amd64 (1.16-2ubuntu0.1) ...\n",
            "Selecting previously unselected package libkrb5-dev:amd64.\n",
            "Preparing to unpack .../6-libkrb5-dev_1.16-2ubuntu0.1_amd64.deb ...\n",
            "Unpacking libkrb5-dev:amd64 (1.16-2ubuntu0.1) ...\n",
            "Setting up libgssrpc4:amd64 (1.16-2ubuntu0.1) ...\n",
            "Setting up comerr-dev:amd64 (2.1-1.44.1-1ubuntu1.3) ...\n",
            "Setting up libkdb5-9:amd64 (1.16-2ubuntu0.1) ...\n",
            "Setting up libkadm5srv-mit11:amd64 (1.16-2ubuntu0.1) ...\n",
            "Setting up libkadm5clnt-mit11:amd64 (1.16-2ubuntu0.1) ...\n",
            "Setting up krb5-multidev:amd64 (1.16-2ubuntu0.1) ...\n",
            "Setting up libkrb5-dev:amd64 (1.16-2ubuntu0.1) ...\n",
            "Processing triggers for man-db (2.8.3-2ubuntu0.1) ...\n",
            "Processing triggers for libc-bin (2.27-3ubuntu1) ...\n",
            "/sbin/ldconfig.real: /usr/local/lib/python3.6/dist-packages/ideep4py/lib/libmkldnn.so.0 is not a symbolic link\n",
            "\n",
            "--2020-02-21 21:59:11--  https://www-us.apache.org/dist/spark/spark-2.4.5/spark-2.4.5-bin-hadoop2.7.tgz\n",
            "Resolving www-us.apache.org (www-us.apache.org)... 40.79.78.1\n",
            "Connecting to www-us.apache.org (www-us.apache.org)|40.79.78.1|:443... connected.\n",
            "HTTP request sent, awaiting response... 302 Found\n",
            "Location: https://downloads.apache.org/spark/spark-2.4.5/spark-2.4.5-bin-hadoop2.7.tgz [following]\n",
            "--2020-02-21 21:59:11--  https://downloads.apache.org/spark/spark-2.4.5/spark-2.4.5-bin-hadoop2.7.tgz\n",
            "Resolving downloads.apache.org (downloads.apache.org)... 88.99.95.219, 2a01:4f8:10a:201a::2\n",
            "Connecting to downloads.apache.org (downloads.apache.org)|88.99.95.219|:443... connected.\n",
            "HTTP request sent, awaiting response... 200 OK\n",
            "Length: 232530699 (222M) [application/x-gzip]\n",
            "Saving to: ‘spark-2.4.5-bin-hadoop2.7.tgz’\n",
            "\n",
            "spark-2.4.5-bin-had 100%[===================>] 221.76M  28.4MB/s    in 8.6s    \n",
            "\n",
            "2020-02-21 21:59:20 (25.7 MB/s) - ‘spark-2.4.5-bin-hadoop2.7.tgz’ saved [232530699/232530699]\n",
            "\n",
            "Collecting findspark\n",
            "  Downloading https://files.pythonhosted.org/packages/b1/c8/e6e1f6a303ae5122dc28d131b5a67c5eb87cbf8f7ac5b9f87764ea1b1e1e/findspark-1.3.0-py2.py3-none-any.whl\n",
            "Installing collected packages: findspark\n",
            "Successfully installed findspark-1.3.0\n",
            "Collecting sparkmagic\n",
            "  Downloading https://files.pythonhosted.org/packages/eb/f3/458361eec01b7c1fb5aaa1b28a2e24b22167f577c2ab83d12b365a98be75/sparkmagic-0.15.0.tar.gz\n",
            "Collecting hdijupyterutils>=0.6\n",
            "  Downloading https://files.pythonhosted.org/packages/a9/b9/4daa0d8319a9e9101d6d6c8af1f5b1e87178542a70995a4ff2611005cc98/hdijupyterutils-0.15.0.tar.gz\n",
            "Collecting autovizwidget>=0.6\n",
            "  Downloading https://files.pythonhosted.org/packages/17/bb/d7d725dc3288354c4431dbf53aa40d0014379ec9a45475805f62436573ec/autovizwidget-0.15.0.tar.gz\n",
            "Requirement already satisfied: ipython>=4.0.2 in /usr/local/lib/python3.6/dist-packages (from sparkmagic) (5.5.0)\n",
            "Collecting nose\n",
            "\u001b[?25l  Downloading https://files.pythonhosted.org/packages/15/d8/dd071918c040f50fa1cf80da16423af51ff8ce4a0f2399b7bf8de45ac3d9/nose-1.3.7-py3-none-any.whl (154kB)\n",
            "\u001b[K     |████████████████████████████████| 163kB 5.8MB/s \n",
            "\u001b[?25hCollecting mock\n",
            "  Downloading https://files.pythonhosted.org/packages/30/6a/9bde648117ec7087c89a45de0a8b25aba21d54d3defd08cb24eacded875f/mock-4.0.1-py3-none-any.whl\n",
            "Requirement already satisfied: pandas>=0.17.1 in /usr/local/lib/python3.6/dist-packages (from sparkmagic) (0.25.3)\n",
            "Requirement already satisfied: numpy in /usr/local/lib/python3.6/dist-packages (from sparkmagic) (1.17.5)\n",
            "Requirement already satisfied: requests in /usr/local/lib/python3.6/dist-packages (from sparkmagic) (2.21.0)\n",
            "Requirement already satisfied: ipykernel in /usr/local/lib/python3.6/dist-packages (from sparkmagic) (4.6.1)\n",
            "Requirement already satisfied: ipywidgets>5.0.0 in /usr/local/lib/python3.6/dist-packages (from sparkmagic) (7.5.1)\n",
            "Requirement already satisfied: notebook>=4.2 in /usr/local/lib/python3.6/dist-packages (from sparkmagic) (5.2.2)\n",
            "Requirement already satisfied: tornado>=4 in /usr/local/lib/python3.6/dist-packages (from sparkmagic) (4.5.3)\n",
            "Collecting requests_kerberos>=0.8.0\n",
            "  Downloading https://files.pythonhosted.org/packages/ee/a2/866f2b9a60f75055137b9ad127033e397963b2c4769d4b5fab1c3c7e8be3/requests_kerberos-0.12.0-py2.py3-none-any.whl\n",
            "Requirement already satisfied: jupyter>=1 in /usr/local/lib/python3.6/dist-packages (from hdijupyterutils>=0.6->sparkmagic) (1.0.0)\n",
            "Requirement already satisfied: plotly>=3 in /usr/local/lib/python3.6/dist-packages (from autovizwidget>=0.6->sparkmagic) (4.4.1)\n",
            "Requirement already satisfied: setuptools>=18.5 in /usr/local/lib/python3.6/dist-packages (from ipython>=4.0.2->sparkmagic) (45.1.0)\n",
            "Requirement already satisfied: simplegeneric>0.8 in /usr/local/lib/python3.6/dist-packages (from ipython>=4.0.2->sparkmagic) (0.8.1)\n",
            "Requirement already satisfied: decorator in /usr/local/lib/python3.6/dist-packages (from ipython>=4.0.2->sparkmagic) (4.4.1)\n",
            "Requirement already satisfied: pygments in /usr/local/lib/python3.6/dist-packages (from ipython>=4.0.2->sparkmagic) (2.1.3)\n",
            "Requirement already satisfied: pickleshare in /usr/local/lib/python3.6/dist-packages (from ipython>=4.0.2->sparkmagic) (0.7.5)\n",
            "Requirement already satisfied: pexpect; sys_platform != \"win32\" in /usr/local/lib/python3.6/dist-packages (from ipython>=4.0.2->sparkmagic) (4.8.0)\n",
            "Requirement already satisfied: prompt-toolkit<2.0.0,>=1.0.4 in /usr/local/lib/python3.6/dist-packages (from ipython>=4.0.2->sparkmagic) (1.0.18)\n",
            "Requirement already satisfied: traitlets>=4.2 in /usr/local/lib/python3.6/dist-packages (from ipython>=4.0.2->sparkmagic) (4.3.3)\n",
            "Requirement already satisfied: pytz>=2017.2 in /usr/local/lib/python3.6/dist-packages (from pandas>=0.17.1->sparkmagic) (2018.9)\n",
            "Requirement already satisfied: python-dateutil>=2.6.1 in /usr/local/lib/python3.6/dist-packages (from pandas>=0.17.1->sparkmagic) (2.6.1)\n",
            "Requirement already satisfied: certifi>=2017.4.17 in /usr/local/lib/python3.6/dist-packages (from requests->sparkmagic) (2019.11.28)\n",
            "Requirement already satisfied: chardet<3.1.0,>=3.0.2 in /usr/local/lib/python3.6/dist-packages (from requests->sparkmagic) (3.0.4)\n",
            "Requirement already satisfied: idna<2.9,>=2.5 in /usr/local/lib/python3.6/dist-packages (from requests->sparkmagic) (2.8)\n",
            "Requirement already satisfied: urllib3<1.25,>=1.21.1 in /usr/local/lib/python3.6/dist-packages (from requests->sparkmagic) (1.24.3)\n",
            "Requirement already satisfied: jupyter-client in /usr/local/lib/python3.6/dist-packages (from ipykernel->sparkmagic) (5.3.4)\n",
            "Requirement already satisfied: nbformat>=4.2.0 in /usr/local/lib/python3.6/dist-packages (from ipywidgets>5.0.0->sparkmagic) (5.0.4)\n",
            "Requirement already satisfied: widgetsnbextension~=3.5.0 in /usr/local/lib/python3.6/dist-packages (from ipywidgets>5.0.0->sparkmagic) (3.5.1)\n",
            "Requirement already satisfied: nbconvert in /usr/local/lib/python3.6/dist-packages (from notebook>=4.2->sparkmagic) (5.6.1)\n",
            "Requirement already satisfied: ipython-genutils in /usr/local/lib/python3.6/dist-packages (from notebook>=4.2->sparkmagic) (0.2.0)\n",
            "Requirement already satisfied: terminado>=0.3.3; sys_platform != \"win32\" in /usr/local/lib/python3.6/dist-packages (from notebook>=4.2->sparkmagic) (0.8.3)\n",
            "Requirement already satisfied: jinja2 in /usr/local/lib/python3.6/dist-packages (from notebook>=4.2->sparkmagic) (2.11.1)\n",
            "Requirement already satisfied: jupyter-core in /usr/local/lib/python3.6/dist-packages (from notebook>=4.2->sparkmagic) (4.6.2)\n",
            "Collecting cryptography>=1.3; python_version != \"3.3\"\n",
            "\u001b[?25l  Downloading https://files.pythonhosted.org/packages/ca/9a/7cece52c46546e214e10811b36b2da52ce1ea7fa203203a629b8dfadad53/cryptography-2.8-cp34-abi3-manylinux2010_x86_64.whl (2.3MB)\n",
            "\u001b[K     |████████████████████████████████| 2.3MB 8.4MB/s \n",
            "\u001b[?25hCollecting pykerberos<2.0.0,>=1.1.8; sys_platform != \"win32\"\n",
            "  Downloading https://files.pythonhosted.org/packages/9a/b8/1ec56b6fa8a2e2a81420bd3d90e70b59fc83f6b857fb2c2c37accddc8be3/pykerberos-1.2.1.tar.gz\n",
            "Requirement already satisfied: qtconsole in /usr/local/lib/python3.6/dist-packages (from jupyter>=1->hdijupyterutils>=0.6->sparkmagic) (4.6.0)\n",
            "Requirement already satisfied: jupyter-console in /usr/local/lib/python3.6/dist-packages (from jupyter>=1->hdijupyterutils>=0.6->sparkmagic) (5.2.0)\n",
            "Requirement already satisfied: retrying>=1.3.3 in /usr/local/lib/python3.6/dist-packages (from plotly>=3->autovizwidget>=0.6->sparkmagic) (1.3.3)\n",
            "Requirement already satisfied: six in /usr/local/lib/python3.6/dist-packages (from plotly>=3->autovizwidget>=0.6->sparkmagic) (1.12.0)\n",
            "Requirement already satisfied: ptyprocess>=0.5 in /usr/local/lib/python3.6/dist-packages (from pexpect; sys_platform != \"win32\"->ipython>=4.0.2->sparkmagic) (0.6.0)\n",
            "Requirement already satisfied: wcwidth in /usr/local/lib/python3.6/dist-packages (from prompt-toolkit<2.0.0,>=1.0.4->ipython>=4.0.2->sparkmagic) (0.1.8)\n",
            "Requirement already satisfied: pyzmq>=13 in /usr/local/lib/python3.6/dist-packages (from jupyter-client->ipykernel->sparkmagic) (17.0.0)\n",
            "Requirement already satisfied: jsonschema!=2.5.0,>=2.4 in /usr/local/lib/python3.6/dist-packages (from nbformat>=4.2.0->ipywidgets>5.0.0->sparkmagic) (2.6.0)\n",
            "Requirement already satisfied: testpath in /usr/local/lib/python3.6/dist-packages (from nbconvert->notebook>=4.2->sparkmagic) (0.4.4)\n",
            "Requirement already satisfied: pandocfilters>=1.4.1 in /usr/local/lib/python3.6/dist-packages (from nbconvert->notebook>=4.2->sparkmagic) (1.4.2)\n",
            "Requirement already satisfied: mistune<2,>=0.8.1 in /usr/local/lib/python3.6/dist-packages (from nbconvert->notebook>=4.2->sparkmagic) (0.8.4)\n",
            "Requirement already satisfied: bleach in /usr/local/lib/python3.6/dist-packages (from nbconvert->notebook>=4.2->sparkmagic) (3.1.0)\n",
            "Requirement already satisfied: entrypoints>=0.2.2 in /usr/local/lib/python3.6/dist-packages (from nbconvert->notebook>=4.2->sparkmagic) (0.3)\n",
            "Requirement already satisfied: defusedxml in /usr/local/lib/python3.6/dist-packages (from nbconvert->notebook>=4.2->sparkmagic) (0.6.0)\n",
            "Requirement already satisfied: MarkupSafe>=0.23 in /usr/local/lib/python3.6/dist-packages (from jinja2->notebook>=4.2->sparkmagic) (1.1.1)\n",
            "Requirement already satisfied: cffi!=1.11.3,>=1.8 in /usr/local/lib/python3.6/dist-packages (from cryptography>=1.3; python_version != \"3.3\"->requests_kerberos>=0.8.0->sparkmagic) (1.14.0)\n",
            "Requirement already satisfied: webencodings in /usr/local/lib/python3.6/dist-packages (from bleach->nbconvert->notebook>=4.2->sparkmagic) (0.5.1)\n",
            "Requirement already satisfied: pycparser in /usr/local/lib/python3.6/dist-packages (from cffi!=1.11.3,>=1.8->cryptography>=1.3; python_version != \"3.3\"->requests_kerberos>=0.8.0->sparkmagic) (2.19)\n",
            "Building wheels for collected packages: sparkmagic, hdijupyterutils, autovizwidget, pykerberos\n",
            "  Building wheel for sparkmagic (setup.py) ... \u001b[?25l\u001b[?25hdone\n",
            "  Created wheel for sparkmagic: filename=sparkmagic-0.15.0-cp36-none-any.whl size=57176 sha256=fcde2d24801a4bc480423c69a0908b6f4ad362559f3a15a3d71eedb816ab5345\n",
            "  Stored in directory: /root/.cache/pip/wheels/b6/42/21/575eb221b00c86d1e4ca0b8e6916df1b9948f30383680cde14\n",
            "  Building wheel for hdijupyterutils (setup.py) ... \u001b[?25l\u001b[?25hdone\n",
            "  Created wheel for hdijupyterutils: filename=hdijupyterutils-0.15.0-cp36-none-any.whl size=7667 sha256=fe18c118ffcd7a1636f23a11b1411b78f3ef61f873dd4f61e47bec845a0ea59e\n",
            "  Stored in directory: /root/.cache/pip/wheels/7e/f0/ad/29b0902eb1384bf2691d6baa61f2cfce35f2370058e8c732cc\n",
            "  Building wheel for autovizwidget (setup.py) ... \u001b[?25l\u001b[?25hdone\n",
            "  Created wheel for autovizwidget: filename=autovizwidget-0.15.0-cp36-none-any.whl size=14547 sha256=07de14415215ae476d70012319410bd012f12c85bee5b9bcc196454787e0e057\n",
            "  Stored in directory: /root/.cache/pip/wheels/c8/09/b3/7851bdad56450e74338735e062864eb8f74fea8517d31f9d0b\n",
            "  Building wheel for pykerberos (setup.py) ... \u001b[?25l\u001b[?25hdone\n",
            "  Created wheel for pykerberos: filename=pykerberos-1.2.1-cp36-cp36m-linux_x86_64.whl size=68587 sha256=bb0b3170f39b2cb873628e77cd24f0168f2eb96cb3a240a2b7cca9c1cba37218\n",
            "  Stored in directory: /root/.cache/pip/wheels/c7/a7/07/d414c22754acf5822ccce48b41822142974ec103057c8305e7\n",
            "Successfully built sparkmagic hdijupyterutils autovizwidget pykerberos\n",
            "Installing collected packages: nose, mock, hdijupyterutils, autovizwidget, cryptography, pykerberos, requests-kerberos, sparkmagic\n",
            "Successfully installed autovizwidget-0.15.0 cryptography-2.8 hdijupyterutils-0.15.0 mock-4.0.1 nose-1.3.7 pykerberos-1.2.1 requests-kerberos-0.12.0 sparkmagic-0.15.0\n",
            "Collecting pyspark\n",
            "\u001b[?25l  Downloading https://files.pythonhosted.org/packages/9a/5a/271c416c1c2185b6cb0151b29a91fff6fcaed80173c8584ff6d20e46b465/pyspark-2.4.5.tar.gz (217.8MB)\n",
            "\u001b[K     |████████████████████████████████| 217.8MB 54kB/s \n",
            "\u001b[?25hCollecting py4j==0.10.7\n",
            "\u001b[?25l  Downloading https://files.pythonhosted.org/packages/e3/53/c737818eb9a7dc32a7cd4f1396e787bd94200c3997c72c1dbe028587bd76/py4j-0.10.7-py2.py3-none-any.whl (197kB)\n",
            "\u001b[K     |████████████████████████████████| 204kB 42.6MB/s \n",
            "\u001b[?25hBuilding wheels for collected packages: pyspark\n",
            "  Building wheel for pyspark (setup.py) ... \u001b[?25l\u001b[?25hdone\n",
            "  Created wheel for pyspark: filename=pyspark-2.4.5-py2.py3-none-any.whl size=218257927 sha256=95dcbda34dad7d43409b7424260292a973b7ddd2e86a81f418f6e2d033bd3840\n",
            "  Stored in directory: /root/.cache/pip/wheels/bf/db/04/61d66a5939364e756eb1c1be4ec5bdce6e04047fc7929a3c3c\n",
            "Successfully built pyspark\n",
            "Installing collected packages: py4j, pyspark\n",
            "Successfully installed py4j-0.10.7 pyspark-2.4.5\n",
            "Requirement already satisfied: pyspark in /usr/local/lib/python3.6/dist-packages (2.4.5)\n",
            "Requirement already satisfied: py4j==0.10.7 in /usr/local/lib/python3.6/dist-packages (from pyspark) (0.10.7)\n",
            "Requirement already satisfied: seaborn in /usr/local/lib/python3.6/dist-packages (0.10.0)\n",
            "Requirement already satisfied: pandas>=0.22.0 in /usr/local/lib/python3.6/dist-packages (from seaborn) (0.25.3)\n",
            "Requirement already satisfied: scipy>=1.0.1 in /usr/local/lib/python3.6/dist-packages (from seaborn) (1.4.1)\n",
            "Requirement already satisfied: matplotlib>=2.1.2 in /usr/local/lib/python3.6/dist-packages (from seaborn) (3.1.3)\n",
            "Requirement already satisfied: numpy>=1.13.3 in /usr/local/lib/python3.6/dist-packages (from seaborn) (1.17.5)\n",
            "Requirement already satisfied: pytz>=2017.2 in /usr/local/lib/python3.6/dist-packages (from pandas>=0.22.0->seaborn) (2018.9)\n",
            "Requirement already satisfied: python-dateutil>=2.6.1 in /usr/local/lib/python3.6/dist-packages (from pandas>=0.22.0->seaborn) (2.6.1)\n",
            "Requirement already satisfied: cycler>=0.10 in /usr/local/lib/python3.6/dist-packages (from matplotlib>=2.1.2->seaborn) (0.10.0)\n",
            "Requirement already satisfied: kiwisolver>=1.0.1 in /usr/local/lib/python3.6/dist-packages (from matplotlib>=2.1.2->seaborn) (1.1.0)\n",
            "Requirement already satisfied: pyparsing!=2.0.4,!=2.1.2,!=2.1.6,>=2.0.1 in /usr/local/lib/python3.6/dist-packages (from matplotlib>=2.1.2->seaborn) (2.4.6)\n",
            "Requirement already satisfied: six>=1.5 in /usr/local/lib/python3.6/dist-packages (from python-dateutil>=2.6.1->pandas>=0.22.0->seaborn) (1.12.0)\n",
            "Requirement already satisfied: setuptools in /usr/local/lib/python3.6/dist-packages (from kiwisolver>=1.0.1->matplotlib>=2.1.2->seaborn) (45.1.0)\n",
            "Requirement already satisfied: plotly in /usr/local/lib/python3.6/dist-packages (4.4.1)\n",
            "Requirement already satisfied: six in /usr/local/lib/python3.6/dist-packages (from plotly) (1.12.0)\n",
            "Requirement already satisfied: retrying>=1.3.3 in /usr/local/lib/python3.6/dist-packages (from plotly) (1.3.3)\n",
            "Requirement already satisfied: imageio in /usr/local/lib/python3.6/dist-packages (2.4.1)\n",
            "Requirement already satisfied: pillow in /usr/local/lib/python3.6/dist-packages (from imageio) (6.2.2)\n",
            "Requirement already satisfied: numpy in /usr/local/lib/python3.6/dist-packages (from imageio) (1.17.5)\n",
            "Requirement already satisfied: folium in /usr/local/lib/python3.6/dist-packages (0.8.3)\n",
            "Requirement already satisfied: six in /usr/local/lib/python3.6/dist-packages (from folium) (1.12.0)\n",
            "Requirement already satisfied: branca>=0.3.0 in /usr/local/lib/python3.6/dist-packages (from folium) (0.3.1)\n",
            "Requirement already satisfied: jinja2 in /usr/local/lib/python3.6/dist-packages (from folium) (2.11.1)\n",
            "Requirement already satisfied: requests in /usr/local/lib/python3.6/dist-packages (from folium) (2.21.0)\n",
            "Requirement already satisfied: numpy in /usr/local/lib/python3.6/dist-packages (from folium) (1.17.5)\n",
            "Requirement already satisfied: MarkupSafe>=0.23 in /usr/local/lib/python3.6/dist-packages (from jinja2->folium) (1.1.1)\n",
            "Requirement already satisfied: urllib3<1.25,>=1.21.1 in /usr/local/lib/python3.6/dist-packages (from requests->folium) (1.24.3)\n",
            "Requirement already satisfied: certifi>=2017.4.17 in /usr/local/lib/python3.6/dist-packages (from requests->folium) (2019.11.28)\n",
            "Requirement already satisfied: chardet<3.1.0,>=3.0.2 in /usr/local/lib/python3.6/dist-packages (from requests->folium) (3.0.4)\n",
            "Requirement already satisfied: idna<2.9,>=2.5 in /usr/local/lib/python3.6/dist-packages (from requests->folium) (2.8)\n"
          ],
          "name": "stdout"
        }
      ]
    },
    {
      "cell_type": "code",
      "metadata": {
        "id": "pNctzcXRkexY",
        "colab_type": "code",
        "outputId": "104e9951-b8b4-41a9-dee6-38e233433d4f",
        "colab": {
          "base_uri": "https://localhost:8080/",
          "height": 731
        }
      },
      "source": [
        "!apt update\n",
        "!apt install gcc python-dev libkrb5-dev"
      ],
      "execution_count": 0,
      "outputs": [
        {
          "output_type": "stream",
          "text": [
            "\u001b[33m\r0% [Working]\u001b[0m\r            \rGet:1 http://security.ubuntu.com/ubuntu bionic-security InRelease [88.7 kB]\n",
            "\u001b[33m\r0% [Connecting to archive.ubuntu.com (91.189.88.173)] [1 InRelease 0 B/88.7 kB \u001b[0m\u001b[33m\r0% [Waiting for headers] [Connected to cloud.r-project.org (13.32.85.115)] [Wai\u001b[0m\u001b[33m\r0% [1 InRelease gpgv 88.7 kB] [Waiting for headers] [Connected to cloud.r-proje\u001b[0m\r                                                                               \rIgn:2 https://developer.download.nvidia.com/compute/cuda/repos/ubuntu1804/x86_64  InRelease\n",
            "\u001b[33m\r0% [1 InRelease gpgv 88.7 kB] [Waiting for headers] [Waiting for headers] [Wait\u001b[0m\r                                                                               \rGet:3 https://cloud.r-project.org/bin/linux/ubuntu bionic-cran35/ InRelease [3,626 B]\n",
            "\u001b[33m\r0% [1 InRelease gpgv 88.7 kB] [Waiting for headers] [3 InRelease 3,626 B/3,626 \u001b[0m\u001b[33m\r0% [1 InRelease gpgv 88.7 kB] [Waiting for headers] [Waiting for headers] [Wait\u001b[0m\r                                                                               \rGet:4 http://ppa.launchpad.net/graphics-drivers/ppa/ubuntu bionic InRelease [21.3 kB]\n",
            "\u001b[33m\r0% [1 InRelease gpgv 88.7 kB] [Waiting for headers] [Waiting for headers] [4 In\u001b[0m\r                                                                               \rHit:5 http://archive.ubuntu.com/ubuntu bionic InRelease\n",
            "\u001b[33m\r0% [1 InRelease gpgv 88.7 kB] [Waiting for headers] [Waiting for headers] [4 In\u001b[0m\r                                                                               \rIgn:6 https://developer.download.nvidia.com/compute/machine-learning/repos/ubuntu1804/x86_64  InRelease\n",
            "\u001b[33m\r0% [1 InRelease gpgv 88.7 kB] [Waiting for headers] [4 InRelease 14.2 kB/21.3 k\u001b[0m\r                                                                               \rHit:7 https://developer.download.nvidia.com/compute/cuda/repos/ubuntu1804/x86_64  Release\n",
            "\u001b[33m\r0% [1 InRelease gpgv 88.7 kB] [Waiting for headers] [4 InRelease 14.2 kB/21.3 k\u001b[0m\r                                                                               \rHit:8 https://developer.download.nvidia.com/compute/machine-learning/repos/ubuntu1804/x86_64  Release\n",
            "\u001b[33m\r0% [1 InRelease gpgv 88.7 kB] [Waiting for headers] [4 InRelease 14.2 kB/21.3 k\u001b[0m\r                                                                               \rGet:9 http://archive.ubuntu.com/ubuntu bionic-updates InRelease [88.7 kB]\n",
            "\u001b[33m\r0% [1 InRelease gpgv 88.7 kB] [9 InRelease 14.2 kB/88.7 kB 16%] [4 InRelease 20\u001b[0m\u001b[33m\r0% [1 InRelease gpgv 88.7 kB] [9 InRelease 15.6 kB/88.7 kB 18%] [Connecting to \u001b[0m\u001b[33m\r0% [9 InRelease 15.6 kB/88.7 kB 18%] [Connecting to ppa.launchpad.net (91.189.9\u001b[0m\u001b[33m\r0% [3 InRelease gpgv 3,626 B] [9 InRelease 15.6 kB/88.7 kB 18%] [Waiting for he\u001b[0m\r                                                                               \rGet:10 http://security.ubuntu.com/ubuntu bionic-security/multiverse amd64 Packages [7,348 B]\n",
            "\u001b[33m\r0% [3 InRelease gpgv 3,626 B] [9 InRelease 47.5 kB/88.7 kB 54%] [10 Packages 2,\u001b[0m\u001b[33m\r0% [3 InRelease gpgv 3,626 B] [9 InRelease 47.5 kB/88.7 kB 54%] [Waiting for he\u001b[0m\u001b[33m\r0% [10 Packages store 0 B] [3 InRelease gpgv 3,626 B] [9 InRelease 47.5 kB/88.7\u001b[0m\u001b[33m\r0% [3 InRelease gpgv 3,626 B] [9 InRelease 47.5 kB/88.7 kB 54%] [Waiting for he\u001b[0m\r                                                                               \rGet:11 http://security.ubuntu.com/ubuntu bionic-security/restricted amd64 Packages [31.0 kB]\n",
            "\u001b[33m\r0% [3 InRelease gpgv 3,626 B] [9 InRelease 47.5 kB/88.7 kB 54%] [11 Packages 2,\u001b[0m\u001b[33m\r0% [3 InRelease gpgv 3,626 B] [9 InRelease 47.5 kB/88.7 kB 54%] [Waiting for he\u001b[0m\r                                                                               \rGet:12 http://security.ubuntu.com/ubuntu bionic-security/main amd64 Packages [835 kB]\n",
            "\u001b[33m\r0% [3 InRelease gpgv 3,626 B] [9 InRelease 47.5 kB/88.7 kB 54%] [12 Packages 9,\u001b[0m\u001b[33m\r0% [11 Packages store 0 B] [3 InRelease gpgv 3,626 B] [9 InRelease 47.5 kB/88.7\u001b[0m\u001b[33m\r0% [3 InRelease gpgv 3,626 B] [9 InRelease 47.5 kB/88.7 kB 54%] [12 Packages 23\u001b[0m\r                                                                               \rGet:13 http://ppa.launchpad.net/marutter/c2d4u3.5/ubuntu bionic InRelease [15.4 kB]\n",
            "\u001b[33m\r0% [3 InRelease gpgv 3,626 B] [9 InRelease 57.6 kB/88.7 kB 65%] [12 Packages 12\u001b[0m\u001b[33m\r0% [3 InRelease gpgv 3,626 B] [9 InRelease 66.3 kB/88.7 kB 75%] [12 Packages 19\u001b[0m\u001b[33m\r0% [3 InRelease gpgv 3,626 B] [Waiting for headers] [12 Packages 433 kB/835 kB \u001b[0m\u001b[33m\r                                                                               \r0% [3 InRelease gpgv 3,626 B] [Waiting for headers]\u001b[0m\u001b[33m\r0% [12 Packages store 0 B] [3 InRelease gpgv 3,626 B] [Waiting for headers]\u001b[0m\r                                                                           \rGet:14 http://security.ubuntu.com/ubuntu bionic-security/universe amd64 Packages [823 kB]\n",
            "\u001b[33m\r0% [12 Packages store 0 B] [3 InRelease gpgv 3,626 B] [Waiting for headers] [14\u001b[0m\u001b[33m\r                                                                               \r0% [12 Packages store 0 B] [3 InRelease gpgv 3,626 B] [Waiting for headers]\u001b[0m\u001b[33m\r                                                                           \r0% [12 Packages store 0 B] [Waiting for headers]\u001b[0m\u001b[33m\r0% [12 Packages store 0 B] [5 InRelease gpgv 242 kB] [Waiting for headers] [Wai\u001b[0m\r                                                                               \rGet:15 http://archive.ubuntu.com/ubuntu bionic-backports InRelease [74.6 kB]\n",
            "Get:16 https://cloud.r-project.org/bin/linux/ubuntu bionic-cran35/ Packages [83.1 kB]\n",
            "Get:19 http://ppa.launchpad.net/graphics-drivers/ppa/ubuntu bionic/main amd64 Packages [36.9 kB]\n",
            "Get:20 http://archive.ubuntu.com/ubuntu bionic-updates/main amd64 Packages [1,127 kB]\n",
            "Get:21 http://ppa.launchpad.net/marutter/c2d4u3.5/ubuntu bionic/main Sources [1,772 kB]\n",
            "Get:22 http://archive.ubuntu.com/ubuntu bionic-updates/restricted amd64 Packages [44.7 kB]\n",
            "Get:23 http://archive.ubuntu.com/ubuntu bionic-updates/multiverse amd64 Packages [11.4 kB]\n",
            "Get:24 http://archive.ubuntu.com/ubuntu bionic-updates/universe amd64 Packages [1,350 kB]\n",
            "Get:25 http://archive.ubuntu.com/ubuntu bionic-backports/universe amd64 Packages [4,252 B]\n",
            "Get:26 http://ppa.launchpad.net/marutter/c2d4u3.5/ubuntu bionic/main amd64 Packages [856 kB]\n",
            "Fetched 7,275 kB in 3s (2,266 kB/s)\n",
            "Reading package lists... Done\n",
            "Building dependency tree       \n",
            "Reading state information... Done\n",
            "102 packages can be upgraded. Run 'apt list --upgradable' to see them.\n",
            "Reading package lists... Done\n",
            "Building dependency tree       \n",
            "Reading state information... Done\n",
            "python-dev is already the newest version (2.7.15~rc1-1).\n",
            "gcc is already the newest version (4:7.4.0-1ubuntu2.3).\n",
            "gcc set to manually installed.\n",
            "libkrb5-dev is already the newest version (1.16-2ubuntu0.1).\n",
            "The following package was automatically installed and is no longer required:\n",
            "  libnvidia-common-430\n",
            "Use 'apt autoremove' to remove it.\n",
            "0 upgraded, 0 newly installed, 0 to remove and 102 not upgraded.\n"
          ],
          "name": "stdout"
        }
      ]
    },
    {
      "cell_type": "code",
      "metadata": {
        "id": "PP28kxLekWG7",
        "colab_type": "code",
        "colab": {}
      },
      "source": [
        "from pyspark.sql import SparkSession\n",
        "from pyspark.sql.types import *\n",
        "import pyspark.sql.functions as F\n",
        "\n",
        "import os\n",
        "\n",
        "spark = SparkSession.builder.appName('Graphs-HW2').getOrCreate()\n"
      ],
      "execution_count": 0,
      "outputs": []
    },
    {
      "cell_type": "code",
      "metadata": {
        "id": "7Gm6aXPq1Ulc",
        "colab_type": "code",
        "colab": {}
      },
      "source": [
        "%load_ext sparkmagic.magics"
      ],
      "execution_count": 0,
      "outputs": []
    },
    {
      "cell_type": "code",
      "metadata": {
        "id": "NiGROEgu1gfN",
        "colab_type": "code",
        "colab": {}
      },
      "source": [
        "#graph section\n",
        "import networkx as nx\n",
        "# SQLite RDBMS\n",
        "import sqlite3\n",
        "# Parallel processing\n",
        "# import swifter\n",
        "\n",
        "# NoSQL DB\n",
        "from pymongo import MongoClient\n",
        "from pymongo.errors import DuplicateKeyError, OperationFailure\n",
        "\n",
        "import os\n",
        "os.environ['SPARK_HOME'] = '/content/spark-2.4.5-bin-hadoop2.7'\n",
        "os.environ[\"JAVA_HOME\"] = \"/usr/lib/jvm/java-8-openjdk-amd64\"\n",
        "import pyspark\n",
        "from pyspark.sql import SQLContext"
      ],
      "execution_count": 0,
      "outputs": []
    },
    {
      "cell_type": "code",
      "metadata": {
        "id": "bF0xipwC1hme",
        "colab_type": "code",
        "colab": {}
      },
      "source": [
        "try:\n",
        "    if(spark == None):\n",
        "        spark = SparkSession.builder.appName('Initial').getOrCreate()\n",
        "        sqlContext=SQLContext(spark)\n",
        "except NameError:\n",
        "    spark = SparkSession.builder.appName('Initial').getOrCreate()\n",
        "    sqlContext=SQLContext(spark)\n"
      ],
      "execution_count": 0,
      "outputs": []
    },
    {
      "cell_type": "markdown",
      "metadata": {
        "id": "mw-YbXpG1owp",
        "colab_type": "text"
      },
      "source": [
        "### Download data\n",
        "\n",
        "The following code retrieves the Yelp dataset files from Google Drive."
      ]
    },
    {
      "cell_type": "code",
      "metadata": {
        "id": "SuRm7t0it3nF",
        "colab_type": "code",
        "outputId": "00d8a4b7-f911-4cb9-d869-4d4bcbb1db31",
        "colab": {
          "base_uri": "https://localhost:8080/",
          "height": 104
        }
      },
      "source": [
        "from google_drive_downloader import GoogleDriveDownloader as gdd\n",
        "\n",
        "gdd.download_file_from_google_drive(file_id='1XCANGSCd0pUNcXq18t2QDwCIpJxus8Dy',\n",
        "                                    dest_path='/content/yelp_business_attributes.csv')\n",
        "\n",
        "# gdd.download_file_from_google_drive(file_id='1zY4xbZXPbnahBahraU7ZxoGF3zUZ4SO8',\n",
        "                                    # dest_path='/content/yelp_business_hours.csv')\n",
        "\n",
        "gdd.download_file_from_google_drive(file_id='11lwBibxX7PYGgOfHU25_dDDDsPX1Pt0Y',\n",
        "                                    dest_path='/content/yelp_business.csv')\n",
        "\n",
        "gdd.download_file_from_google_drive(file_id='1FU5Q-96erhTmk8SjC4XHUm94yWc6h3a0',\n",
        "                                    dest_path='/content/yelp_checkin.csv')\n",
        "\n",
        "gdd.download_file_from_google_drive(file_id='1UaaLrCKjqoQ7G3JT_VUw56pc-dnTwyrS', dest_path='/content/yelp_review2.csv')\n",
        "\n",
        "gdd.download_file_from_google_drive(file_id='1JNFZeLlimxNSwcOb-oBxxbwJqdg22WgD',\n",
        "                                    dest_path='/content/yelp_user.csv')\n"
      ],
      "execution_count": 0,
      "outputs": [
        {
          "output_type": "stream",
          "text": [
            "Downloading 1XCANGSCd0pUNcXq18t2QDwCIpJxus8Dy into /content/yelp_business_attributes.csv... Done.\n",
            "Downloading 11lwBibxX7PYGgOfHU25_dDDDsPX1Pt0Y into /content/yelp_business.csv... Done.\n",
            "Downloading 1FU5Q-96erhTmk8SjC4XHUm94yWc6h3a0 into /content/yelp_checkin.csv... Done.\n",
            "Downloading 1UaaLrCKjqoQ7G3JT_VUw56pc-dnTwyrS into /content/yelp_review2.csv... Done.\n",
            "Downloading 1JNFZeLlimxNSwcOb-oBxxbwJqdg22WgD into /content/yelp_user.csv... Done.\n"
          ],
          "name": "stdout"
        }
      ]
    },
    {
      "cell_type": "code",
      "metadata": {
        "id": "zKpvOx48kfCm",
        "colab_type": "code",
        "colab": {}
      },
      "source": [
        " !rm -rf yelp_*"
      ],
      "execution_count": 0,
      "outputs": []
    },
    {
      "cell_type": "code",
      "metadata": {
        "id": "6gjBA-aBkf6e",
        "colab_type": "code",
        "outputId": "4939d0f3-a536-4cfb-fd0e-c377d0481d20",
        "colab": {
          "base_uri": "https://localhost:8080/",
          "height": 991
        }
      },
      "source": [
        "!wget https://upenn-bigdataanalytics.s3.amazonaws.com/data/yelp_business.csv\n",
        "!wget https://upenn-bigdataanalytics.s3.amazonaws.com/data/yelp_review2.csv\n",
        "!wget https://upenn-bigdataanalytics.s3.amazonaws.com/data/yelp_business_attributes.csv\n",
        "!wget https://upenn-bigdataanalytics.s3.amazonaws.com/data/yelp_checkin.csv\n",
        "!wget https://upenn-bigdataanalytics.s3.amazonaws.com/data/yelp_user.csv"
      ],
      "execution_count": 0,
      "outputs": [
        {
          "output_type": "stream",
          "text": [
            "--2020-02-21 22:01:44--  https://upenn-bigdataanalytics.s3.amazonaws.com/data/yelp_business.csv\n",
            "Resolving upenn-bigdataanalytics.s3.amazonaws.com (upenn-bigdataanalytics.s3.amazonaws.com)... 52.216.206.99\n",
            "Connecting to upenn-bigdataanalytics.s3.amazonaws.com (upenn-bigdataanalytics.s3.amazonaws.com)|52.216.206.99|:443... connected.\n",
            "HTTP request sent, awaiting response... 200 OK\n",
            "Length: 30364138 (29M) [text/csv]\n",
            "Saving to: ‘yelp_business.csv’\n",
            "\n",
            "\ryelp_business.csv     0%[                    ]       0  --.-KB/s               \ryelp_business.csv    48%[========>           ]  13.93M  69.5MB/s               \ryelp_business.csv   100%[===================>]  28.96M  74.1MB/s    in 0.4s    \n",
            "\n",
            "2020-02-21 22:01:45 (74.1 MB/s) - ‘yelp_business.csv’ saved [30364138/30364138]\n",
            "\n",
            "--2020-02-21 22:01:51--  https://upenn-bigdataanalytics.s3.amazonaws.com/data/yelp_review2.csv\n",
            "Resolving upenn-bigdataanalytics.s3.amazonaws.com (upenn-bigdataanalytics.s3.amazonaws.com)... 52.216.109.235\n",
            "Connecting to upenn-bigdataanalytics.s3.amazonaws.com (upenn-bigdataanalytics.s3.amazonaws.com)|52.216.109.235|:443... connected.\n",
            "HTTP request sent, awaiting response... 200 OK\n",
            "Length: 3791120545 (3.5G) [text/csv]\n",
            "Saving to: ‘yelp_review2.csv’\n",
            "\n",
            "yelp_review2.csv    100%[===================>]   3.53G  86.8MB/s    in 44s     \n",
            "\n",
            "2020-02-21 22:02:35 (83.0 MB/s) - ‘yelp_review2.csv’ saved [3791120545/3791120545]\n",
            "\n",
            "--2020-02-21 22:02:37--  https://upenn-bigdataanalytics.s3.amazonaws.com/data/yelp_business_attributes.csv\n",
            "Resolving upenn-bigdataanalytics.s3.amazonaws.com (upenn-bigdataanalytics.s3.amazonaws.com)... 52.217.40.100\n",
            "Connecting to upenn-bigdataanalytics.s3.amazonaws.com (upenn-bigdataanalytics.s3.amazonaws.com)|52.217.40.100|:443... connected.\n",
            "HTTP request sent, awaiting response... 200 OK\n",
            "Length: 41377121 (39M) [text/csv]\n",
            "Saving to: ‘yelp_business_attributes.csv’\n",
            "\n",
            "yelp_business_attri 100%[===================>]  39.46M  92.7MB/s    in 0.4s    \n",
            "\n",
            "2020-02-21 22:02:38 (92.7 MB/s) - ‘yelp_business_attributes.csv’ saved [41377121/41377121]\n",
            "\n",
            "--2020-02-21 22:02:41--  https://upenn-bigdataanalytics.s3.amazonaws.com/data/yelp_checkin.csv\n",
            "Resolving upenn-bigdataanalytics.s3.amazonaws.com (upenn-bigdataanalytics.s3.amazonaws.com)... 52.216.136.244\n",
            "Connecting to upenn-bigdataanalytics.s3.amazonaws.com (upenn-bigdataanalytics.s3.amazonaws.com)|52.216.136.244|:443... connected.\n",
            "HTTP request sent, awaiting response... 200 OK\n",
            "Length: 135964892 (130M) [text/csv]\n",
            "Saving to: ‘yelp_checkin.csv’\n",
            "\n",
            "yelp_checkin.csv    100%[===================>] 129.67M  69.3MB/s    in 1.9s    \n",
            "\n",
            "2020-02-21 22:02:43 (69.3 MB/s) - ‘yelp_checkin.csv’ saved [135964892/135964892]\n",
            "\n",
            "--2020-02-21 22:02:46--  https://upenn-bigdataanalytics.s3.amazonaws.com/data/yelp_user.csv\n",
            "Resolving upenn-bigdataanalytics.s3.amazonaws.com (upenn-bigdataanalytics.s3.amazonaws.com)... 52.216.81.240\n",
            "Connecting to upenn-bigdataanalytics.s3.amazonaws.com (upenn-bigdataanalytics.s3.amazonaws.com)|52.216.81.240|:443... connected.\n",
            "HTTP request sent, awaiting response... 200 OK\n",
            "Length: 1363176944 (1.3G) [text/csv]\n",
            "Saving to: ‘yelp_user.csv’\n",
            "\n",
            "yelp_user.csv       100%[===================>]   1.27G  90.8MB/s    in 16s     \n",
            "\n",
            "2020-02-21 22:03:01 (82.9 MB/s) - ‘yelp_user.csv’ saved [1363176944/1363176944]\n",
            "\n"
          ],
          "name": "stdout"
        }
      ]
    },
    {
      "cell_type": "markdown",
      "metadata": {
        "id": "srYXW3JwvIZi",
        "colab_type": "text"
      },
      "source": [
        "## Part 4:"
      ]
    },
    {
      "cell_type": "markdown",
      "metadata": {
        "id": "1tjhGYPK1vmm",
        "colab_type": "text"
      },
      "source": [
        "### 4.1 Load Our Graph Datasets.\n",
        "\n",
        "For this assignment, we’ll be looking at graph data (reviews, reviewers, businesses) downloaded from Yelp.\n",
        "\n",
        "**A very brief review of graph theory**. Recall that a graph $G$ is composed of a set of vertices $V$ (also called nodes) and edges $E$ (sometimes called links).  Each vertex $v \\in V$ has an identity (often represented in the real world as a string or numeric “node ID”).  Each edge $e \\in E$ is a tuple $(v_i,v_j)$ where $v_i$ represents the source or origin of the edge, and $v_j$ represents the target or destination.  In the simplest case, the edge tuple above is simply the pair $(v_i,v_j)$ but in many cases we may have additional fields such as a label or a distance.  Recall also that graphs may be undirected or directed; in undirected graphs, all edges are symmetric whereas in directed graphs, they are not.  For instance, airline flights are directed, whereas Facebook friend relationships are undirected.\n",
        "\n",
        "Let’s read our social graph data from Yelp, which forms a directed graph.  Here, the set of nodes is also not specified; the assumption is that the only nodes that matter are linked to other nodes, and thus their IDs will appear in the set of edges.  To load the file `input.txt` into a Spark DataFrame, you can use lines like the following.\n",
        "\n",
        "```\n",
        "# Read lines from the text file\n",
        "input_sdf = spark.read.load('input.txt', format=\"text\")\n",
        "```\n",
        "\n",
        "We’ll use the suffix `_sdf` to represent “Spark DataFrame,” much as we used `_df` to denote a Pandas DataFrame in Homework 1.  Load the various files from Yelp.\n",
        "\n",
        "Your datasets should be named `yelp_business_sdf`, `yelp_business_attributes_sdf`, `yelp_check_in_sdf`, `yelp_reviews_sdf`, and `yelp_users_sdf`.\n",
        "\n",
        "Submit the first 75 entries of the yelp_business_sdf to the autograder as a pandas dataframe by using the toPandas() function to convert it from a spark dataframe to a normal dataframe. Also,\n",
        " make sure to sort it by the \"name\" column in ascending order"
      ]
    },
    {
      "cell_type": "code",
      "metadata": {
        "id": "7mtQl7Bi1rHe",
        "colab_type": "code",
        "colab": {}
      },
      "source": [
        "yelp_business_sdf = spark.read.format(\"csv\").option(\"header\", \"true\").load(\"yelp_business.csv\")\n",
        "yelp_business_attributes_sdf = spark.read.format(\"csv\").option(\"header\", \"true\")\\\n",
        "                               .load(\"yelp_business_attributes.csv\")\n",
        "yelp_check_in_sdf = spark.read.format(\"csv\").option(\"header\", \"true\").load(\"yelp_checkin.csv\")\n",
        "yelp_reviews_sdf = spark.read.format(\"csv\").option(\"header\", \"true\").load(\"yelp_review2.csv\")\n",
        "yelp_users_sdf = spark.read.format(\"csv\").option(\"header\", \"true\").load(\"yelp_user.csv\")\n",
        "\n",
        "yelp_business = yelp_business_sdf.toPandas()\n",
        "yelp_business = ps.sqldf('SELECT * FROM yelp_business ORDER BY name')"
      ],
      "execution_count": 0,
      "outputs": []
    },
    {
      "cell_type": "code",
      "metadata": {
        "id": "vqHKFiT-12wT",
        "colab_type": "code",
        "outputId": "976e16a4-e412-4836-9424-22c60085398c",
        "colab": {
          "base_uri": "https://localhost:8080/",
          "height": 69
        }
      },
      "source": [
        "grader.grade(test_case_id = 'check_yelp_load', answer = yelp_business[:75])"
      ],
      "execution_count": 0,
      "outputs": [
        {
          "output_type": "stream",
          "text": [
            "Correct! You earned 3/3 points. You are a star!\n",
            "\n",
            "Your submission has been successfully recorded in the gradebook.\n"
          ],
          "name": "stdout"
        }
      ]
    },
    {
      "cell_type": "markdown",
      "metadata": {
        "id": "yvm3tmQ7c6N-",
        "colab_type": "text"
      },
      "source": [
        "Put your spark dataframes from the previous section into temporary tables. The syntax is as follows:\n",
        "\n",
        "yelp_business_sdf.createOrReplaceTempView('yelp_business')"
      ]
    },
    {
      "cell_type": "code",
      "metadata": {
        "id": "ADFIa6jx16Sm",
        "colab_type": "code",
        "colab": {}
      },
      "source": [
        "yelp_business_sdf.createOrReplaceTempView('yelp_business')\n",
        "yelp_business_attributes_sdf.createOrReplaceTempView('yelp_business_attributes')\n",
        "yelp_check_in_sdf.createOrReplaceTempView('yelp_checkin')\n",
        "yelp_reviews_sdf.createOrReplaceTempView('yelp_reviews')\n",
        "yelp_users_sdf.createOrReplaceTempView('yelp_users')"
      ],
      "execution_count": 0,
      "outputs": []
    },
    {
      "cell_type": "markdown",
      "metadata": {
        "colab_type": "text",
        "id": "DBjwu_4ZbgdG"
      },
      "source": [
        "### 4.2 Simple Analytics on the Data\n",
        "\n",
        "In this section, we shall be executing Spark operations on the data given. Beyond simply executing the queries, you may try using `.explain()` method to see more about the query execution. Also, please read the data description prior to attempting the following questions to understand the data.\n",
        "\n",
        "\n",
        "Compute, stored in `best_average_sdf`, the list of names of businesses based on their average review score (review stars), in decreasing order, sorted lexicographically (in increasing order) by name if they have the same score.  Output the number of reviews also.  Call the columns `name`, `avg_rating`, and `count`.\n",
        "\n",
        "Convert this to pandas and submit the first 75 rows "
      ]
    },
    {
      "cell_type": "code",
      "metadata": {
        "colab_type": "code",
        "id": "g_HT_LG1bf1t",
        "outputId": "d0dbdbbb-941b-47b5-aeef-d61c3cd307b5",
        "colab": {
          "base_uri": "https://localhost:8080/",
          "height": 470
        }
      },
      "source": [
        "yelp_business_sdf.explain()\n",
        "best_average_sdf = spark.sql('SELECT name, stars as avg_rating, review_count \\\n",
        "                              as count FROM yelp_business ORDER BY stars DESC, \\\n",
        "                              name ASC')\n",
        "best_average_sdf_75 = best_average_sdf.toPandas()\n",
        "best_average_sdf_75 = best_average_sdf_75[:75]\n",
        "best_average_sdf_75"
      ],
      "execution_count": 0,
      "outputs": [
        {
          "output_type": "stream",
          "text": [
            "== Physical Plan ==\n",
            "*(1) FileScan csv [business_id#10,name#11,neighborhood#12,address#13,city#14,state#15,postal_code#16,latitude#17,longitude#18,stars#19,review_count#20,is_open#21,categories#22] Batched: false, Format: CSV, Location: InMemoryFileIndex[file:/content/yelp_business.csv], PartitionFilters: [], PushedFilters: [], ReadSchema: struct<business_id:string,name:string,neighborhood:string,address:string,city:string,state:string...\n"
          ],
          "name": "stdout"
        },
        {
          "output_type": "execute_result",
          "data": {
            "text/html": [
              "<div>\n",
              "<style scoped>\n",
              "    .dataframe tbody tr th:only-of-type {\n",
              "        vertical-align: middle;\n",
              "    }\n",
              "\n",
              "    .dataframe tbody tr th {\n",
              "        vertical-align: top;\n",
              "    }\n",
              "\n",
              "    .dataframe thead th {\n",
              "        text-align: right;\n",
              "    }\n",
              "</style>\n",
              "<table border=\"1\" class=\"dataframe\">\n",
              "  <thead>\n",
              "    <tr style=\"text-align: right;\">\n",
              "      <th></th>\n",
              "      <th>name</th>\n",
              "      <th>avg_rating</th>\n",
              "      <th>count</th>\n",
              "    </tr>\n",
              "  </thead>\n",
              "  <tbody>\n",
              "    <tr>\n",
              "      <th>0</th>\n",
              "      <td>\"\"\"T\"\"s Hair Affair\"</td>\n",
              "      <td>5.0</td>\n",
              "      <td>10</td>\n",
              "    </tr>\n",
              "    <tr>\n",
              "      <th>1</th>\n",
              "      <td>\"2 \"\"Di\"\" 4 Gourmet Karmel Korn\"</td>\n",
              "      <td>5.0</td>\n",
              "      <td>7</td>\n",
              "    </tr>\n",
              "    <tr>\n",
              "      <th>2</th>\n",
              "      <td>\"Davis \"\"N\"\" Sons Car Detailing\"</td>\n",
              "      <td>5.0</td>\n",
              "      <td>4</td>\n",
              "    </tr>\n",
              "    <tr>\n",
              "      <th>3</th>\n",
              "      <td>\"Manantial De Salud \"\"The Vitamin Store\"\"\"</td>\n",
              "      <td>5.0</td>\n",
              "      <td>3</td>\n",
              "    </tr>\n",
              "    <tr>\n",
              "      <th>4</th>\n",
              "      <td>\"Scotty\"\"s Kitchen\"</td>\n",
              "      <td>5.0</td>\n",
              "      <td>3</td>\n",
              "    </tr>\n",
              "    <tr>\n",
              "      <th>...</th>\n",
              "      <td>...</td>\n",
              "      <td>...</td>\n",
              "      <td>...</td>\n",
              "    </tr>\n",
              "    <tr>\n",
              "      <th>70</th>\n",
              "      <td>24 Hours of Booty</td>\n",
              "      <td>5.0</td>\n",
              "      <td>5</td>\n",
              "    </tr>\n",
              "    <tr>\n",
              "      <th>71</th>\n",
              "      <td>24-7 Electrical Services</td>\n",
              "      <td>5.0</td>\n",
              "      <td>124</td>\n",
              "    </tr>\n",
              "    <tr>\n",
              "      <th>72</th>\n",
              "      <td>24-7 JB Services Garage Door</td>\n",
              "      <td>5.0</td>\n",
              "      <td>47</td>\n",
              "    </tr>\n",
              "    <tr>\n",
              "      <th>73</th>\n",
              "      <td>24/7 Carpet &amp; Floor Care</td>\n",
              "      <td>5.0</td>\n",
              "      <td>53</td>\n",
              "    </tr>\n",
              "    <tr>\n",
              "      <th>74</th>\n",
              "      <td>24/7 Foot Doctor - Podiatry House &amp; Hotel Calls</td>\n",
              "      <td>5.0</td>\n",
              "      <td>20</td>\n",
              "    </tr>\n",
              "  </tbody>\n",
              "</table>\n",
              "<p>75 rows × 3 columns</p>\n",
              "</div>"
            ],
            "text/plain": [
              "                                               name avg_rating count\n",
              "0                              \"\"\"T\"\"s Hair Affair\"        5.0    10\n",
              "1                  \"2 \"\"Di\"\" 4 Gourmet Karmel Korn\"        5.0     7\n",
              "2                  \"Davis \"\"N\"\" Sons Car Detailing\"        5.0     4\n",
              "3        \"Manantial De Salud \"\"The Vitamin Store\"\"\"        5.0     3\n",
              "4                               \"Scotty\"\"s Kitchen\"        5.0     3\n",
              "..                                              ...        ...   ...\n",
              "70                                24 Hours of Booty        5.0     5\n",
              "71                         24-7 Electrical Services        5.0   124\n",
              "72                     24-7 JB Services Garage Door        5.0    47\n",
              "73                         24/7 Carpet & Floor Care        5.0    53\n",
              "74  24/7 Foot Doctor - Podiatry House & Hotel Calls        5.0    20\n",
              "\n",
              "[75 rows x 3 columns]"
            ]
          },
          "metadata": {
            "tags": []
          },
          "execution_count": 14
        }
      ]
    },
    {
      "cell_type": "code",
      "metadata": {
        "id": "fV0CRhTrdrPg",
        "colab_type": "code",
        "outputId": "388c03ad-7401-4a06-85fc-f821e9209629",
        "colab": {
          "base_uri": "https://localhost:8080/",
          "height": 69
        }
      },
      "source": [
        "grader.grade(test_case_id = 'best_average_sdf_check', answer = best_average_sdf_75)"
      ],
      "execution_count": 0,
      "outputs": [
        {
          "output_type": "stream",
          "text": [
            "Correct! You earned 7/7 points. You are a star!\n",
            "\n",
            "Your submission has been successfully recorded in the gradebook.\n"
          ],
          "name": "stdout"
        }
      ]
    },
    {
      "cell_type": "markdown",
      "metadata": {
        "colab_type": "text",
        "id": "2L8pEamDbeUC"
      },
      "source": [
        "#### 4.2.1 Users who are more negative than average\n",
        "\n",
        "Find the users whose average review is below the *average of the per-user* average reviews.  Think about how to factor that into steps!\n",
        "\n",
        "* Compute the (floating-point) variable `overall_avg` as the average of the users' average reviews. (You might compute this in a Spark DataFrame first).\n",
        "* Then output `negative_users_sdf` as the users whose average rating is below that.  This Spark dataframe should have `name` and `avg_rating` and should be sorted first (from lowest to highest) by average rating, then lexicographically (in ascending order) by name.  You should drop cases where the name is null.\n",
        "\n",
        "Submit just the overall_avg number that you get to the autograder as a float\n"
      ]
    },
    {
      "cell_type": "code",
      "metadata": {
        "colab_type": "code",
        "id": "8X8U1EQebds6",
        "outputId": "77d6854c-c661-4946-cf0a-cb971893d89f",
        "colab": {
          "base_uri": "https://localhost:8080/",
          "height": 537
        }
      },
      "source": [
        "overall_avg = yelp_users_sdf.select(F.mean('average_stars')).head()[0]\n",
        "negative_users_sdf = yelp_users_sdf.select(F.col('name'), \\\n",
        "                                           F.col('average_stars').alias('avg_rating')). \\\n",
        "                                           filter(yelp_users_sdf.average_stars < overall_avg).\\\n",
        "                                                  sort(F.col('avg_rating').asc(), \n",
        "                                                       F.col('name').asc())\n",
        "negative_users_sdf = negative_users_sdf.filter(F.col('name').isNotNull())\n",
        "negative_users_sdf.show()"
      ],
      "execution_count": 0,
      "outputs": [
        {
          "output_type": "stream",
          "text": [
            "root\n",
            " |-- name: string (nullable = true)\n",
            " |-- avg_rating: string (nullable = true)\n",
            "\n",
            "+---------------+----------+\n",
            "|           name|avg_rating|\n",
            "+---------------+----------+\n",
            "|              -|       1.0|\n",
            "|              -|       1.0|\n",
            "|        -Antido|       1.0|\n",
            "|            -Ku|       1.0|\n",
            "|             ..|       1.0|\n",
            "|             12|       1.0|\n",
            "|             14|       1.0|\n",
            "|          1648O|       1.0|\n",
            "|1Southerngyrl76|       1.0|\n",
            "|          27_Sm|       1.0|\n",
            "|         4 Your|       1.0|\n",
            "|    420princess|       1.0|\n",
            "|           6060|       1.0|\n",
            "|             80|       1.0|\n",
            "|            80s|       1.0|\n",
            "|       888domsk|       1.0|\n",
            "|              A|       1.0|\n",
            "|              A|       1.0|\n",
            "|              A|       1.0|\n",
            "|              A|       1.0|\n",
            "+---------------+----------+\n",
            "only showing top 20 rows\n",
            "\n"
          ],
          "name": "stdout"
        }
      ]
    },
    {
      "cell_type": "code",
      "metadata": {
        "id": "tpoocHBtfyrB",
        "colab_type": "code",
        "outputId": "506b7575-508a-4753-a51e-5d33ec8d2d5a",
        "colab": {
          "base_uri": "https://localhost:8080/",
          "height": 69
        }
      },
      "source": [
        "grader.grade(test_case_id = 'check_avg', answer = overall_avg)"
      ],
      "execution_count": 0,
      "outputs": [
        {
          "output_type": "stream",
          "text": [
            "Correct! You earned 7/7 points. You are a star!\n",
            "\n",
            "Your submission has been successfully recorded in the gradebook.\n"
          ],
          "name": "stdout"
        }
      ]
    },
    {
      "cell_type": "markdown",
      "metadata": {
        "id": "v6n8ooy9iIqH",
        "colab_type": "text"
      },
      "source": [
        "### 4.2.2 Cities by number of businesses\n",
        "\n",
        "Find the top 10 cities by number of (Yelp-listed) businesses.\n",
        "\n",
        "This time, use the `take()` function to create a *list* of the top 10 cities (as Rows).  Call this list `top10_cities` and make sure it includes city `name` and `num_restaurants`.\n",
        "\n",
        "We want to answer as a list of lists where each element is the combination of the city name + num_restaurants:\n",
        "\n",
        "[[\"Philadelphia\", 12345], [\"Los Angeles\", 543]]"
      ]
    },
    {
      "cell_type": "code",
      "metadata": {
        "id": "y7lPtnowiH5u",
        "colab_type": "code",
        "outputId": "cc96c9a4-99b8-43d7-a422-1ccdf9f4debc",
        "colab": {
          "base_uri": "https://localhost:8080/",
          "height": 191
        }
      },
      "source": [
        "top_ten_df = yelp_business_sdf.select('city').groupBy('city').count(). \\\n",
        "             sort(F.col('count').desc()).limit(10)\n",
        "top_ten_df = top_ten_df.select(F.col('city'), F.col('count').alias('num_restaurants'))\n",
        "#top_ten_df.show()\n",
        "\n",
        "top_ten = top_ten_df.take(10)\n",
        "final = []\n",
        "for pair in top_ten:\n",
        "  l = [pair.city, pair.num_restaurants]\n",
        "  final.append(l)\n",
        "final"
      ],
      "execution_count": 0,
      "outputs": [
        {
          "output_type": "execute_result",
          "data": {
            "text/plain": [
              "[['Las Vegas', 26775],\n",
              " ['Phoenix', 17213],\n",
              " ['Toronto', 17206],\n",
              " ['Charlotte', 8553],\n",
              " ['Scottsdale', 8228],\n",
              " ['Pittsburgh', 6355],\n",
              " ['Mesa', 5760],\n",
              " ['Montréal', 5709],\n",
              " ['Henderson', 4465],\n",
              " ['Tempe', 4263]]"
            ]
          },
          "metadata": {
            "tags": []
          },
          "execution_count": 18
        }
      ]
    },
    {
      "cell_type": "code",
      "metadata": {
        "id": "GRDb7UcThGDE",
        "colab_type": "code",
        "outputId": "4616f9fc-7cf1-4eae-c11d-20fb275f2d38",
        "colab": {
          "base_uri": "https://localhost:8080/",
          "height": 69
        }
      },
      "source": [
        "grader.grade(test_case_id = 'top10CitiesCheck', answer = final)"
      ],
      "execution_count": 0,
      "outputs": [
        {
          "output_type": "stream",
          "text": [
            "Correct! You earned 8/8 points. You are a star!\n",
            "\n",
            "Your submission has been successfully recorded in the gradebook.\n"
          ],
          "name": "stdout"
        }
      ]
    },
    {
      "cell_type": "markdown",
      "metadata": {
        "id": "np4FWzhmpvRx",
        "colab_type": "text"
      },
      "source": [
        "The following is code we have given you. This builds a relationship graph that will be used in the next section. Take a look at it to familiarize yourself with it for the next section"
      ]
    },
    {
      "cell_type": "code",
      "metadata": {
        "colab_type": "code",
        "id": "-JlSq4FCbbCh",
        "outputId": "fcf83d53-dfa0-47c5-e2a6-b8350a818045",
        "colab": {
          "base_uri": "https://localhost:8080/",
          "height": 468
        }
      },
      "source": [
        "review_graph_sdf = spark.sql(\"SELECT user_id AS from_node, business_id AS to_node, stars AS score FROM yelp_reviews \"\\\n",
        "                        \"WHERE business_id is not null \"\\\n",
        "                        \"AND user_id is not null\")\n",
        "review_graph_sdf.createOrReplaceTempView('review_graph')\n",
        "review_graph_sdf = review_graph_sdf.drop('score')\n",
        "review_graph_sdf.show()\n"
      ],
      "execution_count": 0,
      "outputs": [
        {
          "output_type": "stream",
          "text": [
            "+--------------------+--------------------+\n",
            "|           from_node|             to_node|\n",
            "+--------------------+--------------------+\n",
            "|bv2nCi5Qv5vroFiqK...|AEx2SYEUJmTxVVB18...|\n",
            "|bv2nCi5Qv5vroFiqK...|VR6GpWIda3SfvPC-l...|\n",
            "|bv2nCi5Qv5vroFiqK...|CKC0-MOWMqoeWf6s-...|\n",
            "|bv2nCi5Qv5vroFiqK...|ACFtxLv8pGrrxMm6E...|\n",
            "|bv2nCi5Qv5vroFiqK...|s2I_Ni76bjJNK9yG6...|\n",
            "|_4iMDXbXZ1p1ONG29...|8QWPlVQ6D-OExqXoa...|\n",
            "|u0LXt3Uea_GidxRW1...|9_CGhHMz8698M9-Pk...|\n",
            "|u0LXt3Uea_GidxRW1...|gkCorLgPyQLsptTHa...|\n",
            "|u0LXt3Uea_GidxRW1...|5r6-G9C4YLbC7Ziz5...|\n",
            "|u0LXt3Uea_GidxRW1...|fDF_o2JPU8BR1Gya-...|\n",
            "|u0LXt3Uea_GidxRW1...|z8oIoCT1cXz7gZP5G...|\n",
            "|u0LXt3Uea_GidxRW1...|XWTPNfskXoUL-Lf32...|\n",
            "|u0LXt3Uea_GidxRW1...|13nKUHH-uEUXVZylg...|\n",
            "|u0LXt3Uea_GidxRW1...|RtUvSWO_UZ8V3Wpj0...|\n",
            "|u0LXt3Uea_GidxRW1...|Aov96CM4FZAXeZvKt...|\n",
            "|u0LXt3Uea_GidxRW1...|0W4lkclzZThpx3V65...|\n",
            "|u0LXt3Uea_GidxRW1...|fdnNZMk1NP7ZhL-YM...|\n",
            "|u0LXt3Uea_GidxRW1...|PFPUMF38-lraKzLcT...|\n",
            "|u0LXt3Uea_GidxRW1...|oWTn2IzrprsRkPfUL...|\n",
            "|u0LXt3Uea_GidxRW1...|zgQHtqX0gqMw1nlBZ...|\n",
            "+--------------------+--------------------+\n",
            "only showing top 20 rows\n",
            "\n"
          ],
          "name": "stdout"
        }
      ]
    },
    {
      "cell_type": "markdown",
      "metadata": {
        "id": "zA84jsFau2Ls",
        "colab_type": "text"
      },
      "source": [
        "\n",
        "## Part 5. “Traversing” a Graph\n",
        "\n",
        "For our next tasks, we will be “walking” the graph and making connections.\n",
        "\n"
      ]
    },
    {
      "cell_type": "markdown",
      "metadata": {
        "id": "PrftJPvUiY59",
        "colab_type": "text"
      },
      "source": [
        "\n",
        "### 5.1 Distributed Breadth-First Search\n",
        "A search algorithm typically starts at a node or set of nodes, and “explores” or “walks” for some number of steps to find a match or a set of matches.\n",
        "\n",
        "If you need an introduction for BFS, I highly suggest looking here: https://www.tutorialspoint.com/data_structures_algorithms/breadth_first_traversal.htm\n",
        "\n",
        "We will be asking for something slightly different tho...\n",
        "\n",
        "Let’s implement a distributed version of a popular algorithm, breadth-first-search (BFS).  This algorithm is given a graph `G`, a set of origin nodes `N`, and a depth `d`.  In each iteration or round up to depth `d`, it explores the set of all new nodes directly connected to the nodes it already has seen, before going on to the nodes another “hop” away.  If we do this correctly, we will explore the graph in a way that (1) avoids getting caught in cycles or loops, and (2) visits each node in the fewest number of “hops” from the origin.  BFS is commonly used in tasks such as friend recommendation in social networks.\n",
        "\n",
        "**How does distributed BFS in Spark work**?  Let’s start with a brief sketch of standard BFS.  During exploration “rounds”, we can divide the graph into three categories:\n",
        "\n",
        "1. *unexplored nodes*.  These are nodes we have not yet visited.  You don’t necessarily need to track these separately from the graph.\n",
        "2. *visited nodes*.  We have already reached these nodes in a previous “round”.\n",
        "3. *frontier nodes*.  These are nodes we have visited in this round.  We have not yet checked whether they have out-edges connecting to unexplored nodes."
      ]
    },
    {
      "cell_type": "markdown",
      "metadata": {
        "id": "er66Vdjjia_W",
        "colab_type": "text"
      },
      "source": [
        "Let’s look at the figure, which shows a digraph.  The green node A represents the origin.\n",
        "\n",
        "<p align = \"center\">\n",
        "<img src = \"https://imgur.com/WU3AUwg.png\" width= \"600\" align =\"center\"/>\n",
        "\n",
        "* In the first round, the origin A is the sole frontier node.  We find all nodes reachable directly from A, namely B-F; then we remove all nodes we have already visited (there are none) or that are in the frontier (the node A itself).  This leaves the blue nodes B-F, which are all reachable in (at most) 1 hop from A.\n",
        "* In the second round, we move A to the visited set and B-F to the frontier.  Now we explore all nodes connected directly to frontier nodes, namely A (from B), F (from E), and the red nodes G-L.  We eliminate the nodes already contained in the frontier and visited sets from the next round’s frontier set, leaving the red nodes only.\n",
        "* In the third round, we will move B-F to the visited set, G-L to the frontier set, and explore the next round of neighbors N-V.  This process continues up to some maximum depth (or until there are no more unexplored nodes).\n",
        "\n",
        "Assume we create data structures (we can make them DataFrames) for the visited and frontier nodes.  Consider (1) how to initialize the different sets at the start of computation (note: unexplored nodes are already in the graph), and (2) how to use the graph edges and the existing data structures to update state for the next iteration “round”.\n",
        "\n",
        "You might possibly have seen how to create a breadth-first-search algorithm in a single-CPU programming language, using a queue to capture the frontier nodes. With Spark we don’t need a queue -- we just need the three sets above.\n",
        "\n",
        "### 5.2 Breadth-First Search Algorithm\n",
        "\n",
        "Create a function `spark_bfs(G, origins, max_depth)` that takes a Spark DataFrame with a graph G (following the schema for `review_graph_sdf` described above, but to be treated as an **undirected graph**), a Python list-of-dictionaries `origins` of the form \n",
        "\n",
        "```\n",
        "[{‘node’: nid1}, \n",
        " {‘node’: nid2}, \n",
        " …]\n",
        "```\n",
        "\n",
        "and a nonnegative integer “exploration depth” `max_depth` (to only run BFS on a tractable portion of the graph).  The `max_depth` will be the maximum number of edge traversals (e.g., the origin is at `max_depth=0`, one hop from the origin is `max_depth=1`, etc.  The function should return a DataFrame containing pairs of the form (node, distance), where the distance is depth at which $n$ was *first* encountered (i.e., the shortest-path distance from the origin nodes).  Note that the origin nodes should also be returned in this Spark DataFrame (with depth 0)!  \n",
        "\n",
        "You can create a new Spark DataFrame with an integer `node` column from the above list of maps `origins`, as follows. This will give you a DataFrame of the nodes to start the BFS at\n",
        "\n",
        "```\n",
        "schema = StructType([\n",
        "            StructField(\"node\", StringType(), True)\n",
        "        ])\n",
        "\n",
        "    my_sdf = spark.createDataFrame(my_list_of_maps, schema)\n",
        "```\n",
        "\n",
        "In this algorithm, be careful in each iteration to keep only the nodes with their shortest distances (you may need to do aggregation or item removal).  You should accumulate all nodes at distances 0, 1, ..., `max_depth`."
      ]
    },
    {
      "cell_type": "code",
      "metadata": {
        "id": "wXkRvJXKiVum",
        "colab_type": "code",
        "colab": {}
      },
      "source": [
        "# TODO: iterative search over undirected graph\n",
        "#review_graph_sdf.printSchema()\n",
        "def spark_bfs(G, origins, max_depth):\n",
        "    schema = StructType([\n",
        "                StructField(\"node\", StringType(), True),\n",
        "                StructField(\"distance\", IntegerType(), True)\n",
        "            ])\n",
        "    \n",
        "    frontier_schema = StructType([\n",
        "            StructField(\"node\", StringType(), True)\n",
        "        ])\n",
        "\n",
        "    frontier_nodes_sdf = spark.createDataFrame(origins, frontier_schema)\n",
        "\n",
        "    visited_nodes_sdf = spark.createDataFrame(origins, schema).withColumn('distance', F.lit(0))\n",
        "\n",
        "    for i in range(max_depth):\n",
        "\n",
        "      neighbors_sdf = frontier_nodes_sdf.join(G, (frontier_nodes_sdf.node == G.from_node) | (frontier_nodes_sdf.node == G.to_node)).cache()\n",
        "\n",
        "      frontier_nodes_sdf = neighbors_sdf.select(F.col('to_node').alias('node'))\n",
        "\n",
        "      frontier_nodes_sdf = frontier_nodes_sdf.union(neighbors_sdf.select(F.col('from_node').alias('node'))).dropDuplicates().cache()\n",
        "      frontier_nodes_sdf = frontier_nodes_sdf.join(visited_nodes_sdf, visited_nodes_sdf.node == frontier_nodes_sdf.node, 'leftanti').cache()\n",
        "      visited_nodes_sdf = visited_nodes_sdf.union(frontier_nodes_sdf.withColumn('distance', F.lit(i + 1))).dropDuplicates().cache()\n",
        "    return visited_nodes_sdf"
      ],
      "execution_count": 0,
      "outputs": []
    },
    {
      "cell_type": "markdown",
      "metadata": {
        "id": "WYpE6Pp1njJu",
        "colab_type": "text"
      },
      "source": [
        "This is the starting origin node ID for your BFS and the associated call"
      ]
    },
    {
      "cell_type": "code",
      "metadata": {
        "id": "RwIZSjEBBvAd",
        "colab_type": "code",
        "outputId": "5985ed38-da00-4762-ef2a-d1a7cb7398f1",
        "colab": {
          "base_uri": "https://localhost:8080/",
          "height": 295
        }
      },
      "source": [
        "simple = [('A', 'B'),\n",
        "         ('A', 'C'),\n",
        "         ('A', 'D'),\n",
        "         ('C', 'F'),\n",
        "         ('B', 'G'),\n",
        "         ('G', 'H'),\n",
        "         ('D', 'E')]\n",
        "data = {'from_node': ['A', 'A', 'A', 'C', 'B', 'G', 'D'],\n",
        "       'to_node': ['B', 'C', 'D', 'F', 'G', 'H', 'E']}\n",
        "uh = pd.DataFrame.from_dict(data)\n",
        "uh_sdf = spark.createDataFrame(uh)\n",
        "smallOrig = [{'node': 'C'}]\n",
        "\n",
        "smallCount = spark_bfs(uh_sdf, smallOrig, 3)"
      ],
      "execution_count": 0,
      "outputs": [
        {
          "output_type": "stream",
          "text": [
            "start\n",
            "here\n",
            "+----+\n",
            "|node|\n",
            "+----+\n",
            "|   C|\n",
            "+----+\n",
            "\n",
            "+----+--------+\n",
            "|node|distance|\n",
            "+----+--------+\n",
            "|   C|       0|\n",
            "+----+--------+\n",
            "\n",
            "before loop\n",
            "end loop\n"
          ],
          "name": "stdout"
        }
      ]
    },
    {
      "cell_type": "code",
      "metadata": {
        "id": "F4nzJnnBsggc",
        "colab_type": "code",
        "outputId": "6bdea246-f1d1-4941-ef9a-93894488c6c4",
        "colab": {
          "base_uri": "https://localhost:8080/",
          "height": 243
        }
      },
      "source": [
        "import time\n",
        "start_time = time.time()\n",
        "smallCount.show()\n",
        "end_time = time.time()\n",
        "print(\"Total execution time: {}\".format(end_time - start_time))"
      ],
      "execution_count": 0,
      "outputs": [
        {
          "output_type": "stream",
          "text": [
            "+----+--------+\n",
            "|node|distance|\n",
            "+----+--------+\n",
            "|   D|       2|\n",
            "|   A|       1|\n",
            "|   F|       1|\n",
            "|   E|       3|\n",
            "|   C|       0|\n",
            "|   B|       2|\n",
            "|   G|       3|\n",
            "+----+--------+\n",
            "\n",
            "Total execution time: 0.891728401184082\n"
          ],
          "name": "stdout"
        }
      ]
    },
    {
      "cell_type": "code",
      "metadata": {
        "id": "rVUwgLmhiiAY",
        "colab_type": "code",
        "outputId": "0a77f836-c59c-406b-c144-93097e331c48",
        "colab": {
          "base_uri": "https://localhost:8080/",
          "height": 295
        }
      },
      "source": [
        "orig = [{'node': 'bv2nCi5Qv5vroFiqKGopiw'}]\n",
        "#grab the count\n",
        "count = spark_bfs(review_graph_sdf, orig, 3)"
      ],
      "execution_count": 0,
      "outputs": [
        {
          "output_type": "stream",
          "text": [
            "start\n",
            "here\n",
            "+--------------------+\n",
            "|                node|\n",
            "+--------------------+\n",
            "|bv2nCi5Qv5vroFiqK...|\n",
            "+--------------------+\n",
            "\n",
            "+--------------------+--------+\n",
            "|                node|distance|\n",
            "+--------------------+--------+\n",
            "|bv2nCi5Qv5vroFiqK...|       0|\n",
            "+--------------------+--------+\n",
            "\n",
            "before loop\n",
            "end loop\n"
          ],
          "name": "stdout"
        }
      ]
    },
    {
      "cell_type": "code",
      "metadata": {
        "id": "mcqtpULlpNbm",
        "colab_type": "code",
        "outputId": "0f54d409-9bf2-4ccb-cd36-188fbfa90f7c",
        "colab": {
          "base_uri": "https://localhost:8080/",
          "height": 35
        }
      },
      "source": [
        "import time\n",
        "start_time = time.time()\n",
        "\n",
        "answer_sdf = count.sort(F.col('node')).limit(75)\n",
        "answer_75 = answer_sdf.toPandas()\n",
        "\n",
        "end_time = time.time()\n",
        "print(\"Total execution time: {}\".format(end_time - start_time))"
      ],
      "execution_count": 0,
      "outputs": [
        {
          "output_type": "stream",
          "text": [
            "Total execution time: 15279.965561628342\n"
          ],
          "name": "stdout"
        }
      ]
    },
    {
      "cell_type": "markdown",
      "metadata": {
        "id": "8ZnMt_CKnouC",
        "colab_type": "text"
      },
      "source": [
        "When submitting to the autograder, submit as a tuple where first value is the length of your output dataframe and the second is the first 75 rows of your result.\n",
        "\n",
        "However, before you grabb your first 75 rows, sort by the ids"
      ]
    },
    {
      "cell_type": "code",
      "metadata": {
        "id": "VAqdWoVtjDMI",
        "colab_type": "code",
        "outputId": "1a2f7767-25d4-405f-d1a5-ef2a3cf71117",
        "colab": {
          "base_uri": "https://localhost:8080/",
          "height": 69
        }
      },
      "source": [
        "#13603 is just obtained from running count.count()\n",
        "grader.grade(test_case_id = 'checkBFS', answer = (13603, answer_75))"
      ],
      "execution_count": 0,
      "outputs": [
        {
          "output_type": "stream",
          "text": [
            "Correct! You earned 17/17 points. You are a star!\n",
            "\n",
            "Your submission has been successfully recorded in the gradebook.\n"
          ],
          "name": "stdout"
        }
      ]
    }
  ]
}